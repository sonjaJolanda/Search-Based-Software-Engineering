{
 "cells": [
  {
   "cell_type": "markdown",
   "metadata": {
    "slideshow": {
     "slide_type": "slide"
    }
   },
   "source": [
    "# Search-Based Software Engineering Exercise\n",
    "## Exercise 03 - Test Set Generation with Genetic Programming (Teil 1)\n",
    "<center>\n",
    "    \n",
    "    Johannes Dorn (johannes.dorn@informatik.uni-leipzig.de)\n",
    "    Max Weber (max.weber@informatik.uni-leipzig.de)\n",
    "    \n",
    "    Softwaresysteme - Summer Term 2024\n",
    "    \n",
    "</center>\n",
    "<center>\n",
    "    <img src='uni-leipzig.png' style=\"height:5em\" />   <img src='SOSY-Logo.png' style=\"height:5em\" />\n",
    "</center>"
   ]
  },
  {
   "cell_type": "markdown",
   "metadata": {
    "slideshow": {
     "slide_type": "slide"
    }
   },
   "source": [
    "# Context\n",
    "There is an introductory video and a set of slides which should be viewed before continuing with this notebook."
   ]
  },
  {
   "cell_type": "markdown",
   "metadata": {
    "slideshow": {
     "slide_type": "fragment"
    }
   },
   "source": [
    "The goal of this exercise is to implement Test-Set Generation with Genetic Programming."
   ]
  },
  {
   "cell_type": "markdown",
   "metadata": {
    "slideshow": {
     "slide_type": "subslide"
    }
   },
   "source": [
    "# Setup\n",
    "We need these libraries"
   ]
  },
  {
   "cell_type": "code",
   "execution_count": 1,
   "metadata": {
    "slideshow": {
     "slide_type": "fragment"
    }
   },
   "outputs": [
    {
     "name": "stdout",
     "output_type": "stream",
     "text": [
      "\u001b[31mERROR: Can not perform a '--user' install. User site-packages are not visible in this virtualenv.\u001b[0m\u001b[31m\n",
      "\u001b[0m\u001b[31mERROR: Can not perform a '--user' install. User site-packages are not visible in this virtualenv.\u001b[0m\u001b[31m\n",
      "\u001b[0m\u001b[31mERROR: Can not perform a '--user' install. User site-packages are not visible in this virtualenv.\u001b[0m\u001b[31m\n",
      "\u001b[0m"
     ]
    }
   ],
   "source": [
    "! pip install --user fuzzingbook\n",
    "! pip install --user numpy\n",
    "! pip install --user scipy"
   ]
  },
  {
   "cell_type": "markdown",
   "metadata": {
    "slideshow": {
     "slide_type": "slide"
    }
   },
   "source": [
    "## Short Example Class"
   ]
  },
  {
   "cell_type": "code",
   "execution_count": 2,
   "metadata": {
    "slideshow": {
     "slide_type": "fragment"
    }
   },
   "outputs": [],
   "source": [
    "class BreakMe:\n",
    "    def __init__(self, x:float):\n",
    "        if x == 0.0:\n",
    "            raise ValueError('Computations with zero are dangerous! Please choose another number.')\n",
    "        self.x = x\n",
    "        \n",
    "    def substract(self, y:float):\n",
    "        self.x = self.x - y \n",
    "        return self\n",
    "    \n",
    "    def divide(self, y:int):\n",
    "        self.x = y / self.x\n",
    "        return self\n",
    "    \n",
    "    def get_x(self):\n",
    "        return self.x"
   ]
  },
  {
   "cell_type": "markdown",
   "metadata": {
    "slideshow": {
     "slide_type": "subslide"
    }
   },
   "source": [
    "## Execution Coverage"
   ]
  },
  {
   "cell_type": "code",
   "execution_count": 3,
   "metadata": {
    "slideshow": {
     "slide_type": "fragment"
    }
   },
   "outputs": [],
   "source": [
    "from fuzzingbook.Coverage import Coverage, branch_coverage"
   ]
  },
  {
   "cell_type": "code",
   "execution_count": 4,
   "metadata": {
    "slideshow": {
     "slide_type": "fragment"
    }
   },
   "outputs": [],
   "source": [
    "def run(method, *args, **kwargs):\n",
    "    with Coverage() as cov:\n",
    "        try:\n",
    "            result = method(*args, **kwargs)\n",
    "        except:\n",
    "            result = \"FAILED\"\n",
    "    return cov, result"
   ]
  },
  {
   "cell_type": "code",
   "execution_count": 5,
   "metadata": {
    "slideshow": {
     "slide_type": "fragment"
    }
   },
   "outputs": [
    {
     "data": {
      "text/plain": [
       "[('__init__', 3), ('__init__', 5), ('__exit__', 263)]"
      ]
     },
     "execution_count": 5,
     "metadata": {},
     "output_type": "execute_result"
    }
   ],
   "source": [
    "cov, instance = run(BreakMe, 10)\n",
    "cov.trace()"
   ]
  },
  {
   "cell_type": "markdown",
   "metadata": {
    "slideshow": {
     "slide_type": "subslide"
    }
   },
   "source": [
    "### Coverage Metrics"
   ]
  },
  {
   "cell_type": "markdown",
   "metadata": {
    "slideshow": {
     "slide_type": "fragment"
    }
   },
   "source": [
    "#### Statement Coverage"
   ]
  },
  {
   "cell_type": "code",
   "execution_count": 6,
   "metadata": {
    "slideshow": {
     "slide_type": "fragment"
    }
   },
   "outputs": [
    {
     "data": {
      "text/plain": [
       "{('__exit__', 263), ('__init__', 3), ('__init__', 5)}"
      ]
     },
     "execution_count": 6,
     "metadata": {},
     "output_type": "execute_result"
    }
   ],
   "source": [
    "cov.coverage()"
   ]
  },
  {
   "cell_type": "markdown",
   "metadata": {
    "slideshow": {
     "slide_type": "fragment"
    }
   },
   "source": [
    "#### Branch Coverage"
   ]
  },
  {
   "cell_type": "code",
   "execution_count": 7,
   "metadata": {
    "slideshow": {
     "slide_type": "fragment"
    }
   },
   "outputs": [
    {
     "data": {
      "text/plain": [
       "{(('__init__', 3), ('__init__', 5)), (('__init__', 5), ('__exit__', 263))}"
      ]
     },
     "execution_count": 7,
     "metadata": {},
     "output_type": "execute_result"
    }
   ],
   "source": [
    "branch_coverage(cov.trace())"
   ]
  },
  {
   "cell_type": "markdown",
   "metadata": {
    "slideshow": {
     "slide_type": "subslide"
    }
   },
   "source": [
    "## Inspection Code"
   ]
  },
  {
   "cell_type": "code",
   "execution_count": 8,
   "metadata": {
    "slideshow": {
     "slide_type": "fragment"
    }
   },
   "outputs": [],
   "source": [
    "import inspect\n",
    "def get_methods(class_ref):\n",
    "    methods = [method for method in dir(class_ref) if not method.startswith(\"__\") or \"__init__\" in method]\n",
    "    method_dict = {}\n",
    "    for method in methods:\n",
    "        method_dict[method] = {\"params\": {}}\n",
    "        method_ref = getattr(class_ref, method)\n",
    "        m_src = inspect.getsource(method_ref).split(\"\\n\")\n",
    "        method_dict[method][\"src\"] = m_src\n",
    "        method_params = inspect.signature(method_ref).parameters\n",
    "        for param, p_obj in method_params.items():\n",
    "            if param != \"self\":\n",
    "                m_type = p_obj.annotation\n",
    "                method_dict[method][\"params\"][param] = m_type  \n",
    "        method_dict[method][\"n_params\"] = len(method_dict[method][\"params\"])\n",
    "    return method_dict"
   ]
  },
  {
   "cell_type": "code",
   "execution_count": 9,
   "metadata": {
    "scrolled": true,
    "slideshow": {
     "slide_type": "subslide"
    }
   },
   "outputs": [],
   "source": [
    "methods = get_methods(BreakMe)"
   ]
  },
  {
   "cell_type": "code",
   "execution_count": 10,
   "metadata": {
    "slideshow": {
     "slide_type": "fragment"
    }
   },
   "outputs": [
    {
     "data": {
      "text/plain": [
       "{'__init__': {'params': {'x': float},\n",
       "  'src': ['    def __init__(self, x:float):',\n",
       "   '        if x == 0.0:',\n",
       "   \"            raise ValueError('Computations with zero are dangerous! Please choose another number.')\",\n",
       "   '        self.x = x',\n",
       "   ''],\n",
       "  'n_params': 1},\n",
       " 'divide': {'params': {'y': int},\n",
       "  'src': ['    def divide(self, y:int):',\n",
       "   '        self.x = y / self.x',\n",
       "   '        return self',\n",
       "   ''],\n",
       "  'n_params': 1},\n",
       " 'get_x': {'params': {},\n",
       "  'src': ['    def get_x(self):', '        return self.x', ''],\n",
       "  'n_params': 0},\n",
       " 'substract': {'params': {'y': float},\n",
       "  'src': ['    def substract(self, y:float):',\n",
       "   '        self.x = self.x - y ',\n",
       "   '        return self',\n",
       "   ''],\n",
       "  'n_params': 1}}"
      ]
     },
     "execution_count": 10,
     "metadata": {},
     "output_type": "execute_result"
    }
   ],
   "source": [
    "methods"
   ]
  },
  {
   "cell_type": "markdown",
   "metadata": {
    "slideshow": {
     "slide_type": "subslide"
    }
   },
   "source": [
    "### Working with Method Inspection data"
   ]
  },
  {
   "cell_type": "markdown",
   "metadata": {
    "slideshow": {
     "slide_type": "fragment"
    }
   },
   "source": [
    "#### Get data for a specific method"
   ]
  },
  {
   "cell_type": "code",
   "execution_count": 11,
   "metadata": {
    "slideshow": {
     "slide_type": "fragment"
    }
   },
   "outputs": [
    {
     "data": {
      "text/plain": [
       "'substract'"
      ]
     },
     "execution_count": 11,
     "metadata": {},
     "output_type": "execute_result"
    }
   ],
   "source": [
    "target_method = list(methods.keys())[3]\n",
    "target_method"
   ]
  },
  {
   "cell_type": "code",
   "execution_count": 12,
   "metadata": {
    "slideshow": {
     "slide_type": "fragment"
    }
   },
   "outputs": [
    {
     "data": {
      "text/plain": [
       "{'params': {'y': float},\n",
       " 'src': ['    def substract(self, y:float):',\n",
       "  '        self.x = self.x - y ',\n",
       "  '        return self',\n",
       "  ''],\n",
       " 'n_params': 1}"
      ]
     },
     "execution_count": 12,
     "metadata": {},
     "output_type": "execute_result"
    }
   ],
   "source": [
    "methods[target_method]"
   ]
  },
  {
   "cell_type": "code",
   "execution_count": 13,
   "metadata": {
    "slideshow": {
     "slide_type": "fragment"
    }
   },
   "outputs": [
    {
     "data": {
      "text/plain": [
       "type"
      ]
     },
     "execution_count": 13,
     "metadata": {},
     "output_type": "execute_result"
    }
   ],
   "source": [
    "methods[target_method][\"params\"]\n",
    "type(methods[target_method][\"params\"]['y'])"
   ]
  },
  {
   "cell_type": "markdown",
   "metadata": {
    "slideshow": {
     "slide_type": "subslide"
    }
   },
   "source": [
    "#### run method"
   ]
  },
  {
   "cell_type": "code",
   "execution_count": 14,
   "metadata": {},
   "outputs": [
    {
     "data": {
      "text/plain": [
       "<__main__.BreakMe at 0x79d400fd4bb0>"
      ]
     },
     "execution_count": 14,
     "metadata": {},
     "output_type": "execute_result"
    }
   ],
   "source": [
    "method_ref = getattr(instance, target_method)\n",
    "method_ref(2)"
   ]
  },
  {
   "cell_type": "code",
   "execution_count": 15,
   "metadata": {},
   "outputs": [
    {
     "data": {
      "text/plain": [
       "6"
      ]
     },
     "execution_count": 15,
     "metadata": {},
     "output_type": "execute_result"
    }
   ],
   "source": [
    "method_ref(2).get_x()"
   ]
  },
  {
   "cell_type": "code",
   "execution_count": 16,
   "metadata": {
    "slideshow": {
     "slide_type": "fragment"
    }
   },
   "outputs": [
    {
     "data": {
      "text/plain": [
       "(<fuzzingbook.Coverage.Coverage at 0x79d400e24f70>,\n",
       " <__main__.BreakMe at 0x79d400fd4bb0>)"
      ]
     },
     "execution_count": 16,
     "metadata": {},
     "output_type": "execute_result"
    }
   ],
   "source": [
    "erc = 5 # ERC implementation goes here\n",
    "args = [erc]\n",
    "run(method_ref, *args)\n"
   ]
  },
  {
   "cell_type": "markdown",
   "metadata": {
    "slideshow": {
     "slide_type": "subslide"
    }
   },
   "source": [
    "## Introspection vs Reflection in Python"
   ]
  },
  {
   "cell_type": "code",
   "execution_count": 17,
   "metadata": {},
   "outputs": [],
   "source": [
    "import random"
   ]
  },
  {
   "cell_type": "code",
   "execution_count": 18,
   "metadata": {
    "slideshow": {
     "slide_type": "fragment"
    }
   },
   "outputs": [],
   "source": [
    "def run_method_introspec(instance, method, params):\n",
    "    # your code goes here\n",
    "    args = []\n",
    "    for param, p_type in params.items():\n",
    "        arg = random.randint(2, 7) if p_type is int else random.uniform(1, 4)\n",
    "        args.append(arg)\n",
    "    \n",
    "    method_ref = getattr(instance, method)\n",
    "    cov, result = run(method_ref, *args)\n",
    "    print(cov, result)\n",
    "    "
   ]
  },
  {
   "cell_type": "code",
   "execution_count": 19,
   "metadata": {},
   "outputs": [
    {
     "name": "stdout",
     "output_type": "stream",
     "text": [
      "<fuzzingbook.Coverage.Coverage object at 0x79d400e26890> None\n",
      "<fuzzingbook.Coverage.Coverage object at 0x79d400e26890> <__main__.BreakMe object at 0x79d400e26d10>\n",
      "<fuzzingbook.Coverage.Coverage object at 0x79d400e26890> 1.4496454984745704\n",
      "<fuzzingbook.Coverage.Coverage object at 0x79d400e26890> <__main__.BreakMe object at 0x79d400e26d10>\n"
     ]
    }
   ],
   "source": [
    "cov, instance = run(BreakMe, 10)\n",
    "\n",
    "for target_method in list(methods.keys()):\n",
    "    params = methods[target_method][\"params\"]\n",
    "    run_method_introspec(instance, target_method, params)"
   ]
  },
  {
   "cell_type": "code",
   "execution_count": null,
   "metadata": {},
   "outputs": [],
   "source": []
  }
 ],
 "metadata": {
  "celltoolbar": "Slideshow",
  "kernelspec": {
   "display_name": ".sbse24-fuzzing-env",
   "language": "python",
   "name": ".sbse24-fuzzing-env"
  },
  "language_info": {
   "codemirror_mode": {
    "name": "ipython",
    "version": 3
   },
   "file_extension": ".py",
   "mimetype": "text/x-python",
   "name": "python",
   "nbconvert_exporter": "python",
   "pygments_lexer": "ipython3",
   "version": "3.10.12"
  },
  "rise": {
   "enable_chalkboard": true
  }
 },
 "nbformat": 4,
 "nbformat_minor": 4
}
