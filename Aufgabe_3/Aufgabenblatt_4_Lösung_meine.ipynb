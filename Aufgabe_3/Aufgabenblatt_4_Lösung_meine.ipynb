{
 "cells": [
  {
   "cell_type": "markdown",
   "metadata": {},
   "source": [
    "# Search-Based SWEN Exercise\n",
    "## Exercise 04 - Exploitative Multi-State Meta-Heuristics & Representation\n",
    "<center>\n",
    "    \n",
    "    Softwaresysteme - Summer Term 2024\n",
    "\n",
    "    Sonja Klein / 3794693\n",
    "    \n",
    "</center>"
   ]
  },
  {
   "cell_type": "markdown",
   "metadata": {},
   "source": [
    "**Aufgabe 1: Wissen**\n",
    "- a) Was unterscheidet Genetische Algorithmen von Evolutionären Algorithmen?\n",
    "\n",
    "- b) Welche Eigenschaft des Sample Sets garantiert Stochastic Universal Sampling (SUS)? Fertigen Sie eine Skizze an und beschreiben Sie den Algorithmus.\n",
    "\n",
    "- c) Wie unterscheidet sich der Steady-State Genetic Algorithm vom regulären Genetischen Algorithmus?\n",
    "\n",
    "- d) Was unterscheidet den Memetic Algorithm vom regulären Genetischen Algorithmus?\n",
    "\n",
    "- e) Was unterscheidet den Differential Evolution Algorithm vom regulären Genetischen Algorithmus?\n",
    "\n",
    "- f) Wie setzt sich die Update-Formel für die “Velocity” im Particle Swarm Algorithm zusammen?\n",
    "\n",
    "- g) Was beschreiben Genotyp und Phänotyp allgemein im Bereich Genetischer Algorithmen? Beschreiben Sie den Genotyp und Phänotyp für ein Beispiel aus der Natur.\n",
    "\n",
    "- h) Was bezeichnet die Hamming Cliff und warum ist sie problematisch? Erklären Sie anhand eines einfachen Beispiels.\n",
    "\n",
    "- i) Was ist ein Abstract Syntax Tree? Wie unterscheidet er sich von einem Parse Tree?"
   ]
  },
  {
   "cell_type": "markdown",
   "metadata": {},
   "source": [
    "**Aufgabe 2: Exploitative Multi-State Meta-Heuristics**\n",
    "\n",
    "Im Rahmen des Software Engineerings treten häufig Optimierungsprobleme auf, bei denen weder eine klare Zielfunktion vorliegt noch die Bewertung der Lösungsgüte frei von Rauschen ist. In der Vorlesung wurden verschiedene Algorithmen zu Exploitative Multi-State Meta-Heuristics vorgestellt. Implementieren Sie entweder einen Algorithmus mit Elitism, mit Steady-State, den Memetic Algorithm, Scatter Search, oder Differential Evolution. \n",
    "\n",
    "Die Bewertung Ihrer Implementierung erfolgt über Black-Box-Funktionen, die im Moodle-Kurs bereitgestellt werden. Diese Funktionen simulieren die realen Unsicherheiten und Schwierigkeiten, die Sie in praktischen Anwendungen antreffen könnten. Ihr Ziel ist es, das Minimum dieser Funktionen zu ermitteln, wobei Sie ein selbst gewähltes Budget zur Ressourcennutzung festlegen"
   ]
  },
  {
   "cell_type": "markdown",
   "metadata": {},
   "source": [
    "**Aufgabe 3: Introspection**\n",
    "\n",
    "Die Automatisierung im Software-Engineering, insbesondere das automatisierte Debugging und die Generierung von Testsets, ist entscheidend für die Entwicklung robuster und effizienter Softwarelösungen. Eine Voraussetzung für diese Aufgaben ist es, einen unbekannten Quelltext automatisch analysieren und ausführen zu können.\n",
    "\n",
    "Aus diesem Grund sollen Sie in dieser Aufgabe eine Funktion zu entwickeln, die fähig ist, alle Methoden einer beliebigen Klasse automatisch auszuführen. Diese Implementierung soll nicht nur die Methoden und deren Parameter erkennen, sondern auch selbstständig aufrufen können. Lösen Sie dafür folgende Schritte:\n",
    "- a) Implementieren Sie eine Funktion, die einen Typ (Int/Float) erhält und eine valide Instanz des Typs zurückgibt. Hierbei sollen die Grenzwerte [1,17] für Int und [3.2, 4.5] eingehlten werden.\n",
    "- b) Nutzen Sie Ihre Implementierung aus a) um jede Methode der im beiliegenden Jupyter Notebook gegebenen Klasse aufzurufen. Dabei soll die Klasse dynamisch ausgetauscht werden können.\n",
    "\n",
    "Diese Aufgabe dient als Vorarbeit für die Test-Set-Generierung im kommenden Aufgabenblatt."
   ]
  },
  {
   "cell_type": "markdown",
   "metadata": {},
   "source": [
    "**Aufgabe 4: Representation (Teil 1)**\n",
    "\n",
    "Folgendes Szenario ist gegeben: Sie arbeiten in einem Unternehmen, das als Dienstleistung für andere Unternehmen Tests für deren Quelltext schreibt. Als Teil des Innovations-Teams sollen Sie durch den Einsatz eines evolutionären Algorythmus‘ für ein eine gegebene Klasse eine Test-Suite generieren. Ziel ist es, die Zweigabdeckung zu maximieren und die Ausführzeit zu minimieren. Ein zentraler Aspekt des Algorithmus wird die Repräsentation der Test Suite sein. Hierfür gibt es unter anderem folgende Rahmenbedingungen:\n",
    "- Eine Test-Suite beinhaltet eine Abfolge von Testfällen.\n",
    "- Der Konstruktor gilt als Methode.\n",
    "- In einem Testfall muss die Klasse zuerst instanziiert werden.\n",
    "- Ein Testfall ruft eine oder mehrere Methoden einer instanziierten Klasse auf.\n",
    "- Es kann mehrere Testfälle geben, die dieselbe Methode aufrufen.\n",
    "- Die Signatur der Methoden ist bekannt.\n",
    "- Es ist eine Fabrik für jeden Datentyp der Methoden-Signaturen gegeben, die eine gültige, zufällige Instanz liefern. Ausgenommen ist der Konstruktor der gegebenen Klasse.\n",
    "\n",
    ".\n",
    "\n",
    "- a) Beschreiben Sie zwei verschiedene Repräsentationen für eine Test-Suite. Schlagen Sie eine konkrete, möglicherweise zusammengesetzte, Datenstrukturen vor.\n",
    "- c) Beschreiben Sie Mutations-Operatoren für jede Repräsentation aus Aufgabe a).\n",
    "- d) Beschreiben Sie Crossover-Operatoren für jede Repräsentation aus Aufgabe a).\n",
    "- e) Schätzen Sie die Fitnesslandschaften anhand der Mutations-Operatoren für jede Repräsentation aus Aufgabe a) ab. Ergeben sich kleine Änderungen am Phänotypen bzw. der Fitnessfunktion? Ist absehbar, dass mehrere Mutationen gemeinsam auftreten müssten um eine Verbesserung des Phänotypen bzw. der Fitnessfunktion zu bewirken?\n"
   ]
  }
 ],
 "metadata": {
  "kernelspec": {
   "display_name": "Python 3",
   "language": "python",
   "name": "python3"
  },
  "language_info": {
   "codemirror_mode": {
    "name": "ipython",
    "version": 3
   },
   "file_extension": ".py",
   "mimetype": "text/x-python",
   "name": "python",
   "nbconvert_exporter": "python",
   "pygments_lexer": "ipython3",
   "version": "3.12.3"
  },
  "varInspector": {
   "cols": {
    "lenName": 16,
    "lenType": 16,
    "lenVar": 40
   },
   "kernels_config": {
    "python": {
     "delete_cmd_postfix": "",
     "delete_cmd_prefix": "del ",
     "library": "var_list.py",
     "varRefreshCmd": "print(var_dic_list())"
    },
    "r": {
     "delete_cmd_postfix": ") ",
     "delete_cmd_prefix": "rm(",
     "library": "var_list.r",
     "varRefreshCmd": "cat(var_dic_list()) "
    }
   },
   "types_to_exclude": [
    "module",
    "function",
    "builtin_function_or_method",
    "instance",
    "_Feature"
   ],
   "window_display": false
  }
 },
 "nbformat": 4,
 "nbformat_minor": 4
}
