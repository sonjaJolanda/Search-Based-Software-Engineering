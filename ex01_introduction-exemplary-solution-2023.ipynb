{
 "cells": [
  {
   "cell_type": "markdown",
   "metadata": {
    "@deathbeds/jupyterlab-fonts": {
     "styles": {
      "": {
       "body[data-jp-deck-mode='presenting'] &": {
        "height": "2.7848898646343185%",
        "left": "12.20166182575548%",
        "position": "fixed",
        "top": "96.31024096385542%",
        "width": "79.16197404684986%"
       }
      }
     }
    },
    "jupyterlab-deck": {
     "layer": "deck"
    },
    "slideshow": {
     "slide_type": "skip"
    },
    "tags": []
   },
   "source": [
    "<div style='width:100%;height:2em;font-size:100%;'>    <div style='height:2em; float:left; margin:auto; margin-left:1em;'>Search-Based Software Engineering</div>    <img src='uni-leipzig.png' style='height:2em;float:left; margin:auto; margin-left:1em;'>   <img src='SOSY-Logo.png' style='height:2em;float:right; margin:auto; margin-left:1em;'>   <div style='height:2em; float:right; margin:auto; margin-left:1em;'> Johannes Dorn</div></div>"
   ]
  },
  {
   "cell_type": "markdown",
   "metadata": {
    "@deathbeds/jupyterlab-fonts": {
     "styles": {
      "": {
       "body[data-jp-deck-mode='presenting'] &": {
        "height": "19.475401453225007%",
        "left": "2.540895887084863%",
        "position": "fixed",
        "top": "40.26230042239269%",
        "width": "94.91686648355792%"
       }
      }
     }
    },
    "slideshow": {
     "slide_type": "slide"
    },
    "tags": []
   },
   "source": [
    "# Search-Based Software Engineering Exercise\n",
    "## Exercise 01 - Traveling Salesman Problem Introduction\n",
    "<center>\n",
    "    \n",
    "    Johannes Dorn (johannes.dorn@informatik.uni-leipzig.de)\n",
    "    \n",
    "    Softwaresysteme - Summer Term 2023\n",
    "    \n",
    "</center>\n",
    "<center>\n",
    "    <img src='uni-leipzig.png' style=\"height:5em\" >   <img src='SOSY-Logo.png' style=\"height:5em\">\n",
    "    \n",
    "</center>"
   ]
  },
  {
   "cell_type": "markdown",
   "metadata": {
    "slideshow": {
     "slide_type": "subslide"
    }
   },
   "source": [
    "The Traveling Salesman Problem (TSP) is given by the following question:\n",
    "\n",
    "*“Given is a list of cities and distances between each pair of cities - what is the shortest route that visits each city and returns to the original city?”*\n",
    "\n",
    "\n",
    "<center>\n",
    "    <img src='TSP_Deutschland_3.png' style=\"height:15em; margin-top:2em;\" > \n",
    "</center>\n"
   ]
  },
  {
   "cell_type": "markdown",
   "metadata": {
    "slideshow": {
     "slide_type": "subslide"
    }
   },
   "source": [
    "The TSP is an **NP-Hard-Problem** which does not mean an instance of the  problem will be hard to solve.\n",
    "\n",
    "It means, there does not exist an algorithm that produces the best solution in polynomial time.\n",
    "\n",
    "We can not make predictions about how long it might take to find the best solution."
   ]
  },
  {
   "cell_type": "markdown",
   "metadata": {
    "slideshow": {
     "slide_type": "fragment"
    }
   },
   "source": [
    "However, we can find a good solution which might not be the best solution.\n",
    "\n",
    "It is ok to find a route amongst 1000 cities that is only few miles longer than the best route.\n",
    "\n",
    "Particularly, if it would take an inordinate amount amount of computing time to get from our good solution to the best solution."
   ]
  },
  {
   "cell_type": "markdown",
   "metadata": {
    "slideshow": {
     "slide_type": "skip"
    }
   },
   "source": [
    "The Traveling Salesman Problem (TSP) is given by the following question: *“Given is a list of cities and distances between each pair of cities - what is the shortest route that visits each city and returns to the original city?”*\n",
    "\n",
    "The TSP is an **NP-Hard-Problem** which does not mean an instance of the  problem will be hard to solve. It means, there does not exist an algorithm that produces the best solution in polynomial time. We can not make predictions about how long it might take to find the best solution.\n",
    "\n",
    "But, we can find a good solution which might not be the best solution. It is ok to find a route amongst 1000 cities that is only few miles longer than the best route. Particularly, if it would take an inordinate amount amount of computing time to get from our good solution to the best solution."
   ]
  },
  {
   "cell_type": "markdown",
   "metadata": {
    "slideshow": {
     "slide_type": "subslide"
    }
   },
   "source": [
    "## Representation of the Problem"
   ]
  },
  {
   "cell_type": "markdown",
   "metadata": {
    "slideshow": {
     "slide_type": "fragment"
    }
   },
   "source": [
    "<center>\n",
    "<img src=\"./Graph_TSP.png\" style=\"height:7em\" align=\"center\">\n",
    "</center>\n",
    "\n",
    "\n",
    "A TSP can be modelled as an undirected weighted graph:\n",
    "* cities = vertices\n",
    "* paths between cities = edges\n",
    "* distance of a path = weight of an edge"
   ]
  },
  {
   "cell_type": "markdown",
   "metadata": {
    "slideshow": {
     "slide_type": "fragment"
    }
   },
   "source": [
    "This graph can be represented as an **adjacency matrix**:\n",
    "\n",
    "\n",
    "|  \\     | A     | B     | C     | D     |\n",
    "| :---:  | :---: | :---: | :---: | :---: |\n",
    "| **A**  |  0    | 20    | 42    | 35    |\n",
    "| **B**  | 20    | 0     | 30    | 34    |\n",
    "| **C**  | 42    | 30    | 0     | 12    |\n",
    "| **D**  | 35    | 34    | 12    | 0     |"
   ]
  },
  {
   "cell_type": "markdown",
   "metadata": {
    "slideshow": {
     "slide_type": "fragment"
    }
   },
   "source": [
    "But how do we get the distances between cities if we only got the coordinates for each city?"
   ]
  },
  {
   "cell_type": "markdown",
   "metadata": {
    "slideshow": {
     "slide_type": "subslide"
    }
   },
   "source": [
    "### Euclidean Distance"
   ]
  },
  {
   "cell_type": "markdown",
   "metadata": {
    "slideshow": {
     "slide_type": "fragment"
    }
   },
   "source": [
    "Each city is represented by a cartesian koordinate P\n",
    "\n",
    "$ P = (p_x, p_y) $"
   ]
  },
  {
   "cell_type": "markdown",
   "metadata": {
    "slideshow": {
     "slide_type": "fragment"
    }
   },
   "source": [
    "Euclidean distance between two points P<sub>1</sub> = (x<sub>1</sub>, y<sub>1</sub>) and P<sub>2</sub> = (x<sub>2</sub>, y<sub>2</sub>) is:\n",
    "\n",
    "$d(P_{1},P_{2}) = \\sqrt{(x_{1} - x_{2})^2 + (y_{1} - y_{2})^2}$"
   ]
  },
  {
   "cell_type": "code",
   "execution_count": 1,
   "metadata": {
    "slideshow": {
     "slide_type": "slide"
    }
   },
   "outputs": [],
   "source": [
    "from itertools import permutations"
   ]
  },
  {
   "cell_type": "code",
   "execution_count": 2,
   "metadata": {
    "slideshow": {
     "slide_type": "fragment"
    }
   },
   "outputs": [],
   "source": [
    "def distance(p1, p2):\n",
    "    \"\"\"\n",
    "    Returns the Euclidean distance of two points in the Cartesian Plane.\n",
    "\n",
    "    >>> distance([3,4],[0,0])\n",
    "    5.0\n",
    "    \n",
    "    \"\"\"\n",
    "    return ((p1[0] - p2[0])**2 + (p1[1] - p2[1])**2) ** 0.5"
   ]
  },
  {
   "cell_type": "code",
   "execution_count": 3,
   "metadata": {
    "slideshow": {
     "slide_type": "fragment"
    }
   },
   "outputs": [
    {
     "data": {
      "text/plain": [
       "13.038404810405298"
      ]
     },
     "execution_count": 3,
     "metadata": {},
     "output_type": "execute_result"
    }
   ],
   "source": [
    "distance([20,5],[7,6])"
   ]
  },
  {
   "cell_type": "code",
   "execution_count": 4,
   "metadata": {
    "slideshow": {
     "slide_type": "subslide"
    }
   },
   "outputs": [],
   "source": [
    "def total_distance(points):\n",
    "    \"\"\"\n",
    "    Returns the length of the path passing throught\n",
    "    all the points in the given order.\n",
    "\n",
    "    >>> total_distance([[1,2],[4,6]])\n",
    "    5.0\n",
    "    >>> total_distance([[3,6],[7,6],[12,6]])\n",
    "    9.0\n",
    "    \"\"\"\n",
    "    return sum([distance(point, points[index + 1]) for index, point in enumerate(points[:-1])])"
   ]
  },
  {
   "cell_type": "markdown",
   "metadata": {
    "slideshow": {
     "slide_type": "fragment"
    }
   },
   "source": [
    "- keep in mind that \\[:-1\\] means \"all elements if the list without the last\"\n",
    "- *enumerate* is a function to enumerate all elements of a given sequence"
   ]
  },
  {
   "cell_type": "code",
   "execution_count": 5,
   "metadata": {
    "slideshow": {
     "slide_type": "fragment"
    }
   },
   "outputs": [
    {
     "data": {
      "text/plain": [
       "<enumerate at 0x2b373fbf740>"
      ]
     },
     "execution_count": 5,
     "metadata": {},
     "output_type": "execute_result"
    }
   ],
   "source": [
    "# enumerate example\n",
    "seasons = ['spring', 'summer', 'fall', 'winter']\n",
    "enumerate(seasons)"
   ]
  },
  {
   "cell_type": "markdown",
   "metadata": {
    "slideshow": {
     "slide_type": "fragment"
    }
   },
   "source": [
    "Generators: can be lazily evaluated once"
   ]
  },
  {
   "cell_type": "code",
   "execution_count": 6,
   "metadata": {
    "slideshow": {
     "slide_type": "fragment"
    }
   },
   "outputs": [
    {
     "name": "stdout",
     "output_type": "stream",
     "text": [
      "[(0, 'spring'), (1, 'summer'), (2, 'fall'), (3, 'winter')]\n"
     ]
    }
   ],
   "source": [
    "all_seasons_with_numbers = enumerate(seasons)\n",
    "print(list(all_seasons_with_numbers))"
   ]
  },
  {
   "cell_type": "code",
   "execution_count": 7,
   "metadata": {
    "slideshow": {
     "slide_type": "fragment"
    }
   },
   "outputs": [
    {
     "name": "stdout",
     "output_type": "stream",
     "text": [
      "[]\n"
     ]
    }
   ],
   "source": [
    "print(list(all_seasons_with_numbers))"
   ]
  },
  {
   "cell_type": "code",
   "execution_count": 8,
   "metadata": {
    "slideshow": {
     "slide_type": "subslide"
    }
   },
   "outputs": [],
   "source": [
    "def traveling_salesman(points, start = None):\n",
    "    \"\"\"\n",
    "    Finds the shortest route to visit all the cities by bruteforce.\n",
    "    Time complexity is O(N!), so never use on long lists.\n",
    "\n",
    "    >>> traveling_salesman([[0,0],[10,0],[6,0]])\n",
    "    ([0, 0], [6, 0], [10, 0])\n",
    "    >>> traveling_salesman([[0,0],[6,0],[2,3],[3,7],[0.5,9],[3,5],[9,1]])\n",
    "    ([0, 0], [6, 0], [9, 1], [2, 3], [3, 5], [3, 7], [0.5, 9])\n",
    "    \"\"\"\n",
    "    if start is None:\n",
    "        start = points[0]\n",
    "    return min([perm for perm in permutations(points) if perm[0] == start], key = total_distance)"
   ]
  },
  {
   "cell_type": "markdown",
   "metadata": {
    "slideshow": {
     "slide_type": "fragment"
    }
   },
   "source": [
    "**keep in mind that the permutation without repetition creates $ \\frac{n!}{(n-r)!} $ examples**\n",
    "\n",
    "where n is the amount of elements in the set and r is the number of elements we choose from the set\n",
    "\n",
    "That means if we have a list of 4 elements we have 24 possible combinations:\n",
    "\n",
    "$ |perm([a,b,c,d])| = \\frac{4!}{(4-4)!} = \\frac{4!}{0!} = \\frac{4!}{1} = 24 $"
   ]
  },
  {
   "cell_type": "code",
   "execution_count": 9,
   "metadata": {
    "slideshow": {
     "slide_type": "subslide"
    }
   },
   "outputs": [
    {
     "name": "stdout",
     "output_type": "stream",
     "text": [
      "('a', 'b', 'c', 'd')\n",
      "('a', 'b', 'd', 'c')\n",
      "('a', 'c', 'b', 'd')\n",
      "('a', 'c', 'd', 'b')\n",
      "('a', 'd', 'b', 'c')\n",
      "('a', 'd', 'c', 'b')\n",
      "('b', 'a', 'c', 'd')\n",
      "('b', 'a', 'd', 'c')\n",
      "('b', 'c', 'a', 'd')\n",
      "('b', 'c', 'd', 'a')\n",
      "('b', 'd', 'a', 'c')\n",
      "('b', 'd', 'c', 'a')\n",
      "('c', 'a', 'b', 'd')\n",
      "('c', 'a', 'd', 'b')\n",
      "('c', 'b', 'a', 'd')\n",
      "('c', 'b', 'd', 'a')\n",
      "('c', 'd', 'a', 'b')\n",
      "('c', 'd', 'b', 'a')\n",
      "('d', 'a', 'b', 'c')\n",
      "('d', 'a', 'c', 'b')\n",
      "('d', 'b', 'a', 'c')\n",
      "('d', 'b', 'c', 'a')\n",
      "('d', 'c', 'a', 'b')\n",
      "('d', 'c', 'b', 'a')\n"
     ]
    }
   ],
   "source": [
    "# Example for permutations\n",
    "test_list = [\"a\", \"b\", \"c\", \"d\"]\n",
    "test_permutations = permutations(test_list)\n",
    "for test_perm in test_permutations:\n",
    "    print(test_perm)"
   ]
  },
  {
   "cell_type": "markdown",
   "metadata": {
    "slideshow": {
     "slide_type": "fragment"
    }
   },
   "source": [
    "- *permutations* returns tuples with all possible orderings without repeat\n",
    "- function returns minimum of all possible tuples by the help of the function *total_distance* from above"
   ]
  },
  {
   "cell_type": "markdown",
   "metadata": {
    "slideshow": {
     "slide_type": "slide"
    }
   },
   "source": [
    "# How bad could it possibly be?"
   ]
  },
  {
   "cell_type": "code",
   "execution_count": 10,
   "metadata": {
    "slideshow": {
     "slide_type": "subslide"
    }
   },
   "outputs": [
    {
     "data": {
      "text/plain": [
       "13"
      ]
     },
     "execution_count": 10,
     "metadata": {},
     "output_type": "execute_result"
    }
   ],
   "source": [
    "many_points = [\n",
    "    [0, 0],\n",
    "    [1, 5.7],\n",
    "    [2, 3],\n",
    "    [3, 7],\n",
    "    [0.5, 9],\n",
    "    [3, 5],\n",
    "    [9, 1],\n",
    "    [10, 5],\n",
    "    [20, 5],\n",
    "    [12, 12],\n",
    "    [20, 19],\n",
    "    [25, 6],\n",
    "    [23, 7]\n",
    "] \n",
    "len(many_points)"
   ]
  },
  {
   "cell_type": "code",
   "execution_count": 11,
   "metadata": {
    "scrolled": true,
    "slideshow": {
     "slide_type": "subslide"
    }
   },
   "outputs": [
    {
     "name": "stdout",
     "output_type": "stream",
     "text": [
      "calculation time 0:00:00.281527\n",
      "\n",
      "The minimum distance to visit all \n",
      "of the following points:\n",
      "([[0, 0], [1, 5.7], [2, 3], [3, 7], [0.5, 9], [3, 5], [9, 1], [10, 5], [20, 5]],)\n",
      "\n",
      "starting at\n",
      "[0, 0] is 36.358221434159375 and takes this route:\n",
      "([0, 0], [2, 3], [1, 5.7], [0.5, 9], [3, 7], [3, 5], [9, 1], [10, 5], [20, 5])\n"
     ]
    }
   ],
   "source": [
    "import datetime  \n",
    "points = many_points[:9] # try out more than 9 points\n",
    "start = datetime.datetime.now()\n",
    "result = traveling_salesman(points)\n",
    "distance_result = total_distance(result)\n",
    "now = datetime.datetime.now()\n",
    "print(\"calculation time\", now - start)\n",
    "print(f\"\"\"\n",
    "The minimum distance to visit all \n",
    "of the following points:\n",
    "{points,}\n",
    "\n",
    "starting at\n",
    "{points[0]} is {distance_result} and takes this route:\n",
    "{result}\"\"\")"
   ]
  },
  {
   "cell_type": "markdown",
   "metadata": {
    "slideshow": {
     "slide_type": "slide"
    }
   },
   "source": [
    "## Solving TSP with Hill Climbing"
   ]
  },
  {
   "cell_type": "markdown",
   "metadata": {
    "slideshow": {
     "slide_type": "fragment"
    }
   },
   "source": [
    "#### Recap: Hill Climbing"
   ]
  },
  {
   "cell_type": "markdown",
   "metadata": {
    "slideshow": {
     "slide_type": "fragment"
    }
   },
   "source": [
    "Idea:\n",
    "- use only your local solution and evaluate your \n",
    "neighbors to find a better one\n",
    "- repeat this step until no better neighbour exists"
   ]
  },
  {
   "cell_type": "markdown",
   "metadata": {
    "slideshow": {
     "slide_type": "subslide"
    }
   },
   "source": [
    "<center>\n",
    "    <img src='HC.jpg' style=\"width:30%;\" > \n",
    "</center>"
   ]
  },
  {
   "cell_type": "markdown",
   "metadata": {
    "slideshow": {
     "slide_type": "fragment"
    }
   },
   "source": [
    "Pros:\n",
    "- requires few resources (current state and neighbors)\n",
    "- finds local optimum (global is possible)\n",
    "- useful if the search space is huge (even unlimited)"
   ]
  },
  {
   "cell_type": "markdown",
   "metadata": {
    "slideshow": {
     "slide_type": "fragment"
    }
   },
   "source": [
    "Cons:\n",
    "- is prone to get stuck at the top of local maximum and on plateaus\n",
    "- strongly depends on “good” initialization"
   ]
  },
  {
   "cell_type": "markdown",
   "metadata": {
    "slideshow": {
     "slide_type": "subslide"
    }
   },
   "source": [
    "# Essential Steps for each Meta-Heuristic"
   ]
  },
  {
   "cell_type": "markdown",
   "metadata": {
    "slideshow": {
     "slide_type": "fragment"
    }
   },
   "source": [
    "- **Initialization procedure**: Provide one or more initial candidate\n",
    "solutions"
   ]
  },
  {
   "cell_type": "markdown",
   "metadata": {
    "slideshow": {
     "slide_type": "fragment"
    }
   },
   "source": [
    "- **Assessment procedure**: Assess the quality of a candidate\n",
    "solution"
   ]
  },
  {
   "cell_type": "markdown",
   "metadata": {
    "slideshow": {
     "slide_type": "fragment"
    }
   },
   "source": [
    "- Make a **copy** of a candidate solution"
   ]
  },
  {
   "cell_type": "markdown",
   "metadata": {
    "slideshow": {
     "slide_type": "fragment"
    }
   },
   "source": [
    "- **Modification procedure**: Tweak a candidate solution to\n",
    "produce a randomly slightly different candidate solution"
   ]
  },
  {
   "cell_type": "markdown",
   "metadata": {
    "slideshow": {
     "slide_type": "subslide"
    }
   },
   "source": [
    "### Initialization procedure"
   ]
  },
  {
   "cell_type": "code",
   "execution_count": 12,
   "metadata": {
    "slideshow": {
     "slide_type": "fragment"
    }
   },
   "outputs": [],
   "source": [
    "import random\n",
    "def init_random_tour(tour_length):\n",
    "    tour = list(range(tour_length))\n",
    "    random.shuffle(tour)\n",
    "    return tour"
   ]
  },
  {
   "cell_type": "code",
   "execution_count": 13,
   "metadata": {
    "slideshow": {
     "slide_type": "fragment"
    }
   },
   "outputs": [
    {
     "data": {
      "text/plain": [
       "[0, 3, 1, 2]"
      ]
     },
     "execution_count": 13,
     "metadata": {},
     "output_type": "execute_result"
    }
   ],
   "source": [
    "init_random_tour(4)"
   ]
  },
  {
   "cell_type": "markdown",
   "metadata": {
    "slideshow": {
     "slide_type": "slide"
    }
   },
   "source": [
    "## Copy procedure"
   ]
  },
  {
   "cell_type": "code",
   "execution_count": 14,
   "metadata": {
    "slideshow": {
     "slide_type": "fragment"
    }
   },
   "outputs": [],
   "source": [
    "from copy import deepcopy # Copy procedure"
   ]
  },
  {
   "cell_type": "markdown",
   "metadata": {
    "slideshow": {
     "slide_type": "slide"
    }
   },
   "source": [
    "## Assessment procedure"
   ]
  },
  {
   "cell_type": "markdown",
   "metadata": {
    "slideshow": {
     "slide_type": "subslide"
    }
   },
   "source": [
    "#### Adjacency Matrix"
   ]
  },
  {
   "cell_type": "markdown",
   "metadata": {
    "slideshow": {
     "slide_type": "fragment"
    }
   },
   "source": [
    "We will use standard Python lists to represent a route through our collection of cities. Each city will simply be assigned to a number from 0 to N-1 where N is the number of cities. Therefore, our list of cities will be a list of unique numbers between 0 and N-1"
   ]
  },
  {
   "cell_type": "markdown",
   "metadata": {
    "slideshow": {
     "slide_type": "fragment"
    }
   },
   "source": [
    "We also need to specify a \"distance matrix\" that we can use to keep track of distances between cities. To generate a distance matrix for a set of (x,y) coordinates we will use the following function:"
   ]
  },
  {
   "cell_type": "code",
   "execution_count": 15,
   "metadata": {
    "slideshow": {
     "slide_type": "fragment"
    }
   },
   "outputs": [],
   "source": [
    "def cartesian_matrix(coordinates):\n",
    "    '''\n",
    "    Creates a distance matrix for the city coords using straight line distances\n",
    "    computed by the Euclidean distance of two points in the Cartesian Plane.\n",
    "    '''\n",
    "    matrix = {}\n",
    "    for i, p1 in enumerate(coordinates):\n",
    "        for j, p2 in enumerate(coordinates):\n",
    "            matrix[i,j] = distance(p1,p2)\n",
    "    return matrix"
   ]
  },
  {
   "cell_type": "markdown",
   "metadata": {
    "slideshow": {
     "slide_type": "subslide"
    }
   },
   "source": [
    "This function takes a list of (x,y) tuples and outputs a dictionary that contains the distance between any pair of cities:"
   ]
  },
  {
   "cell_type": "code",
   "execution_count": 16,
   "metadata": {
    "slideshow": {
     "slide_type": "fragment"
    }
   },
   "outputs": [
    {
     "name": "stdout",
     "output_type": "stream",
     "text": [
      "(0, 0) 0.0\n",
      "(0, 1) 1.0\n",
      "(0, 2) 1.4142135623730951\n",
      "(1, 0) 1.0\n",
      "(1, 1) 0.0\n",
      "(1, 2) 1.0\n",
      "(2, 0) 1.4142135623730951\n",
      "(2, 1) 1.0\n",
      "(2, 2) 0.0\n"
     ]
    }
   ],
   "source": [
    "m = cartesian_matrix([(0,0), (1,0), (1,1)])\n",
    "for k, v in m.items():\n",
    "    print(k, v)"
   ]
  },
  {
   "cell_type": "code",
   "execution_count": 17,
   "metadata": {
    "slideshow": {
     "slide_type": "fragment"
    }
   },
   "outputs": [
    {
     "data": {
      "text/plain": [
       "1.4142135623730951"
      ]
     },
     "execution_count": 17,
     "metadata": {},
     "output_type": "execute_result"
    }
   ],
   "source": [
    "m[0,2]"
   ]
  },
  {
   "cell_type": "markdown",
   "metadata": {
    "slideshow": {
     "slide_type": "fragment"
    }
   },
   "source": [
    "\\[2,0\\] gives the distance between the city with number 2 and the city with  number 0.\n",
    "In our case the result of \\[2,0\\] is the same for \\[0,2\\], but for other TSPs this may not be the case (for example if a street between two cities is only one way - we have to take another route)"
   ]
  },
  {
   "cell_type": "markdown",
   "metadata": {
    "slideshow": {
     "slide_type": "subslide"
    }
   },
   "source": [
    "#### Read City Coordinates from File"
   ]
  },
  {
   "cell_type": "code",
   "execution_count": 18,
   "metadata": {
    "slideshow": {
     "slide_type": "fragment"
    }
   },
   "outputs": [],
   "source": [
    "def read_coords(file_handle):\n",
    "    coords = []\n",
    "    for line in file_handle:\n",
    "        x,y = line.strip().split(',')\n",
    "        coords.append((float(x), float(y)))\n",
    "    return coords\n",
    "\n",
    "with open('Aufgabe_1/city100.txt', 'r') as coord_file:\n",
    "    coords = read_coords(coord_file)\n",
    "matrix = cartesian_matrix(coords)"
   ]
  },
  {
   "cell_type": "markdown",
   "metadata": {
    "slideshow": {
     "slide_type": "fragment"
    }
   },
   "source": [
    "On real world problems it may be more complicated to generate a distance matrix - you might need to take a map and calculate the real distances between cities."
   ]
  },
  {
   "cell_type": "markdown",
   "metadata": {
    "slideshow": {
     "slide_type": "subslide"
    }
   },
   "source": [
    "#### Compute the Total Distance"
   ]
  },
  {
   "cell_type": "code",
   "execution_count": 19,
   "metadata": {
    "slideshow": {
     "slide_type": "fragment"
    }
   },
   "outputs": [],
   "source": [
    "def tour_length(matrix, tour):\n",
    "    \"\"\"Sum up the total length of the tour based on the distance matrix\"\"\"\n",
    "    result = 0\n",
    "    num_cities = len(list(tour))\n",
    "    for i in range(num_cities):\n",
    "        j = (i+1) % num_cities\n",
    "        city_i = tour[i]\n",
    "        city_j = tour[j]\n",
    "        result += matrix[city_i, city_j]\n",
    "    return result"
   ]
  },
  {
   "cell_type": "code",
   "execution_count": 20,
   "metadata": {
    "slideshow": {
     "slide_type": "fragment"
    }
   },
   "outputs": [
    {
     "data": {
      "text/plain": [
       "27811.450160441407"
      ]
     },
     "execution_count": 20,
     "metadata": {},
     "output_type": "execute_result"
    }
   ],
   "source": [
    "import numpy as np\n",
    "rnd_route = init_random_tour(100)\n",
    "tour_length(matrix, rnd_route)"
   ]
  },
  {
   "cell_type": "markdown",
   "metadata": {
    "slideshow": {
     "slide_type": "subslide"
    }
   },
   "source": [
    "#### Modification procedure"
   ]
  },
  {
   "cell_type": "markdown",
   "metadata": {
    "slideshow": {
     "slide_type": "fragment"
    }
   },
   "source": [
    "We will implement the two tweak operators as generator functions that will return all possible versions of a route that can be made in one step of the generator (in a random order)."
   ]
  },
  {
   "cell_type": "markdown",
   "metadata": {
    "slideshow": {
     "slide_type": "fragment"
    }
   },
   "source": [
    "Generators are iterators which can be only iterated once.\n",
    "They generate values on the fly and do not store them in memory.\n",
    "By using a generator function, we can get each possiblility and perhaps decide to not generate any more variations.\n",
    "This saves the overhead of generating all combinations at once."
   ]
  },
  {
   "cell_type": "code",
   "execution_count": 21,
   "metadata": {
    "slideshow": {
     "slide_type": "fragment"
    }
   },
   "outputs": [],
   "source": [
    "def all_pairs(size, shuffle = random.shuffle):\n",
    "    r1 = list(range(size))\n",
    "    r2 = list(range(size))\n",
    "    if shuffle:\n",
    "        shuffle(r1)\n",
    "        shuffle(r2)\n",
    "    for i in r1:\n",
    "        for j in r2:\n",
    "            yield(i,j) # yield is an iterator function\n",
    "            # for each call of the generator it returns the next value in yield"
   ]
  },
  {
   "cell_type": "code",
   "execution_count": 22,
   "metadata": {
    "slideshow": {
     "slide_type": "subslide"
    }
   },
   "outputs": [],
   "source": [
    "import random\n",
    "\n",
    "def all_pairs(size, shuffle = random.shuffle):\n",
    "    r1 = list(range(size))\n",
    "    r2 = list(range(size))\n",
    "    if shuffle:\n",
    "        shuffle(r1)\n",
    "        shuffle(r2)\n",
    "    for i in r1:\n",
    "        for j in r2:\n",
    "            yield(i,j) # yield is an iterator function\n",
    "            # for each call of the generator it returns the next value in yield"
   ]
  },
  {
   "cell_type": "code",
   "execution_count": 23,
   "metadata": {
    "scrolled": true,
    "slideshow": {
     "slide_type": "fragment"
    }
   },
   "outputs": [
    {
     "data": {
      "text/plain": [
       "range(0, 5)"
      ]
     },
     "execution_count": 23,
     "metadata": {},
     "output_type": "execute_result"
    }
   ],
   "source": [
    "range(5)"
   ]
  },
  {
   "cell_type": "code",
   "execution_count": 24,
   "metadata": {
    "slideshow": {
     "slide_type": "fragment"
    }
   },
   "outputs": [
    {
     "data": {
      "text/plain": [
       "<generator object all_pairs at 0x000002B373F68F40>"
      ]
     },
     "execution_count": 24,
     "metadata": {},
     "output_type": "execute_result"
    }
   ],
   "source": [
    "all_pairs(3)"
   ]
  },
  {
   "cell_type": "code",
   "execution_count": 25,
   "metadata": {
    "slideshow": {
     "slide_type": "fragment"
    }
   },
   "outputs": [
    {
     "data": {
      "text/plain": [
       "[(0, 1), (0, 0), (0, 2), (1, 1), (1, 0), (1, 2), (2, 1), (2, 0), (2, 2)]"
      ]
     },
     "execution_count": 25,
     "metadata": {},
     "output_type": "execute_result"
    }
   ],
   "source": [
    "list(all_pairs(3))"
   ]
  },
  {
   "cell_type": "code",
   "execution_count": 26,
   "metadata": {
    "scrolled": true,
    "slideshow": {
     "slide_type": "subslide"
    }
   },
   "outputs": [],
   "source": [
    "# Tweak 1\n",
    "def swapped_cities(tour):\n",
    "    \"\"\"\n",
    "    Generator to create all possible variations where two \n",
    "    cities have been swapped\n",
    "    \"\"\"\n",
    "    ap = all_pairs(len(tour))\n",
    "    for i,j in ap:\n",
    "        if i < j:\n",
    "            copy = deepcopy(tour)\n",
    "            copy[i], copy[j] = tour[j], tour[i]\n",
    "            yield copy"
   ]
  },
  {
   "cell_type": "code",
   "execution_count": 27,
   "metadata": {
    "slideshow": {
     "slide_type": "fragment"
    }
   },
   "outputs": [
    {
     "name": "stdout",
     "output_type": "stream",
     "text": [
      "start tour swap: [1, 2, 3, 4]\n",
      "[1, 2, 4, 3]\n",
      "[1, 4, 3, 2]\n",
      "[1, 3, 2, 4]\n",
      "[2, 1, 3, 4]\n",
      "[4, 2, 3, 1]\n",
      "[3, 2, 1, 4]\n"
     ]
    }
   ],
   "source": [
    "print(\"start tour swap:\",[1,2,3,4])\n",
    "for tour in swapped_cities([1,2,3,4]):\n",
    "    print(tour)"
   ]
  },
  {
   "cell_type": "code",
   "execution_count": 28,
   "metadata": {
    "slideshow": {
     "slide_type": "subslide"
    }
   },
   "outputs": [],
   "source": [
    "# Tweak 2\n",
    "def reversed_sections(tour):\n",
    "    \"\"\"\n",
    "    Generator to return all possible variations where the\n",
    "    section between two cities are swapped.\n",
    "    It preserves entire sections of a route,\n",
    "    yet still affects the ordering of multiple cities in one go.\n",
    "    \"\"\"\n",
    "    ap = all_pairs(len(tour))\n",
    "    for i,j in ap:\n",
    "        if i != j:\n",
    "            #print(\"indices from:\",i, \"to\", j)\n",
    "            copy = deepcopy(tour)\n",
    "            if i < j:\n",
    "                copy[i:j+1] = reversed(tour[i:j+1])\n",
    "            else:\n",
    "                copy[i+1:] = reversed(tour[:j])\n",
    "                copy[:j] = reversed(tour[i+1:])\n",
    "            if copy != tour: # not returning same tour\n",
    "                yield copy"
   ]
  },
  {
   "cell_type": "code",
   "execution_count": 29,
   "metadata": {
    "scrolled": true,
    "slideshow": {
     "slide_type": "fragment"
    }
   },
   "outputs": [
    {
     "name": "stdout",
     "output_type": "stream",
     "text": [
      "start tour reverse section: [1, 2, 3, 4]\n",
      "[2, 1, 3, 4]\n",
      "[3, 2, 1, 4]\n",
      "[4, 3, 2, 1]\n",
      "[4, 3, 1, 2]\n",
      "[1, 3, 2, 4]\n",
      "[1, 4, 3, 2]\n",
      "[4, 1, 2, 3]\n",
      "[4, 2, 3, 1]\n",
      "[1, 2, 4, 3]\n",
      "[2, 3, 4, 1]\n",
      "[3, 4, 2, 1]\n"
     ]
    }
   ],
   "source": [
    "print(\"start tour reverse section:\",[1,2,3,4])\n",
    "for tour in reversed_sections([1,2,3,4]):\n",
    "    print(tour)"
   ]
  },
  {
   "cell_type": "markdown",
   "metadata": {
    "slideshow": {
     "slide_type": "slide"
    }
   },
   "source": [
    "### Getting Started with Hill Climbing"
   ]
  },
  {
   "cell_type": "markdown",
   "metadata": {
    "slideshow": {
     "slide_type": "fragment"
    }
   },
   "source": [
    "To start with Hill Climbing, we need two functions:\n",
    "- init function that returns a random solution\n",
    "- objective function that tells us how \"good\" a solution is\n",
    "\n",
    "For the TSP, an init function will just return a tour of correct length that has cities aranged in random order.\n",
    "\n",
    "The objective function will return the length of a tour.\n",
    "\n",
    "We need to ensure that init function takes no arguments and returns a tour of the correct length and the objective function takes one argument (the solution tour) and returns its length.\n",
    "\n",
    "Assume we have the city coordinates in a variable *coords* and our distance matrix in *matrix*, we can define the objective function and init function by using *init_random_tour*:"
   ]
  },
  {
   "cell_type": "code",
   "execution_count": 30,
   "metadata": {
    "slideshow": {
     "slide_type": "fragment"
    }
   },
   "outputs": [],
   "source": [
    "init_function = lambda: init_random_tour(len(coords))\n",
    "objective_function = lambda tour: tour_length(matrix, tour)"
   ]
  },
  {
   "cell_type": "markdown",
   "metadata": {
    "slideshow": {
     "slide_type": "subslide"
    }
   },
   "source": [
    "#### Short Explanation of Lambda Functions\n",
    "is the creation of an anonymous function\n",
    "- lambda definition does not include a return statement\n",
    "- it always contains an expression which is returned\n",
    "- you can put a lambda definition anywhere a function is expected\n",
    "- you don't have to assign it to a variable"
   ]
  },
  {
   "cell_type": "code",
   "execution_count": 31,
   "metadata": {
    "slideshow": {
     "slide_type": "fragment"
    }
   },
   "outputs": [
    {
     "name": "stdout",
     "output_type": "stream",
     "text": [
      "25\n",
      "25\n"
     ]
    }
   ],
   "source": [
    "# normal function definition\n",
    "def f(x): return x**2\n",
    "\n",
    "# lambda function definition\n",
    "g = lambda x: x**2\n",
    "print(f(5))\n",
    "print(g(5))"
   ]
  },
  {
   "cell_type": "markdown",
   "metadata": {
    "slideshow": {
     "slide_type": "slide"
    }
   },
   "source": [
    "## Basic Hill Climbing"
   ]
  },
  {
   "cell_type": "code",
   "execution_count": 32,
   "metadata": {
    "slideshow": {
     "slide_type": "fragment"
    }
   },
   "outputs": [],
   "source": [
    "def hc(init_function, move_operator, objective_function, max_evaluations, history=None):\n",
    "    '''\n",
    "    Hillclimb until either max_evaluations is \n",
    "    reached or we are at a local optimum.\n",
    "    '''\n",
    "    best = init_function()\n",
    "    best_score = objective_function(best)\n",
    "    \n",
    "    num_evaluations = 1\n",
    "    \n",
    "    while num_evaluations < max_evaluations:\n",
    "        # move around the current position\n",
    "        move_made = False\n",
    "        for candidate in move_operator(best):\n",
    "            if num_evaluations >= max_evaluations:\n",
    "                break\n",
    "            \n",
    "            candidate_score = objective_function(candidate)\n",
    "            num_evaluations += 1\n",
    "            if candidate_score < best_score:\n",
    "                best = candidate\n",
    "                best_score = candidate_score\n",
    "                move_made = True\n",
    "                break # depth first search\n",
    "            if history:\n",
    "                history.log(best, candidate)\n",
    "        if not move_made:\n",
    "            break # couldn't find better move - must be a local max\n",
    "    return (num_evaluations, best_score, best)"
   ]
  },
  {
   "cell_type": "markdown",
   "metadata": {
    "slideshow": {
     "slide_type": "subslide"
    },
    "tags": []
   },
   "source": [
    "### Basic plotting\n",
    "do not change unless you want to"
   ]
  },
  {
   "cell_type": "code",
   "execution_count": 33,
   "metadata": {
    "slideshow": {
     "slide_type": "fragment"
    }
   },
   "outputs": [],
   "source": [
    "from IPython.display import HTML, display, clear_output, update_display\n",
    "from PIL import Image, ImageDraw, ImageFont\n",
    "import random\n",
    "import time"
   ]
  },
  {
   "cell_type": "code",
   "execution_count": 34,
   "metadata": {
    "slideshow": {
     "slide_type": "subslide"
    },
    "tags": []
   },
   "outputs": [],
   "source": [
    "class History:\n",
    "    def __init__(self, plot_slowdown=0.0001):\n",
    "        self.tours = []\n",
    "        self.last_plot = time.time()\n",
    "        self.plot_slowdown = plot_slowdown\n",
    "        \n",
    "    def first_log(self):\n",
    "        return len(self.tours) == 0\n",
    "        \n",
    "    def log(self, best, candidate):\n",
    "        if not self.tours or time.time() - self.last_plot > 1:\n",
    "            filename = \"test\"+str(max_evaluations)+\".PNG\"\n",
    "            tours={\"black\":candidate, \"red\": best}\n",
    "            self.write_tours_to_img(coords, tours, filename, open(filename, \"ab\"))\n",
    "            self.tours.append(best)\n",
    "            self.last_plot = time.time()\n",
    "        elif self.plot_slowdown:\n",
    "            time.sleep(self.plot_slowdown)\n",
    "\n",
    "    def write_tours_to_img(self, coords, tours, title, img_file):\n",
    "        coords = deepcopy(coords)\n",
    "        padding = 20\n",
    "        # shift all coords a bit inwards\n",
    "        coords = [(x+padding,y+padding) for (x,y) in coords]\n",
    "        maxx, maxy = 0,0\n",
    "        for x,y in coords:\n",
    "            maxx = max(x,maxx)\n",
    "            maxy = max(y,maxy)\n",
    "        maxx += padding\n",
    "        maxy += padding\n",
    "        img = Image.new(\"RGB\",(int(maxx), int(maxy)), color=(255,255,255))\n",
    "\n",
    "        font=ImageFont.load_default()\n",
    "        d=ImageDraw.Draw(img);\n",
    "        for color, tour in tours.items():\n",
    "            num_cities = len(tour)\n",
    "            for i in range(num_cities):\n",
    "                j = (i+1) % num_cities\n",
    "                city_i = tour[i]\n",
    "                city_j = tour[j]\n",
    "                x1,y1 = coords[city_i]\n",
    "                x2,y2 = coords[city_j]\n",
    "                d.line((int(x1), int(y1), int(x2), int(y2)), fill=color)\n",
    "                #d.text((int(x1)+7, int(y1)-5), str(i), font=font, fill=(32,32,32))\n",
    "\n",
    "        for x,y in coords:\n",
    "            x,y = int(x), int(y)\n",
    "            d.ellipse((x-5, y-5, x+5, y+5), outline=(0,0,0), fill=(196,196,196))\n",
    "\n",
    "        del d\n",
    "        display_id = title\n",
    "        if self.first_log():\n",
    "            display(img, display_id=display_id)\n",
    "        else:\n",
    "            update_display(img, display_id=display_id, clear=False)\n",
    "        if self.plot_slowdown:\n",
    "            time.sleep(self.plot_slowdown)        "
   ]
  },
  {
   "cell_type": "code",
   "execution_count": 35,
   "metadata": {
    "slideshow": {
     "slide_type": "subslide"
    }
   },
   "outputs": [],
   "source": [
    "def do_hc_evaluations(evaluations , move_operator = swapped_cities, plot_slowdown=0):\n",
    "    max_evaluations = evaluations\n",
    "    then = datetime.datetime.now()\n",
    "    history = History(plot_slowdown=plot_slowdown)\n",
    "    num_evaluations, best_score, best = hc(init_function, move_operator, objective_function, max_evaluations, history=history)\n",
    "    now = datetime.datetime.now()\n",
    "    print(\"computation time \", now - then)\n",
    "    print(\"best score:\", best_score)\n",
    "    print(\"best route:\", best)"
   ]
  },
  {
   "cell_type": "markdown",
   "metadata": {
    "slideshow": {
     "slide_type": "slide"
    }
   },
   "source": [
    "## Time to test it all out!"
   ]
  },
  {
   "cell_type": "code",
   "execution_count": 36,
   "metadata": {
    "slideshow": {
     "slide_type": "subslide"
    }
   },
   "outputs": [
    {
     "data": {
      "image/jpeg": "[encoded data removed]",
      "image/png": "[encoded data removed]",
      "text/plain": [
       "<PIL.Image.Image image mode=RGB size=539x525>"
      ]
     },
     "metadata": {},
     "output_type": "display_data"
    },
    {
     "name": "stdout",
     "output_type": "stream",
     "text": [
      "computation time  0:00:04.964009\n",
      "best score: 18808.154716834633\n",
      "best route: [82, 42, 83, 10, 9, 14, 48, 37, 20, 68, 95, 75, 86, 67, 28, 15, 39, 54, 79, 21, 17, 27, 43, 35, 57, 74, 78, 63, 88, 6, 45, 13, 26, 16, 38, 8, 46, 24, 29, 98, 91, 99, 66, 77, 22, 50, 44, 69, 87, 33, 25, 93, 60, 53, 61, 51, 47, 62, 23, 3, 90, 65, 55, 72, 5, 92, 89, 40, 80, 32, 84, 56, 31, 85, 71, 94, 81, 30, 19, 18, 36, 34, 96, 58, 12, 64, 59, 7, 70, 2, 76, 52, 11, 4, 49, 97, 41, 1, 0, 73]\n"
     ]
    }
   ],
   "source": [
    "move_operator = swapped_cities\n",
    "#move_operator = reversed_sections\n",
    "max_evaluations = 500\n",
    "#do_hc_evaluations(max_evaluations,move_operator) \n",
    "do_hc_evaluations(max_evaluations,move_operator, plot_slowdown=10e-3)"
   ]
  },
  {
   "cell_type": "code",
   "execution_count": 37,
   "metadata": {
    "slideshow": {
     "slide_type": "subslide"
    }
   },
   "outputs": [
    {
     "data": {
      "image/jpeg": "[encoded data removed]",
      "image/png": "[encoded data removed]",
      "text/plain": [
       "<PIL.Image.Image image mode=RGB size=539x525>"
      ]
     },
     "metadata": {},
     "output_type": "display_data"
    },
    {
     "name": "stdout",
     "output_type": "stream",
     "text": [
      "computation time  0:00:03.354561\n",
      "best score: 10416.576905473541\n",
      "best route: [86, 56, 70, 98, 12, 93, 2, 40, 25, 99, 39, 19, 8, 85, 4, 80, 97, 78, 26, 16, 54, 41, 11, 62, 43, 14, 22, 67, 96, 30, 9, 34, 31, 79, 88, 36, 61, 64, 6, 37, 72, 95, 58, 45, 13, 52, 77, 69, 60, 81, 66, 68, 92, 10, 18, 21, 82, 87, 46, 91, 27, 44, 5, 0, 35, 23, 84, 65, 15, 94, 55, 76, 32, 90, 1, 63, 83, 28, 20, 50, 38, 49, 74, 59, 57, 7, 42, 75, 53, 71, 47, 3, 51, 48, 17, 29, 89, 24, 33, 73]\n"
     ]
    }
   ],
   "source": [
    "move_operator = swapped_cities\n",
    "#move_operator = reversed_sections\n",
    "max_evaluations = 5000\n",
    "#do_hc_evaluations(max_evaluations,move_operator)\n",
    "do_hc_evaluations(max_evaluations,move_operator, plot_slowdown=50e-5)"
   ]
  },
  {
   "cell_type": "code",
   "execution_count": 38,
   "metadata": {
    "slideshow": {
     "slide_type": "subslide"
    }
   },
   "outputs": [
    {
     "data": {
      "image/jpeg": "[encoded data removed]",
      "image/png": "[encoded data removed]",
      "text/plain": [
       "<PIL.Image.Image image mode=RGB size=539x525>"
      ]
     },
     "metadata": {},
     "output_type": "display_data"
    },
    {
     "name": "stdout",
     "output_type": "stream",
     "text": [
      "computation time  0:00:03.579918\n",
      "best score: 6154.958086131059\n",
      "best route: [5, 68, 0, 35, 39, 50, 31, 79, 20, 82, 60, 69, 44, 99, 9, 30, 56, 86, 73, 34, 21, 10, 8, 43, 49, 62, 64, 11, 13, 6, 45, 58, 55, 76, 72, 37, 95, 94, 32, 15, 71, 53, 52, 47, 48, 51, 65, 84, 54, 3, 90, 97, 36, 61, 18, 22, 88, 67, 38, 96, 23, 1, 63, 41, 16, 78, 26, 19, 14, 59, 57, 28, 4, 83, 74, 85, 80, 12, 75, 2, 93, 91, 40, 70, 27, 17, 24, 89, 29, 81, 46, 33, 87, 7, 42, 25, 98, 77, 66, 92]\n"
     ]
    }
   ],
   "source": [
    "#move_operator = swapped_cities\n",
    "move_operator = reversed_sections\n",
    "max_evaluations = 5000\n",
    "do_hc_evaluations(max_evaluations,move_operator, plot_slowdown=50e-5)"
   ]
  },
  {
   "cell_type": "markdown",
   "metadata": {
    "slideshow": {
     "slide_type": "slide"
    }
   },
   "source": [
    "## Bonus: Helper Methods & Declarations"
   ]
  },
  {
   "cell_type": "markdown",
   "metadata": {
    "slideshow": {
     "slide_type": "fragment"
    }
   },
   "source": [
    "The following cells help deciding if an algorithm A is better than another algorithm B."
   ]
  },
  {
   "cell_type": "code",
   "execution_count": 39,
   "metadata": {
    "slideshow": {
     "slide_type": "subslide"
    }
   },
   "outputs": [],
   "source": [
    "import time\n",
    "def get_reps(alg, n_reps, *args, **kwargs):\n",
    "    times = []\n",
    "    scores = []\n",
    "    for i in range(n_reps):\n",
    "        np.random.seed(i)\n",
    "        then = time.time()\n",
    "        num_evaluations, best_score, best = alg(*args, **kwargs)\n",
    "        now = time.time()\n",
    "        time_cost = now - then\n",
    "        times.append(time_cost)\n",
    "        scores.append(best_score)\n",
    "    return times, scores"
   ]
  },
  {
   "cell_type": "code",
   "execution_count": 40,
   "metadata": {
    "slideshow": {
     "slide_type": "fragment"
    }
   },
   "outputs": [],
   "source": [
    "def a12(lst1,lst2,rev=True):\n",
    "    \"how often is x in lst1 more than y in lst2?\"\n",
    "    more = same = 0.0\n",
    "    for x in lst1:\n",
    "        for y in lst2:\n",
    "            if   x==y : same += 1\n",
    "            elif rev     and x > y : more += 1\n",
    "            elif not rev and x < y : more += 1\n",
    "    return (more + 0.5*same)  / (len(lst1)*len(lst2))"
   ]
  },
  {
   "cell_type": "code",
   "execution_count": 41,
   "metadata": {
    "slideshow": {
     "slide_type": "fragment"
    }
   },
   "outputs": [],
   "source": [
    "# decrease these values for quicker results\n",
    "max_evaluations = 2000\n",
    "n_reps = 30"
   ]
  },
  {
   "cell_type": "code",
   "execution_count": 42,
   "metadata": {
    "slideshow": {
     "slide_type": "subslide"
    }
   },
   "outputs": [],
   "source": [
    "hc_swapping_times, hc_swapping_scores = get_reps(hc, n_reps, init_function, swapped_cities, objective_function, max_evaluations)"
   ]
  },
  {
   "cell_type": "code",
   "execution_count": 43,
   "metadata": {
    "slideshow": {
     "slide_type": "fragment"
    }
   },
   "outputs": [],
   "source": [
    "hc_reversing_times, hc_reversing_scores = get_reps(hc, n_reps, init_function, reversed_sections, objective_function, max_evaluations)"
   ]
  },
  {
   "cell_type": "code",
   "execution_count": 44,
   "metadata": {
    "slideshow": {
     "slide_type": "fragment"
    }
   },
   "outputs": [],
   "source": [
    "import scipy.stats as sps\n",
    "from matplotlib import pyplot as plt\n",
    "def short_stats(a,b):\n",
    "    plt.hist(a, color=\"k\", label=\"first\")\n",
    "    plt.hist(b, color=\"r\", label=\"second\")\n",
    "    plt.legend()\n",
    "    _, p = sps.mannwhitneyu(a, b)\n",
    "    if p > 0.05:\n",
    "        print(\"No significant difference (p= {} > 0.05)\".format(p))\n",
    "    else:\n",
    "        print(\"Found significant difference with p={} (lower ist better)\".format(p))\n",
    "        chance = a12(a, b, rev=False)\n",
    "        print(\"First is better with chance {}\".format(chance))"
   ]
  },
  {
   "cell_type": "code",
   "execution_count": 45,
   "metadata": {
    "scrolled": true,
    "slideshow": {
     "slide_type": "subslide"
    }
   },
   "outputs": [
    {
     "name": "stdout",
     "output_type": "stream",
     "text": [
      "Found significant difference with p=3.019859359162157e-11 (lower ist better)\n",
      "First is better with chance 0.0\n"
     ]
    },
    {
     "data": {
      "image/png": "[encoded data removed]",
      "text/plain": [
       "<Figure size 640x480 with 1 Axes>"
      ]
     },
     "metadata": {},
     "output_type": "display_data"
    }
   ],
   "source": [
    "short_stats(hc_swapping_scores, hc_reversing_scores)"
   ]
  },
  {
   "cell_type": "markdown",
   "metadata": {
    "slideshow": {
     "slide_type": "slide"
    }
   },
   "source": [
    "## Next: your turn on the exercise sheet"
   ]
  },
  {
   "cell_type": "markdown",
   "metadata": {
    "slideshow": {
     "slide_type": "slide"
    }
   },
   "source": [
    "# Exemplary Solutions"
   ]
  },
  {
   "cell_type": "markdown",
   "metadata": {
    "slideshow": {
     "slide_type": "subslide"
    }
   },
   "source": [
    "## Dummy Baseline: Random Sampling"
   ]
  },
  {
   "cell_type": "code",
   "execution_count": 46,
   "metadata": {
    "slideshow": {
     "slide_type": "fragment"
    }
   },
   "outputs": [],
   "source": [
    "def random_dummy(init_function, max_evaluations):\n",
    "    S = init_function()\n",
    "    S_score = objective_function(S)\n",
    "    evals = 1\n",
    "    while evals < max_evaluations:\n",
    "        neighbours_S = init_function()\n",
    "        R = init_function()\n",
    "        R_score = objective_function(R)\n",
    "        evals += 1\n",
    "        if(R_score < S_score):\n",
    "            S = R\n",
    "            S_score = R_score\n",
    "    return (evals, S_score, S)"
   ]
  },
  {
   "cell_type": "code",
   "execution_count": 47,
   "metadata": {
    "slideshow": {
     "slide_type": "subslide"
    }
   },
   "outputs": [],
   "source": [
    "random_times, random_scores = get_reps(random_dummy, n_reps, init_function, max_evaluations)"
   ]
  },
  {
   "cell_type": "code",
   "execution_count": 48,
   "metadata": {
    "slideshow": {
     "slide_type": "fragment"
    }
   },
   "outputs": [
    {
     "name": "stdout",
     "output_type": "stream",
     "text": [
      "Found significant difference with p=3.019859359162157e-11 (lower ist better)\n",
      "First is better with chance 1.0\n"
     ]
    },
    {
     "data": {
      "image/png": "[encoded data removed]",
      "text/plain": [
       "<Figure size 640x480 with 1 Axes>"
      ]
     },
     "metadata": {},
     "output_type": "display_data"
    }
   ],
   "source": [
    "short_stats(hc_reversing_scores, random_scores)"
   ]
  },
  {
   "cell_type": "markdown",
   "metadata": {
    "slideshow": {
     "slide_type": "subslide"
    }
   },
   "source": [
    "## Steepes Ascent HC"
   ]
  },
  {
   "cell_type": "code",
   "execution_count": 49,
   "metadata": {
    "slideshow": {
     "slide_type": "fragment"
    }
   },
   "outputs": [],
   "source": [
    "def hc_sa(init_function, move_operator, objective_function, max_evaluations, tweaks, limit=100):\n",
    "    S = init_function()\n",
    "    S_score = objective_function(S)\n",
    "    evals = 1\n",
    "    tries = 0\n",
    "    while evals < max_evaluations:\n",
    "        neighbours_S = move_operator(S)\n",
    "        R = next(neighbours_S)\n",
    "        R_score = objective_function(R)\n",
    "        evals += 1\n",
    "        for _ in range(tweaks-1):\n",
    "            W = next(neighbours_S)\n",
    "            W_score = objective_function(W)\n",
    "            evals += 1\n",
    "            if W_score < R_score:\n",
    "                R = W\n",
    "                R_score = W_score\n",
    "        if(R_score < S_score):\n",
    "            S = R\n",
    "            S_score = R_score\n",
    "            tries = 0\n",
    "        else:\n",
    "            tries += 1\n",
    "        if tries >= limit:\n",
    "            break # couldn't find better move - must be local opt\n",
    "    return (evals, S_score, S)"
   ]
  },
  {
   "cell_type": "code",
   "execution_count": 50,
   "metadata": {
    "slideshow": {
     "slide_type": "subslide"
    }
   },
   "outputs": [],
   "source": [
    "num_tweaks = 5\n",
    "sa_hc_times, sa_hc_scores = get_reps(hc_sa, n_reps, init_function, move_operator, objective_function, max_evaluations, num_tweaks)"
   ]
  },
  {
   "cell_type": "code",
   "execution_count": 51,
   "metadata": {
    "slideshow": {
     "slide_type": "fragment"
    }
   },
   "outputs": [
    {
     "name": "stdout",
     "output_type": "stream",
     "text": [
      "Found significant difference with p=1.3111030420756061e-08 (lower ist better)\n",
      "First is better with chance 0.07222222222222222\n"
     ]
    },
    {
     "data": {
      "image/png": "[encoded data removed]",
      "text/plain": [
       "<Figure size 640x480 with 1 Axes>"
      ]
     },
     "metadata": {},
     "output_type": "display_data"
    }
   ],
   "source": [
    "short_stats(hc_reversing_scores, sa_hc_scores)"
   ]
  },
  {
   "cell_type": "markdown",
   "metadata": {
    "slideshow": {
     "slide_type": "subslide"
    }
   },
   "source": [
    "## SA HC with replacement"
   ]
  },
  {
   "cell_type": "code",
   "execution_count": 52,
   "metadata": {
    "slideshow": {
     "slide_type": "fragment"
    }
   },
   "outputs": [],
   "source": [
    "def hc_sa_wr(init_function, move_operator, objective_function, max_evaluations, tweaks, limit=100):\n",
    "    S = init_function()\n",
    "    S_score = objective_function(S)\n",
    "    Best = S # new\n",
    "    Best_score = S_score # new\n",
    "    evals = 1\n",
    "    tries = 0\n",
    "    while evals < max_evaluations:\n",
    "        neighbours_S = move_operator(S)\n",
    "        R = next(neighbours_S)\n",
    "        R_score = objective_function(R)\n",
    "        evals += 1\n",
    "        for _ in range(tweaks-1):\n",
    "            W = next(neighbours_S)\n",
    "            W_score = objective_function(W)\n",
    "            evals += 1\n",
    "            if W_score < R_score:\n",
    "                R = W\n",
    "                R_score = W_score\n",
    "        S = R # new\n",
    "        S_score = R_score # new\n",
    "        if(S_score < Best_score): # new\n",
    "            Best = S # new\n",
    "            Best_score = S_score # new\n",
    "            tries = 0 # new\n",
    "        else:\n",
    "            tries += 1 # new\n",
    "        if tries >= limit:\n",
    "            break # couldn't find better move - must be local max\n",
    "    return (evals, Best_score, Best)"
   ]
  },
  {
   "cell_type": "code",
   "execution_count": 53,
   "metadata": {
    "slideshow": {
     "slide_type": "fragment"
    }
   },
   "outputs": [],
   "source": [
    "sa_hc_wr_times, sa_hc_wr_scores = get_reps(hc_sa, n_reps, init_function, move_operator, objective_function, max_evaluations, num_tweaks)"
   ]
  },
  {
   "cell_type": "code",
   "execution_count": 54,
   "metadata": {
    "slideshow": {
     "slide_type": "subslide"
    }
   },
   "outputs": [
    {
     "name": "stdout",
     "output_type": "stream",
     "text": [
      "No significant difference (p= 0.20620548705301323 > 0.05)\n"
     ]
    },
    {
     "data": {
      "image/png": "[encoded data removed]",
      "text/plain": [
       "<Figure size 640x480 with 1 Axes>"
      ]
     },
     "metadata": {},
     "output_type": "display_data"
    }
   ],
   "source": [
    "short_stats(sa_hc_scores, sa_hc_wr_scores)"
   ]
  },
  {
   "cell_type": "markdown",
   "metadata": {
    "slideshow": {
     "slide_type": "subslide"
    }
   },
   "source": [
    "## Simulated Annealing"
   ]
  },
  {
   "cell_type": "code",
   "execution_count": 55,
   "metadata": {
    "slideshow": {
     "slide_type": "fragment"
    }
   },
   "outputs": [],
   "source": [
    "def cooling_function(start_t, alpha):\n",
    "    T = start_t\n",
    "    while True:\n",
    "        yield T\n",
    "        T *= alpha"
   ]
  },
  {
   "cell_type": "code",
   "execution_count": 56,
   "metadata": {
    "slideshow": {
     "slide_type": "fragment"
    }
   },
   "outputs": [],
   "source": [
    "import math\n",
    "def switch_prob(temp, R_score, S_score):\n",
    "    if R_score < S_score:\n",
    "        return 1.0\n",
    "    elif temp == 0:\n",
    "        return 0.0\n",
    "    else:\n",
    "        return math.exp(-abs(R_score - S_score) / temp)"
   ]
  },
  {
   "cell_type": "code",
   "execution_count": 57,
   "metadata": {
    "slideshow": {
     "slide_type": "subslide"
    }
   },
   "outputs": [],
   "source": [
    "def simulated_annealing(\n",
    "    init_function, move_operator, objective_function, max_eval, start_temp, alpha\n",
    "):\n",
    "    temperature_gen = cooling_function(start_temp, alpha) # new\n",
    "    t = next(temperature_gen) # new\n",
    "    S = init_function()\n",
    "    S_score = objective_function(S)\n",
    "    Best = S\n",
    "    Best_score = S_score\n",
    "    evals = 1\n",
    "    temperature_jumps = 0\n",
    "    while evals < max_evaluations:\n",
    "        neighbours_S = move_operator(S)\n",
    "        R = next(neighbours_S)\n",
    "        R_score = objective_function(R)\n",
    "        evals += 1\n",
    "        do_temperature_switch = random.random() < switch_prob(t, R_score, S_score) # new\n",
    "        ## for debugging (counts how many jumps are made because of temp)\n",
    "        if do_temperature_switch and R_score > S_score: # new\n",
    "            temperature_jumps += 1 # new\n",
    "        ## end debugging\n",
    "\n",
    "        if R_score < S_score or do_temperature_switch: # new\n",
    "            S = R\n",
    "            S_score = R_score\n",
    "        t = next(temperature_gen) # new\n",
    "        if S_score < Best_score:\n",
    "            Best = S\n",
    "            Best_score = S_score\n",
    "        if t <= 1e-30:\n",
    "            print(\"Reached convergence\")\n",
    "            break\n",
    "    print(\n",
    "        \"{} temperature switches out of {} total evals\".format(temperature_jumps, evals)\n",
    "    )\n",
    "    return (evals, Best_score, Best)"
   ]
  },
  {
   "cell_type": "code",
   "execution_count": 58,
   "metadata": {
    "slideshow": {
     "slide_type": "subslide"
    }
   },
   "outputs": [
    {
     "name": "stdout",
     "output_type": "stream",
     "text": [
      "132 temperature switches out of 2000 total evals\n",
      "139 temperature switches out of 2000 total evals\n",
      "124 temperature switches out of 2000 total evals\n",
      "123 temperature switches out of 2000 total evals\n",
      "126 temperature switches out of 2000 total evals\n",
      "132 temperature switches out of 2000 total evals\n",
      "129 temperature switches out of 2000 total evals\n",
      "133 temperature switches out of 2000 total evals\n",
      "139 temperature switches out of 2000 total evals\n",
      "137 temperature switches out of 2000 total evals\n",
      "133 temperature switches out of 2000 total evals\n",
      "123 temperature switches out of 2000 total evals\n",
      "125 temperature switches out of 2000 total evals\n",
      "132 temperature switches out of 2000 total evals\n",
      "122 temperature switches out of 2000 total evals\n",
      "127 temperature switches out of 2000 total evals\n",
      "111 temperature switches out of 2000 total evals\n",
      "122 temperature switches out of 2000 total evals\n",
      "127 temperature switches out of 2000 total evals\n",
      "134 temperature switches out of 2000 total evals\n",
      "137 temperature switches out of 2000 total evals\n",
      "122 temperature switches out of 2000 total evals\n",
      "126 temperature switches out of 2000 total evals\n",
      "131 temperature switches out of 2000 total evals\n",
      "121 temperature switches out of 2000 total evals\n",
      "115 temperature switches out of 2000 total evals\n",
      "123 temperature switches out of 2000 total evals\n",
      "125 temperature switches out of 2000 total evals\n",
      "120 temperature switches out of 2000 total evals\n",
      "120 temperature switches out of 2000 total evals\n"
     ]
    }
   ],
   "source": [
    "temp = objective_function(init_function()) # set temp to initial fitness\n",
    "alpha = 0.98\n",
    "sim_an_times, sim_an_scores = get_reps(simulated_annealing, n_reps, init_function, move_operator, objective_function, max_evaluations,\n",
    "                                          temp, alpha,)"
   ]
  },
  {
   "cell_type": "code",
   "execution_count": 59,
   "metadata": {
    "slideshow": {
     "slide_type": "subslide"
    }
   },
   "outputs": [
    {
     "name": "stdout",
     "output_type": "stream",
     "text": [
      "No significant difference (p= 0.7844597689495465 > 0.05)\n"
     ]
    },
    {
     "data": {
      "image/png": "[encoded data removed]",
      "text/plain": [
       "<Figure size 640x480 with 1 Axes>"
      ]
     },
     "metadata": {},
     "output_type": "display_data"
    }
   ],
   "source": [
    "short_stats(sa_hc_scores, sim_an_scores)"
   ]
  },
  {
   "cell_type": "markdown",
   "metadata": {
    "slideshow": {
     "slide_type": "subslide"
    }
   },
   "source": [
    "## Tabu Search"
   ]
  },
  {
   "cell_type": "code",
   "execution_count": 60,
   "metadata": {
    "slideshow": {
     "slide_type": "fragment"
    }
   },
   "outputs": [],
   "source": [
    "from collections import deque\n",
    "def tabu_search(init_function, move_operator, objective_function, max_evaluations,num_tweaks,\n",
    "                tabu_len):\n",
    "    l = tabu_len\n",
    "    n = num_tweaks\n",
    "    S = init_function()\n",
    "    S_score = objective_function(S)\n",
    "    Best = S\n",
    "    Best_score = S_score\n",
    "    \n",
    "    L = deque([], l)\n",
    "    evals = 1\n",
    "    \n",
    "    while evals < max_evaluations:\n",
    "        neighbours_S = move_operator(S)\n",
    "        R = next(neighbours_S)\n",
    "        evals += 1\n",
    "        R_score = objective_function(R)\n",
    "        for _ in range(n-1):\n",
    "            W = next(neighbours_S)\n",
    "            evals += 1\n",
    "            W_score = objective_function(W)\n",
    "            if W not in L and (W_score < R_score or R in L):\n",
    "                R = W\n",
    "                R_score = W_score\n",
    "        if R not in L and R_score < S_score:\n",
    "            S = R\n",
    "            S_score = R_score\n",
    "            L.appendleft(R) # add new element to list\n",
    "        if S_score < Best_score:\n",
    "            Best = S\n",
    "            Best_score = S_score\n",
    "        \n",
    "    return (evals, Best_score, Best)"
   ]
  },
  {
   "cell_type": "code",
   "execution_count": 61,
   "metadata": {
    "slideshow": {
     "slide_type": "subslide"
    }
   },
   "outputs": [],
   "source": [
    "num_tweaks = 5\n",
    "tabu_length = 100\n",
    "tabu_times, tabu_scores = get_reps(tabu_search, n_reps, init_function, move_operator, objective_function, max_evaluations,\n",
    "                                          num_tweaks, tabu_length,)"
   ]
  },
  {
   "cell_type": "code",
   "execution_count": 62,
   "metadata": {
    "slideshow": {
     "slide_type": "fragment"
    }
   },
   "outputs": [
    {
     "name": "stdout",
     "output_type": "stream",
     "text": [
      "No significant difference (p= 0.641423522520332 > 0.05)\n"
     ]
    },
    {
     "data": {
      "image/png": "[encoded data removed]",
      "text/plain": [
       "<Figure size 640x480 with 1 Axes>"
      ]
     },
     "metadata": {},
     "output_type": "display_data"
    }
   ],
   "source": [
    "short_stats(sa_hc_scores, tabu_scores)"
   ]
  },
  {
   "cell_type": "markdown",
   "metadata": {
    "slideshow": {
     "slide_type": "slide"
    }
   },
   "source": [
    "# Bonus Plots\n",
    "combining all scores"
   ]
  },
  {
   "cell_type": "code",
   "execution_count": 63,
   "metadata": {
    "slideshow": {
     "slide_type": "fragment"
    }
   },
   "outputs": [
    {
     "ename": "ModuleNotFoundError",
     "evalue": "No module named 'pandas'",
     "output_type": "error",
     "traceback": [
      "\u001b[1;31m---------------------------------------------------------------------------\u001b[0m",
      "\u001b[1;31mModuleNotFoundError\u001b[0m                       Traceback (most recent call last)",
      "Cell \u001b[1;32mIn[63], line 1\u001b[0m\n\u001b[1;32m----> 1\u001b[0m \u001b[38;5;28;01mimport\u001b[39;00m \u001b[38;5;21;01mpandas\u001b[39;00m \u001b[38;5;28;01mas\u001b[39;00m \u001b[38;5;21;01mpd\u001b[39;00m\n\u001b[0;32m      2\u001b[0m \u001b[38;5;28;01mimport\u001b[39;00m \u001b[38;5;21;01mitertools\u001b[39;00m \u001b[38;5;28;01mas\u001b[39;00m \u001b[38;5;21;01mit\u001b[39;00m\n\u001b[0;32m      3\u001b[0m tabu_tups \u001b[38;5;241m=\u001b[39m [(approach, score, time) \u001b[38;5;28;01mfor\u001b[39;00m approach, score, time \u001b[38;5;129;01min\u001b[39;00m \u001b[38;5;28mzip\u001b[39m(it\u001b[38;5;241m.\u001b[39mrepeat(\u001b[38;5;124m\"\u001b[39m\u001b[38;5;124mTabu\u001b[39m\u001b[38;5;124m\"\u001b[39m), tabu_scores, tabu_times)]\n",
      "\u001b[1;31mModuleNotFoundError\u001b[0m: No module named 'pandas'"
     ]
    }
   ],
   "source": [
    "import pandas as pd\n",
    "import itertools as it\n",
    "tabu_tups = [(approach, score, time) for approach, score, time in zip(it.repeat(\"Tabu\"), tabu_scores, tabu_times)]\n",
    "sa_hc_tups = [(approach, score, time) for approach, score, time in zip(it.repeat(\"Steepest Ascent HC w/ replacement\"), sa_hc_wr_scores, sa_hc_wr_times)]\n",
    "sa_hc_wr_tups = [(approach, score, time) for approach, score, time in zip(it.repeat(\"Steepest Ascent HC\"), sa_hc_scores, sa_hc_times)]\n",
    "hc_tups = [(approach, score, time) for approach, score, time in zip(it.repeat(\"HC\"), hc_reversing_scores, hc_reversing_times)]\n",
    "sa_tups = [(approach, score, time) for approach, score, time in zip(it.repeat(\"Simulated Annealing\"), sim_an_scores, sim_an_times)]\n",
    "#dummy_tups = [(approach, score, time) for approach, score, time in zip(it.repeat(\"Dummy Random\"), random_scores, random_times)]\n",
    "dummy_tups= []\n",
    "all_tups = [*dummy_tups, *tabu_tups, *sa_hc_tups, *sa_hc_wr_tups, *hc_tups, *sa_tups]\n",
    "df = pd.DataFrame(all_tups, columns=[\"approach\", \"score\", \"time\"])"
   ]
  },
  {
   "cell_type": "code",
   "execution_count": null,
   "metadata": {
    "slideshow": {
     "slide_type": "subslide"
    }
   },
   "outputs": [],
   "source": [
    "import seaborn as sns\n",
    "sns.set_context(\"notebook\")\n",
    "sns.relplot(data=df, x=\"time\", y=\"score\", hue=\"approach\", style=\"approach\", alpha=0.75, s=50, height=7)"
   ]
  }
 ],
 "metadata": {
  "celltoolbar": "Slideshow",
  "kernelspec": {
   "display_name": "Python 3",
   "language": "python",
   "name": "python3"
  },
  "language_info": {
   "codemirror_mode": {
    "name": "ipython",
    "version": 3
   },
   "file_extension": ".py",
   "mimetype": "text/x-python",
   "name": "python",
   "nbconvert_exporter": "python",
   "pygments_lexer": "ipython3",
   "version": "3.12.3"
  }
 },
 "nbformat": 4,
 "nbformat_minor": 4
}
