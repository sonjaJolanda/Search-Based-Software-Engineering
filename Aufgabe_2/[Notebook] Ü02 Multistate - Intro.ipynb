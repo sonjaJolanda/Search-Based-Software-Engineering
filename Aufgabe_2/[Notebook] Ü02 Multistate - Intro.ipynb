{
 "cells": [
  {
   "cell_type": "markdown",
   "metadata": {
    "slideshow": {
     "slide_type": "slide"
    }
   },
   "source": [
    "# Search-Based Software Engineering Exercise\n",
    "## Exercise 02 - Genetic algorithms\n",
    "<center>\n",
    "    \n",
    "    Stefan Jahns\n",
    "    \n",
    "    Softwaresysteme - Summer Term 2024\n",
    "    \n",
    "</center>\n",
    "<center>\n",
    "    <img src='uni-leipzig.png' style=\"height:5em\" />   <img src='SOSY-Logo.png' style=\"height:5em\" />\n",
    "</center>"
   ]
  },
  {
   "cell_type": "markdown",
   "metadata": {
    "slideshow": {
     "slide_type": "slide"
    }
   },
   "source": [
    "Goal of this exercise is to learn and understand genetic algorithms by finding an optimal configuration for highly configurable software systems"
   ]
  },
  {
   "cell_type": "markdown",
   "metadata": {
    "slideshow": {
     "slide_type": "subslide"
    }
   },
   "source": [
    "## Problem set description for this exercise\n",
    "\n",
    "Highly configurable software systems are systems which provide many features to be selected for creating an individual variant of a program.\n",
    "\n",
    "However, selecting and deselecting specific features for a configuration can result in efficient or an inefficient configurations of the program.\n",
    "\n",
    "For the exercise, we want to find an optimal configuration for the *h264* and *bdbc* systems.\n",
    "\n",
    "#### h264\n",
    "\n",
    "h264 is a block-oriented motion-compensation-based video compression standard ([source](https://en.wikipedia.org/wiki/H.264/MPEG-4_AVC)). \n",
    "\n",
    "#### bdbc\n",
    "Berkeley DB (bdb) is a software library intended to provide a high-performance embedded database for key/value data ([source](https://en.wikipedia.org/wiki/Berkeley_DB)). The given dataset is based on the c-implementation of bdb."
   ]
  },
  {
   "cell_type": "markdown",
   "metadata": {
    "slideshow": {
     "slide_type": "subslide"
    }
   },
   "source": [
    "## Problem sets\n",
    "- Each problem set consists of 2 files: features & interactions"
   ]
  },
  {
   "cell_type": "markdown",
   "metadata": {
    "slideshow": {
     "slide_type": "subslide"
    }
   },
   "source": [
    "### Feature file definition\n",
    "- each line represents a feature of the software system\n",
    "- the value at the end of the line represents the performance value of the respective feature if enabled\n",
    "- for example \"have_crypto: 0.0120768614910988\" means that a version of the program can have a cryptographic function enabled and the feature influences the performance by 0.0120768614910988"
   ]
  },
  {
   "cell_type": "markdown",
   "metadata": {
    "slideshow": {
     "slide_type": "subslide"
    }
   },
   "source": [
    "### Interaction file definition\n",
    "- each line represents a specific feature combination\n",
    "- a line consists of at least 2 features separated by a \"#\" and a performance value for this specific selection\n",
    "- for example: \"CS32MB#DIAGNOSTIC: 21.0214021572657\" means if CS32MB and DIAGNOSTIC are enabled, this affects the configuration performance by 21.0214021572657"
   ]
  },
  {
   "cell_type": "code",
   "execution_count": 4,
   "metadata": {
    "slideshow": {
     "slide_type": "slide"
    }
   },
   "outputs": [
    {
     "name": "stdout",
     "output_type": "stream",
     "text": [
      "CS32MB#DIAGNOSTIC: 21.0214021572657\n",
      "HAVE_HASH#DIAGNOSTIC: 30.5541602784387\n",
      "HAVE_SEQUENCE#PS1K: -0.153274729661482\n",
      "PS1K#HAVE_VERIFY: -0.177890062417835\n",
      "HAVE_STATISTICS#HAVE_HASH: 28.0708701735602\n",
      "CS32MB#HAVE_SEQUENCE: 28.3911884514065\n",
      "HAVE_SEQUENCE#HAVE_CRYPTO: -0.710074228206047\n",
      "PS4K#HAVE_HASH: -2.10428937899935\n",
      "HAVE_VERIFY#HAVE_HASH: -2.71924279573203\n",
      "PS16K#CS512MB: -4.05239323580753\n",
      "PS1K#HAVE_REPLICATION: -0.732537201572133\n",
      "HAVE_CRYPTO#PS8K: -0.833090135903526\n",
      "HAVE_REPLICATION#PS16K#DIAGNOSTIC: 31.7326205862695\n",
      "CS64MB#PS16K#DIAGNOSTIC: 8.49628382727797\n",
      "PS8K#CS512MB#HAVE_HASH: -2.50486577199372\n",
      "PS1K#PS4K: -10\n",
      "PS1K#PS8K: -10\n",
      "PS1K#PS16K: -10\n",
      "PS1K#PS32K: -10\n",
      "PS4K#PS8K: -10\n",
      "PS4K#PS16K: -10\n",
      "PS4K#PS32K: -10\n",
      "PS8K#PS16K: -10\n",
      "PS8K#PS32K: -10\n",
      "PS16K#PS32K: -10\n",
      "CS16MB#CS32MB: -10\n",
      "CS16MB#CS64MB: -10\n",
      "CS16MB#CS512MB: -10\n",
      "CS32MB#CS64MB: -10\n",
      "CS32MB#CS512MB: -10\n",
      "CS64MB#CS512MB: -10\n",
      "\n"
     ]
    }
   ],
   "source": [
    "bdbc_f = \"datasets/bdbc_feature.txt\"\n",
    "bdbc_i = \"datasets/bdbc_interactions.txt\"\n",
    "x264_f = \"datasets/x264_feature.txt\"\n",
    "x264_i = \"datasets/x264_interactions.txt\"\n",
    "\n",
    "#path = bdbc_f\n",
    "path = bdbc_i\n",
    "#path = h264_f\n",
    "#path = h264_i\n",
    "\n",
    "with open(path) as f:\n",
    "    content = f.read()\n",
    "print(content)"
   ]
  },
  {
   "cell_type": "code",
   "execution_count": 5,
   "metadata": {
    "slideshow": {
     "slide_type": "subslide"
    }
   },
   "outputs": [],
   "source": [
    "def readTXT(path):\n",
    "    result = []\n",
    "    with open(path) as f:\n",
    "        lines = f.readlines()\n",
    "    for line in lines:\n",
    "        name = line.split(\" \")[0][:-1]\n",
    "        names = name.split(\"#\")\n",
    "        value = float(line.split(\" \")[1].strip())\n",
    "        configuration = [names, value]\n",
    "        result.append(configuration)\n",
    "    return result"
   ]
  },
  {
   "cell_type": "code",
   "execution_count": 6,
   "metadata": {
    "slideshow": {
     "slide_type": "fragment"
    }
   },
   "outputs": [
    {
     "data": {
      "text/plain": [
       "[[['CS32MB', 'DIAGNOSTIC'], 21.0214021572657],\n",
       " [['HAVE_HASH', 'DIAGNOSTIC'], 30.5541602784387],\n",
       " [['HAVE_SEQUENCE', 'PS1K'], -0.153274729661482],\n",
       " [['PS1K', 'HAVE_VERIFY'], -0.177890062417835],\n",
       " [['HAVE_STATISTICS', 'HAVE_HASH'], 28.0708701735602],\n",
       " [['CS32MB', 'HAVE_SEQUENCE'], 28.3911884514065],\n",
       " [['HAVE_SEQUENCE', 'HAVE_CRYPTO'], -0.710074228206047],\n",
       " [['PS4K', 'HAVE_HASH'], -2.10428937899935],\n",
       " [['HAVE_VERIFY', 'HAVE_HASH'], -2.71924279573203],\n",
       " [['PS16K', 'CS512MB'], -4.05239323580753],\n",
       " [['PS1K', 'HAVE_REPLICATION'], -0.732537201572133],\n",
       " [['HAVE_CRYPTO', 'PS8K'], -0.833090135903526],\n",
       " [['HAVE_REPLICATION', 'PS16K', 'DIAGNOSTIC'], 31.7326205862695],\n",
       " [['CS64MB', 'PS16K', 'DIAGNOSTIC'], 8.49628382727797],\n",
       " [['PS8K', 'CS512MB', 'HAVE_HASH'], -2.50486577199372],\n",
       " [['PS1K', 'PS4K'], -10.0],\n",
       " [['PS1K', 'PS8K'], -10.0],\n",
       " [['PS1K', 'PS16K'], -10.0],\n",
       " [['PS1K', 'PS32K'], -10.0],\n",
       " [['PS4K', 'PS8K'], -10.0],\n",
       " [['PS4K', 'PS16K'], -10.0],\n",
       " [['PS4K', 'PS32K'], -10.0],\n",
       " [['PS8K', 'PS16K'], -10.0],\n",
       " [['PS8K', 'PS32K'], -10.0],\n",
       " [['PS16K', 'PS32K'], -10.0],\n",
       " [['CS16MB', 'CS32MB'], -10.0],\n",
       " [['CS16MB', 'CS64MB'], -10.0],\n",
       " [['CS16MB', 'CS512MB'], -10.0],\n",
       " [['CS32MB', 'CS64MB'], -10.0],\n",
       " [['CS32MB', 'CS512MB'], -10.0],\n",
       " [['CS64MB', 'CS512MB'], -10.0]]"
      ]
     },
     "execution_count": 6,
     "metadata": {},
     "output_type": "execute_result"
    }
   ],
   "source": [
    "readTXT(bdbc_i)"
   ]
  },
  {
   "cell_type": "markdown",
   "metadata": {
    "slideshow": {
     "slide_type": "slide"
    }
   },
   "source": [
    "### Aim of this exercise: find an optimal configuration (= min performance value)"
   ]
  },
  {
   "cell_type": "markdown",
   "metadata": {
    "slideshow": {
     "slide_type": "subslide"
    }
   },
   "source": [
    "### Create a fitness function\n",
    "- Build a fitness assessment function using the given files"
   ]
  },
  {
   "cell_type": "markdown",
   "metadata": {
    "slideshow": {
     "slide_type": "subslide"
    }
   },
   "source": [
    "feature file:\n",
    "\n",
    "root: 4.29699011265453\n",
    "\n",
    "HAVE_CRYPTO: 0.0120768614910988\n",
    "\n",
    "HAVE_HASH: 4.62346632789263\n",
    "\n",
    "HAVE_REPLICATION: 0.274902720516604\n",
    "\n",
    "...\n",
    "\n",
    "---\n",
    "\n",
    "interaction file:\n",
    "\n",
    "PS16K#CS512MB: -4.05239323580753\n",
    "\n",
    "PS1K#HAVE_REPLICATION: -0.732537201572133\n",
    "\n",
    "HAVE_CRYPTO#PS8K: -0.833090135903526\n",
    "\n",
    "HAVE_REPLICATION#PS16K#DIAGNOSTIC: 31.7326205862695\n",
    "\n",
    "...\n",
    "\n"
   ]
  },
  {
   "cell_type": "markdown",
   "metadata": {
    "slideshow": {
     "slide_type": "subslide"
    }
   },
   "source": [
    "\n",
    "fitness function:\n",
    "\n",
    "4.29 + HAVE_CRYPTO * 0.01 + HAVE_HASH * 4.63 + HAVE_REPLICATION * 0.27 + ... +\n",
    "\n",
    "PS16K * CS512MB * (-4.05) + PS1K * HAVE_REPLICATION * (- .73) + ..."
   ]
  },
  {
   "cell_type": "markdown",
   "metadata": {
    "slideshow": {
     "slide_type": "subslide"
    }
   },
   "source": [
    "## write your genetic algorithm"
   ]
  },
  {
   "cell_type": "markdown",
   "metadata": {
    "slideshow": {
     "slide_type": "fragment"
    }
   },
   "source": [
    "How to build a genetic algorithm? See lecture notes & coding session."
   ]
  },
  {
   "cell_type": "markdown",
   "metadata": {
    "slideshow": {
     "slide_type": "fragment"
    }
   },
   "source": [
    "How to model an individual candidate solution?\n",
    "- Use a feature vector with the length of all features\n",
    "- represent the selection of a feature as either 0 (deselected) or 1 (selected)\n",
    "\n",
    "For example when selecting only the feature \"root\" in bdbc:\n",
    "\n",
    "[1,0,0,0,0,0,0,0,0,0,0,0,0,0,0,0,0]\n",
    "\n",
    "The fitness of this candidate solution is: 4.29699011265453"
   ]
  }
 ],
 "metadata": {
  "celltoolbar": "Slideshow",
  "kernelspec": {
   "display_name": "Python 3 (ipykernel)",
   "language": "python",
   "name": "python3"
  },
  "language_info": {
   "codemirror_mode": {
    "name": "ipython",
    "version": 3
   },
   "file_extension": ".py",
   "mimetype": "text/x-python",
   "name": "python",
   "nbconvert_exporter": "python",
   "pygments_lexer": "ipython3",
   "version": "3.11.9"
  }
 },
 "nbformat": 4,
 "nbformat_minor": 4
}
