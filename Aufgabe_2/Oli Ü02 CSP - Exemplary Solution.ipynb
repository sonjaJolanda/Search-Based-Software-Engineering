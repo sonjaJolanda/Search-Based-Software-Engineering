{
 "cells": [
  {
   "cell_type": "markdown",
   "metadata": {
    "slideshow": {
     "slide_type": "slide"
    }
   },
   "source": [
    "# Search-Based Software Engineering Exercise\n",
    "## Exercise 02 - CSP\n",
    "<center>\n",
    "    \n",
    "    Johannes Dorn (johannes.dorn@informatik.uni-leipzig.de)\n",
    "    \n",
    "    Softwaresysteme - Summer Term 2023\n",
    "    \n",
    "</center>\n",
    "<center>\n",
    "    <img src='uni-leipzig.png' style=\"height:5em\" >   <img src='SOSY-Logo.png' style=\"height:5em\">\n",
    "    \n",
    "</center>"
   ]
  },
  {
   "cell_type": "markdown",
   "metadata": {
    "slideshow": {
     "slide_type": "slide"
    }
   },
   "source": [
    "## Scope of this excercise\n",
    " - apply CSP solvers to configurable software systems\n",
    " - mini-lesson on Feature Models"
   ]
  },
  {
   "cell_type": "markdown",
   "metadata": {
    "slideshow": {
     "slide_type": "fragment"
    }
   },
   "source": [
    "For many use cases, it is useful to represent configurations as binary vectors s.a. \n",
    "[1 0 1 0 1 1 1]"
   ]
  },
  {
   "cell_type": "markdown",
   "metadata": {
    "slideshow": {
     "slide_type": "subslide"
    }
   },
   "source": [
    "<center>\n",
    "    <img src='VP9.png' style=\"height:20em\" />  \n",
    "</center>"
   ]
  },
  {
   "cell_type": "markdown",
   "metadata": {
    "slideshow": {
     "slide_type": "subslide"
    }
   },
   "source": [
    "## Short introduction to pycosat\n",
    "```\n",
    "pip install pycosat\n",
    "```"
   ]
  },
  {
   "cell_type": "code",
   "execution_count": null,
   "metadata": {
    "slideshow": {
     "slide_type": "fragment"
    }
   },
   "outputs": [],
   "source": [
    "import pycosat"
   ]
  },
  {
   "cell_type": "markdown",
   "metadata": {
    "slideshow": {
     "slide_type": "subslide"
    }
   },
   "source": [
    "### Supplying constraints"
   ]
  },
  {
   "cell_type": "markdown",
   "metadata": {
    "slideshow": {
     "slide_type": "fragment"
    }
   },
   "source": [
    "```pycosat.solve(constraints)``` takes a list of CNF clauses and yields a valid solution"
   ]
  },
  {
   "cell_type": "markdown",
   "metadata": {
    "slideshow": {
     "slide_type": "fragment"
    }
   },
   "source": [
    "Example with 3 features"
   ]
  },
  {
   "cell_type": "code",
   "execution_count": null,
   "metadata": {
    "slideshow": {
     "slide_type": "fragment"
    }
   },
   "outputs": [
    {
     "data": {
      "text/plain": [
       "[[1], [2, -3]]"
      ]
     },
     "execution_count": 9,
     "metadata": {},
     "output_type": "execute_result"
    }
   ],
   "source": [
    "constraints = []\n",
    "constraints.append([1])\n",
    "constraints.append([2,-3])\n",
    "constraints"
   ]
  },
  {
   "cell_type": "code",
   "execution_count": null,
   "metadata": {
    "slideshow": {
     "slide_type": "fragment"
    }
   },
   "outputs": [
    {
     "data": {
      "text/plain": [
       "[1, 2, -3]"
      ]
     },
     "execution_count": 10,
     "metadata": {},
     "output_type": "execute_result"
    }
   ],
   "source": [
    "pycosat.solve(constraints)"
   ]
  },
  {
   "cell_type": "markdown",
   "metadata": {
    "slideshow": {
     "slide_type": "subslide"
    }
   },
   "source": [
    "### Checking for Satisfyability"
   ]
  },
  {
   "cell_type": "code",
   "execution_count": null,
   "metadata": {
    "slideshow": {
     "slide_type": "fragment"
    }
   },
   "outputs": [
    {
     "name": "stdout",
     "output_type": "stream",
     "text": [
      "Solution: [1, 2, -3]\n"
     ]
    }
   ],
   "source": [
    "solution = pycosat.solve(constraints)\n",
    "if solution == \"UNSAT\":\n",
    "    print(\"No solutions found!\")\n",
    "else:\n",
    "    print(\"Solution:\", solution)"
   ]
  },
  {
   "cell_type": "markdown",
   "metadata": {
    "slideshow": {
     "slide_type": "subslide"
    }
   },
   "source": [
    "### Adding constraints"
   ]
  },
  {
   "cell_type": "code",
   "execution_count": null,
   "metadata": {
    "slideshow": {
     "slide_type": "fragment"
    }
   },
   "outputs": [
    {
     "data": {
      "text/plain": [
       "[[1], [2, -3]]"
      ]
     },
     "execution_count": 12,
     "metadata": {},
     "output_type": "execute_result"
    }
   ],
   "source": [
    "constraints"
   ]
  },
  {
   "cell_type": "code",
   "execution_count": null,
   "metadata": {
    "slideshow": {
     "slide_type": "fragment"
    }
   },
   "outputs": [
    {
     "data": {
      "text/plain": [
       "[1, -2, -3]"
      ]
     },
     "execution_count": 13,
     "metadata": {},
     "output_type": "execute_result"
    }
   ],
   "source": [
    "constraints.append([-2])\n",
    "pycosat.solve(constraints)"
   ]
  },
  {
   "cell_type": "code",
   "execution_count": null,
   "metadata": {
    "slideshow": {
     "slide_type": "fragment"
    }
   },
   "outputs": [
    {
     "data": {
      "text/plain": [
       "'UNSAT'"
      ]
     },
     "execution_count": 14,
     "metadata": {},
     "output_type": "execute_result"
    }
   ],
   "source": [
    "constraints.append([2])\n",
    "pycosat.solve(constraints)"
   ]
  },
  {
   "cell_type": "markdown",
   "metadata": {
    "slideshow": {
     "slide_type": "subslide"
    }
   },
   "source": [
    "### Constraints in the wild"
   ]
  },
  {
   "cell_type": "raw",
   "metadata": {
    "slideshow": {
     "slide_type": "fragment"
    }
   },
   "source": [
    "c 1 root\n",
    "c 2 twoPass\n",
    "c 3 quality\n",
    "c 4 bestQuality\n",
    "c 5 goodQuality\n",
    "c 6 rtQuality\n",
    "....\n",
    "1 0\n",
    "3 0\n",
    "....\n",
    "15 16 17 14 -13 0\n",
    "-15 -16 0\n",
    "-15 -17 0\n",
    "-15 -14 0\n",
    "-16 -17 0"
   ]
  },
  {
   "cell_type": "markdown",
   "metadata": {
    "slideshow": {
     "slide_type": "slide"
    }
   },
   "source": [
    "# Material"
   ]
  },
  {
   "cell_type": "code",
   "execution_count": null,
   "metadata": {
    "slideshow": {
     "slide_type": "fragment"
    }
   },
   "outputs": [],
   "source": [
    "import pycosat\n",
    "import numpy as np\n",
    "import copy"
   ]
  },
  {
   "cell_type": "code",
   "execution_count": null,
   "metadata": {
    "slideshow": {
     "slide_type": "subslide"
    }
   },
   "outputs": [],
   "source": [
    "def parse_dimacs(path):\n",
    "    \"\"\"\n",
    "    A function to parse a provided DIMACS-file.\n",
    "\n",
    "    Args:\n",
    "        path (str): The DIMACS-file's file path\n",
    "\n",
    "    Returns:\n",
    "        A list of lists containing all of the DIMACS-file's constrains. Each constraint is represented by a seperate sub-list.\n",
    "    \"\"\"\n",
    "    dimacs = list()\n",
    "    dimacs.append(list())\n",
    "    with open(path) as mfile:\n",
    "        for line in mfile:\n",
    "            tokens = line.split()\n",
    "            if len(tokens) != 0 and tokens[0] not in (\"p\", \"c\"):\n",
    "                for tok in tokens:\n",
    "                    lit = int(tok)\n",
    "                    if lit == 0:\n",
    "                        dimacs.append(list())\n",
    "                    else:\n",
    "                        dimacs[-1].append(lit)\n",
    "    assert len(dimacs[-1]) == 0\n",
    "    dimacs.pop()\n",
    "    return dimacs"
   ]
  },
  {
   "cell_type": "code",
   "execution_count": null,
   "metadata": {
    "slideshow": {
     "slide_type": "subslide"
    }
   },
   "outputs": [],
   "source": [
    "def transform2binary(sol):\n",
    "    \"\"\"\n",
    "    A function which takes a valid variant, consisting of positive and negative integers and transforming it into binary values\n",
    "    Args:\n",
    "        sol (list): A list that contains one valid variant, represented by positve and negative integers\n",
    "\n",
    "    Returns:\n",
    "        A list that contains the valid variants transformed into binary, where negative integers are now represented as 0 and positive integers as 1\n",
    "    \"\"\"\n",
    "    sol = sorted(sol, key=abs)\n",
    "    for index, elem in enumerate(sol):\n",
    "        if float(elem) < 0:\n",
    "            sol[index] = 0\n",
    "        else:\n",
    "            sol[index] = 1\n",
    "    return sol"
   ]
  },
  {
   "cell_type": "code",
   "execution_count": null,
   "metadata": {
    "slideshow": {
     "slide_type": "subslide"
    }
   },
   "outputs": [],
   "source": [
    "def get_valid_variants(constraint_list, size):\n",
    "    \"\"\"\n",
    "    A function to compute the valid variants of a model.\n",
    "\n",
    "    Args:\n",
    "        constraint_list (list): All constrains provided for the model.\n",
    "        size (int): The desired number of variants for the model.\n",
    "\n",
    "    Returns:\n",
    "        A list of variants, which satisfy the provided constrains. Each entry represents one variant.\n",
    "    \"\"\"\n",
    "    my_constraints = copy.deepcopy(constraint_list)\n",
    "    for i in range(0, size):\n",
    "            solution = pycosat.solve(my_constraints)\n",
    "            if solution == \"UNSAT\":\n",
    "                print(\"No more solutions found!\")\n",
    "                break\n",
    "            binary_solution = transform2binary(solution)\n",
    "            #print(\"Pycosat Literals:\", solution, \"Binary Vector Solution\", binary_solution)\n",
    "            \n",
    "            #TODO: solve exercise\n",
    "            \n",
    "    return []"
   ]
  },
  {
   "cell_type": "code",
   "execution_count": null,
   "metadata": {
    "slideshow": {
     "slide_type": "subslide"
    }
   },
   "outputs": [],
   "source": [
    "def score(a,b):\n",
    "    \"\"\"\n",
    "    returns root-mean-squared distance between two populatons (high is dissimilar, 0.0 is identical)\n",
    "    \"\"\"\n",
    "    \n",
    "    def get_ft_frequencies(pop):\n",
    "        pop_np = np.array(pop)\n",
    "        pop_np = pop_np/np.sum(pop_np)\n",
    "        return pop_np.sum(axis=0)\n",
    "    \n",
    "    a_freqs = get_ft_frequencies(a)\n",
    "    b_freqs = get_ft_frequencies(b)\n",
    "    statistic = np.sqrt(np.sum(np.power(a_freqs - b_freqs, 2)))\n",
    "    return statistic"
   ]
  },
  {
   "cell_type": "markdown",
   "metadata": {
    "slideshow": {
     "slide_type": "subslide"
    }
   },
   "source": [
    "## Example Usage"
   ]
  },
  {
   "cell_type": "code",
   "execution_count": null,
   "metadata": {
    "slideshow": {
     "slide_type": "fragment"
    }
   },
   "outputs": [],
   "source": [
    "clauses = parse_dimacs(\"Feature-Modelle (SQLite, VP9)/Feature-Modelle (SQLite, VP9)/VP9.dimacs\") "
   ]
  },
  {
   "cell_type": "code",
   "execution_count": null,
   "metadata": {
    "slideshow": {
     "slide_type": "fragment"
    }
   },
   "outputs": [
    {
     "data": {
      "text/plain": [
       "[]"
      ]
     },
     "execution_count": 21,
     "metadata": {},
     "output_type": "execute_result"
    }
   ],
   "source": [
    "variants = get_valid_variants(clauses, 1)\n",
    "variants"
   ]
  },
  {
   "cell_type": "code",
   "execution_count": null,
   "metadata": {
    "slideshow": {
     "slide_type": "fragment"
    }
   },
   "outputs": [],
   "source": [
    "import pickle\n",
    "with open( \"dump.p\", \"wb\" ) as file:\n",
    "    pickle.dump( variants,  file)"
   ]
  },
  {
   "cell_type": "code",
   "execution_count": null,
   "metadata": {
    "slideshow": {
     "slide_type": "fragment"
    }
   },
   "outputs": [
    {
     "data": {
      "text/plain": [
       "[]"
      ]
     },
     "execution_count": 23,
     "metadata": {},
     "output_type": "execute_result"
    }
   ],
   "source": [
    "with open( \"dump.p\", \"rb\" ) as file:\n",
    "    old_data = pickle.load(file)\n",
    "old_data"
   ]
  },
  {
   "cell_type": "code",
   "execution_count": null,
   "metadata": {
    "slideshow": {
     "slide_type": "subslide"
    }
   },
   "outputs": [],
   "source": [
    "pop_whole = (\n",
    "    [1,0,0],\n",
    "    [1,1,0],\n",
    "    [1,1,1],\n",
    "    [0,1,1],\n",
    "    [0,0,1],\n",
    "    [1,0,1],\n",
    "    [0,0,1],\n",
    "    [0,0,0]\n",
    ")\n",
    "pop_sample_biased = (\n",
    "    [1,0,0],\n",
    "    [1,1,0],\n",
    "    [1,1,1]\n",
    ")\n",
    "pop_sample_balanced = (\n",
    "    [1,0,0],\n",
    "    [0,1,0],\n",
    "    [0,0,1]\n",
    ")"
   ]
  },
  {
   "cell_type": "code",
   "execution_count": null,
   "metadata": {
    "slideshow": {
     "slide_type": "fragment"
    }
   },
   "outputs": [
    {
     "data": {
      "text/plain": [
       "0.11785113019775789"
      ]
     },
     "execution_count": 25,
     "metadata": {},
     "output_type": "execute_result"
    }
   ],
   "source": [
    "score(pop_whole, pop_sample_balanced)"
   ]
  },
  {
   "cell_type": "code",
   "execution_count": null,
   "metadata": {
    "slideshow": {
     "slide_type": "fragment"
    }
   },
   "outputs": [
    {
     "data": {
      "text/plain": [
       "0.31180478223116176"
      ]
     },
     "execution_count": 26,
     "metadata": {},
     "output_type": "execute_result"
    }
   ],
   "source": [
    "score(pop_whole, pop_sample_biased)"
   ]
  },
  {
   "cell_type": "markdown",
   "metadata": {
    "slideshow": {
     "slide_type": "slide"
    }
   },
   "source": [
    "# Exemplary Solutions"
   ]
  },
  {
   "cell_type": "code",
   "execution_count": null,
   "metadata": {
    "slideshow": {
     "slide_type": "fragment"
    }
   },
   "outputs": [],
   "source": [
    "from copy import deepcopy"
   ]
  },
  {
   "cell_type": "markdown",
   "metadata": {
    "slideshow": {
     "slide_type": "slide"
    }
   },
   "source": [
    "## Task 1 - Feature Models"
   ]
  },
  {
   "cell_type": "markdown",
   "metadata": {
    "slideshow": {
     "slide_type": "subslide"
    }
   },
   "source": [
    "## Aufgabe 1: Feature-Modelle\n",
    "\n",
    "a) Gegeben ist das folgende Feature-Diagramm eines konfigurierbaren Software-Systems A. Bestimmen und nennen Sie alle validen Kofigurationen.\n",
    "\n",
    "b) Wandeln Sie das Feature Diagramm in einen äquivalenten aussagenlogischen Ausdruck um."
   ]
  },
  {
   "cell_type": "code",
   "execution_count": null,
   "metadata": {
    "slideshow": {
     "slide_type": "subslide"
    }
   },
   "outputs": [],
   "source": [
    "abcde_constraints = [\n",
    "    [1],\n",
    "    [3],\n",
    "    [4, -5],\n",
    "    [-4, 5]   \n",
    "]"
   ]
  },
  {
   "cell_type": "markdown",
   "metadata": {
    "slideshow": {
     "slide_type": "fragment"
    }
   },
   "source": [
    "Using implementation of ```get_valid_variants```from below (spoilers!)"
   ]
  },
  {
   "cell_type": "code",
   "execution_count": 42,
   "metadata": {
    "slideshow": {
     "slide_type": "fragment"
    }
   },
   "outputs": [
    {
     "name": "stdout",
     "output_type": "stream",
     "text": [
      "No more solutions found!\n",
      "Finished in 0.00s\n",
      "[[1 0 1 0 0]\n",
      " [1 0 1 1 1]\n",
      " [1 1 1 0 0]\n",
      " [1 1 1 1 1]]\n"
     ]
    }
   ],
   "source": [
    "whole_population = get_valid_variants(abcde_constraints, 1000)\n",
    "len(whole_population)\n",
    "print(whole_population)"
   ]
  },
  {
   "cell_type": "markdown",
   "metadata": {
    "slideshow": {
     "slide_type": "slide"
    }
   },
   "source": [
    "## Task 2 - Analysis of Feature Models"
   ]
  },
  {
   "cell_type": "markdown",
   "metadata": {
    "slideshow": {
     "slide_type": "fragment"
    }
   },
   "source": [
    "## Aufgabe 2: Automatisierte Analyse von Feature-Modellen"
   ]
  },
  {
   "cell_type": "markdown",
   "metadata": {
    "slideshow": {
     "slide_type": "fragment"
    }
   },
   "source": [
    "a) Gegeben sei ein Feature-Modell mit den Features F1, F2, …, Fn. Das Feature-Modell liegt als aussagenlogische Formel Ѱ (in KNF) vor. Wie lässt sich mittels eines Solvers überprüfen, ob das Feature-Modell Dead Features enthält?"
   ]
  },
  {
   "cell_type": "markdown",
   "metadata": {
    "slideshow": {
     "slide_type": "subslide"
    }
   },
   "source": [
    "b) Gegeben sei ein Feature-Modell mit den Features F1, F2, …, Fn. Das Feature-Modell enthält optionale Features sowie mandatorische Features, aber keine Cross-Tree Constraints. Wie können durch das Hinzufügen von Cross-Tree Constraints False Optional Features entstehen? Beschreiben Sie kurz ein mögliches Szenario."
   ]
  },
  {
   "cell_type": "markdown",
   "metadata": {
    "slideshow": {
     "slide_type": "subslide"
    }
   },
   "source": [
    "c) Gegeben sei ein Feature-Modell mit den Features F1, F2, …, Fn. Das Feature-Modell enthält optionale Features sowie mandatorische Features. Das Feature-Modell liegt als aussagenlogische Formel Ѱ (in KNF) vor. Wie lässt sich mittels eines Solvers überprüfen, ob das Feature-Modell False Optional Features enthält?"
   ]
  },
  {
   "cell_type": "markdown",
   "metadata": {
    "slideshow": {
     "slide_type": "subslide"
    }
   },
   "source": [
    "d) Im Moodle finden Sie ein Feature-Modell zum Datenbanksystem “SQLite”. Dieses Feature-Modell liegt als konjunktive Normalform im DIMACS-Format vor. Ebenfalls im Moodle finden Sie ein Jupyter-Notebook, mit dessen Hilfe sich DIMACS-Dateien parsen\n",
    "lassen. Mit einem Solver, etwa Pycosat, können mit diesem Skript Lösungen für einen logischen Ausdruck berechnet werden."
   ]
  },
  {
   "cell_type": "code",
   "execution_count": 30,
   "metadata": {
    "slideshow": {
     "slide_type": "fragment"
    }
   },
   "outputs": [],
   "source": [
    "sqlite_clauses = parse_dimacs(\"Feature-Modelle (SQLite, VP9)/Feature-Modelle (SQLite, VP9)/sqlite.dimacs\") "
   ]
  },
  {
   "cell_type": "code",
   "execution_count": 31,
   "metadata": {
    "slideshow": {
     "slide_type": "subslide"
    }
   },
   "outputs": [
    {
     "name": "stdout",
     "output_type": "stream",
     "text": [
      "2a\n",
      "False Optional & Mandatory Features: [33, 57, 60, 65, 67, 71, 83, 91]\n",
      "2c\n",
      "Dead Features: [13]\n"
     ]
    }
   ],
   "source": [
    "n_features = 91\n",
    "always_selected = []\n",
    "always_deselected = []\n",
    "\n",
    "for feature_id in range(1, n_features+1):\n",
    "    new_clauses = deepcopy(sqlite_clauses)\n",
    "    new_clauses.append([-1 * feature_id])\n",
    "    solution = pycosat.solve(new_clauses)\n",
    "    if solution == \"UNSAT\":\n",
    "        # no solution where feature is deselected\n",
    "        always_selected.append(feature_id)  \n",
    "    \n",
    "    new_clauses = deepcopy(sqlite_clauses)\n",
    "    new_clauses.append([feature_id])\n",
    "    solution = pycosat.solve(new_clauses)\n",
    "    if solution == \"UNSAT\":\n",
    "        # no solution where feature is selected\n",
    "        always_deselected.append(feature_id)\n",
    "print(\"2a\")\n",
    "print(\"False Optional & Mandatory Features: {}\".format(always_selected))\n",
    "print(\"2c\")\n",
    "print(\"Dead Features: {}\".format(always_deselected))"
   ]
  },
  {
   "cell_type": "markdown",
   "metadata": {
    "slideshow": {
     "slide_type": "slide"
    }
   },
   "source": [
    "# Aufgabe 3: Solver-basiertes Sampling von Konfigurationen"
   ]
  },
  {
   "cell_type": "markdown",
   "metadata": {
    "slideshow": {
     "slide_type": "fragment"
    }
   },
   "source": [
    "Neben der Analyse von Feature-Modellen können Solver auch genutzt werden, um gültige Konfigurationen (Auswahl von Features) zu errechnen (Sampling). Dabei wird nicht nur versucht, die Erfüllbarkeit eines Feature-Modells zu beweisen/zu widerlegen, sondern gültige Konfigurationen zu generieren. Dies ist insbesondere sinnvoll, wenn Feature-Modelle sehr viele Features und/oder Cross-Tree Constraints enthalten. Diese Aufgabe verwendet das Feature-Modell von “VP9”, welches Sie (zur Übersicht) als Bild-Datei sowie als DIMACS-Datei in Moodle finden."
   ]
  },
  {
   "cell_type": "markdown",
   "metadata": {
    "slideshow": {
     "slide_type": "subslide"
    }
   },
   "source": [
    "a) Beschreiben sie in Ihren eigenen Worten einen Algorithmus, welcher mit Hilfe eines CSP-Solvers alle gültigen Konfigurationen eines Feature-Modells ohne Wiederholung auflistet."
   ]
  },
  {
   "cell_type": "markdown",
   "metadata": {
    "slideshow": {
     "slide_type": "subslide"
    }
   },
   "source": [
    "b) Die Funktion “get_valid_configurations()” im Jupyter-Notebook generiert beliebig viele gültige Konfigurationen zu einem gegebenen Modell, welche sich jedoch wiederholen. Passen sie die Funktion “get_valid_configurations()” entsprechend Ihrer Lösung von 3 a) an."
   ]
  },
  {
   "cell_type": "raw",
   "metadata": {
    "slideshow": {
     "slide_type": "fragment"
    }
   },
   "source": [
    "def get_valid_variants(constraint_list, size):\n",
    "    \"\"\"\n",
    "    A function to compute the valid variants of a model.\n",
    "\n",
    "    Args:\n",
    "        constraint_list (list): All constrains provided for the model.\n",
    "        size (int): The desired number of variants for the model.\n",
    "\n",
    "    Returns:\n",
    "        A list of variants, which satisfy the provided constrains. Each entry represents one variant.\n",
    "    \"\"\"\n",
    "    my_constraints = copy.deepcopy(constraint_list)\n",
    "    for i in range(0, size):\n",
    "            solution = pycosat.solve(my_constraints)\n",
    "            if solution == \"UNSAT\":\n",
    "                print(\"No more solutions found!\")\n",
    "                break\n",
    "            binary_solution = transform2binary(solution)\n",
    "            #print(\"Pycosat Literals:\", solution, \"Binary Vector Solution\", binary_solution)\n",
    "            \n",
    "            #TODO: solve exercise\n",
    "            \n",
    "    return []"
   ]
  },
  {
   "cell_type": "code",
   "execution_count": 32,
   "metadata": {
    "slideshow": {
     "slide_type": "subslide"
    }
   },
   "outputs": [],
   "source": [
    "import time\n",
    "def timeit(method):\n",
    "    def timed(*args, **kw):\n",
    "        ts = time.time()\n",
    "        result = method(*args, **kw)\n",
    "        te = time.time()\n",
    "        print(\"Finished in {:04.2f}s\".format(te-ts))\n",
    "        return result    \n",
    "    return timed"
   ]
  },
  {
   "cell_type": "code",
   "execution_count": 33,
   "metadata": {
    "slideshow": {
     "slide_type": "subslide"
    }
   },
   "outputs": [],
   "source": [
    "@timeit\n",
    "def get_valid_variants(constraint_list, size):\n",
    "    \"\"\"\n",
    "    A function to compute the valid variants of a model.\n",
    "\n",
    "    Args:\n",
    "        constraint_list (list): All constrains provided for the model.\n",
    "        size (int): The desired number of variants for the model.\n",
    "\n",
    "    Returns:\n",
    "        A numpy matrix with variants, which satisfy the provided constrains. Each row represents one variant.\n",
    "    \"\"\"\n",
    "    new_c = deepcopy(constraint_list)\n",
    "    sol_collection = list()\n",
    "    for i in range(0, size):\n",
    "            c_copy = list(new_c)\n",
    "            solution = pycosat.solve(c_copy)\n",
    "            if solution == \"UNSAT\":\n",
    "                print(\"No more solutions found!\")\n",
    "                break\n",
    "            new_c.append([j * -1 for j in solution])\n",
    "            solution = transform2binary(solution)\n",
    "            sol_collection.append(solution)\n",
    "    m_sol_list = np.array(sol_collection)\n",
    "    return m_sol_list"
   ]
  },
  {
   "cell_type": "markdown",
   "metadata": {
    "slideshow": {
     "slide_type": "subslide"
    }
   },
   "source": [
    "c) Wie viele gültige Konfigurationen hat das Feature-Modell zu “VP9”? Generieren Sie hierfür alle validen Konfigurationen und halten sie diese für Aufgabe 4 b) bereit."
   ]
  },
  {
   "cell_type": "code",
   "execution_count": 34,
   "metadata": {
    "slideshow": {
     "slide_type": "fragment"
    }
   },
   "outputs": [],
   "source": [
    "clauses_vp9 = parse_dimacs(\"Feature-Modelle (SQLite, VP9)/Feature-Modelle (SQLite, VP9)/VP9.dimacs\") "
   ]
  },
  {
   "cell_type": "code",
   "execution_count": 35,
   "metadata": {
    "slideshow": {
     "slide_type": "fragment"
    }
   },
   "outputs": [
    {
     "name": "stdout",
     "output_type": "stream",
     "text": [
      "No more solutions found!\n",
      "Finished in 14.87s\n"
     ]
    }
   ],
   "source": [
    "whole_population_vp9 = get_valid_variants(clauses_vp9, 100**100)"
   ]
  },
  {
   "cell_type": "code",
   "execution_count": 36,
   "metadata": {
    "slideshow": {
     "slide_type": "fragment"
    }
   },
   "outputs": [
    {
     "data": {
      "text/plain": [
       "3008"
      ]
     },
     "execution_count": 36,
     "metadata": {},
     "output_type": "execute_result"
    }
   ],
   "source": [
    "len(whole_population_vp9)"
   ]
  },
  {
   "cell_type": "markdown",
   "metadata": {
    "slideshow": {
     "slide_type": "slide"
    }
   },
   "source": [
    "# Task 4"
   ]
  },
  {
   "cell_type": "markdown",
   "metadata": {
    "slideshow": {
     "slide_type": "fragment"
    }
   },
   "source": [
    "Bei sehr großen konfigurierbaren Softwaresystemen lassen sich praktisch nicht alle Konfigurationen samplen. Wir verwenden deswegen für die folgenden Teilaufgaben ein festes Budget von 10 Konfigurationen. Diese Konfigurationen sollen den Konfigurationsraum möglichst repräsentativ abdecken. Ein Konfigurationsraum ist repräsentativ abgedeckt, wenn jedes Feature in den gewählten Konfigurationen etwa gleich häufig ausgewählt ist bzw. Konfigurationen hinreichend divers/unterschiedlich sind"
   ]
  },
  {
   "cell_type": "markdown",
   "metadata": {
    "slideshow": {
     "slide_type": "subslide"
    }
   },
   "source": [
    "a) Solver nutzen intern Backtracking (siehe Vorlesung). Warum kann dies problematisch für die Diversität von Konfigurationen sein, wenn wir diese mit einem Solver generieren/aufzählen (wie in der Methode “get_valid_configurations()”)?"
   ]
  },
  {
   "cell_type": "markdown",
   "metadata": {
    "slideshow": {
     "slide_type": "subslide"
    }
   },
   "source": [
    "b) Eine Möglichkeit, die Diversität von Konfigurationen zu erhöhen, ist Diversity Promotion (beschrieben in [1]). Hierbei wird u.a. die Reihenfolge von Constraints und Literalen/Features in jedem Constraint beim Generieren jeder neuen Konfiguration permutiert. Argumentieren Sie, warum dies unter dem Hintergrund von Backtracking sinnvoll ist. Implementieren Sie Diversity Promotion mittels Permutieren der Literale innerhalb der KNF-Klauseln und der Klauseln selbst. Vergleichen Sie Ihre vorherige Implementierung von get_valid_configurations() mit der Implementierung mit Diversity Promotion mittels der bereitgestellten score()-Funktion. Diese benötigt als Vergleich die validen Konfigurationen aus Aufgabe 3 c)."
   ]
  },
  {
   "cell_type": "code",
   "execution_count": 37,
   "metadata": {
    "slideshow": {
     "slide_type": "subslide"
    }
   },
   "outputs": [],
   "source": [
    "budget = 10"
   ]
  },
  {
   "cell_type": "code",
   "execution_count": 38,
   "metadata": {
    "slideshow": {
     "slide_type": "fragment"
    }
   },
   "outputs": [],
   "source": [
    "from random import shuffle\n",
    "@timeit\n",
    "def get_diverse_valid_variants(constraint_list, size):\n",
    "    \"\"\"\n",
    "    A function to compute the valid variants of a model.\n",
    "\n",
    "    Args:\n",
    "        constraint_list (list): All constrains provided for the model.\n",
    "        size (int): The desired number of variants for the model.\n",
    "\n",
    "    Returns:\n",
    "        A numpy matrix with variants, which satisfy the provided constrains. Each row represents one variant.\n",
    "    \"\"\"\n",
    "    new_c = deepcopy(constraint_list)\n",
    "    sol_collection = list()\n",
    "    for i in range(0, size):\n",
    "            shuffle(new_c)  # shuffle the constraints\n",
    "            for constraint in new_c:  # shuffle feature assignment in constraints\n",
    "                shuffle(constraint)\n",
    "            c_copy = list(new_c)\n",
    "            solution = pycosat.solve(c_copy)\n",
    "            new_c.append([j * -1 for j in solution])\n",
    "            solution = transform2binary(solution)\n",
    "            sol_collection.append(solution)\n",
    "    m_sol_list = np.array(sol_collection)\n",
    "    return m_sol_list"
   ]
  },
  {
   "cell_type": "code",
   "execution_count": 39,
   "metadata": {
    "slideshow": {
     "slide_type": "subslide"
    }
   },
   "outputs": [
    {
     "name": "stdout",
     "output_type": "stream",
     "text": [
      "Finished in 0.01s\n"
     ]
    }
   ],
   "source": [
    "diverse_sample_set = get_diverse_valid_variants(clauses_vp9, budget)"
   ]
  },
  {
   "cell_type": "code",
   "execution_count": 40,
   "metadata": {
    "slideshow": {
     "slide_type": "fragment"
    }
   },
   "outputs": [
    {
     "data": {
      "text/plain": [
       "['[1 0 1 0 0 1 0 0 0 0 0 0 1 0 0 0 1 1 0 0 1 1 0 0 1]',\n",
       " '[1 1 1 0 1 0 0 0 1 1 0 1 1 0 0 0 1 1 1 0 0 1 1 0 0]',\n",
       " '[1 1 1 0 1 0 0 0 1 0 0 0 1 0 0 0 1 1 1 0 0 1 1 0 0]',\n",
       " '[1 0 1 0 0 1 1 0 0 1 1 1 1 0 0 0 1 1 0 0 1 1 0 0 1]',\n",
       " '[1 1 1 0 1 0 1 0 1 1 1 1 1 0 0 0 1 1 1 0 0 1 1 0 0]',\n",
       " '[1 0 1 0 0 1 0 0 0 0 1 0 1 0 0 0 1 1 0 0 1 1 0 0 1]',\n",
       " '[1 1 1 0 1 0 0 0 1 0 0 0 1 0 0 1 0 1 1 0 0 1 1 0 0]',\n",
       " '[1 1 1 0 1 0 1 0 1 1 1 1 1 0 0 1 0 1 1 0 0 1 1 0 0]',\n",
       " '[1 1 1 0 1 0 0 0 1 1 0 0 1 0 0 0 1 1 1 0 0 1 1 0 0]',\n",
       " '[1 1 1 0 1 0 1 0 1 1 0 1 1 0 0 0 1 1 1 0 0 1 1 0 0]']"
      ]
     },
     "execution_count": 40,
     "metadata": {},
     "output_type": "execute_result"
    }
   ],
   "source": [
    "list((\"\".join(str(x)) for x in diverse_sample_set))"
   ]
  },
  {
   "cell_type": "markdown",
   "metadata": {
    "slideshow": {
     "slide_type": "subslide"
    }
   },
   "source": [
    "c) Ein alternativer Ansatz, um möglichst diverse Konfigurationen zu samplen, ist Distanz-basiertes Sampling [2]. Beschreiben Sie kurz die Idee des Ansatzes und grenzen Sie ihn von Diversity Promotion ab."
   ]
  },
  {
   "cell_type": "markdown",
   "metadata": {
    "slideshow": {
     "slide_type": "slide"
    }
   },
   "source": [
    "## Bonus"
   ]
  },
  {
   "cell_type": "code",
   "execution_count": 41,
   "metadata": {
    "jupyter": {
     "outputs_hidden": true
    },
    "scrolled": true,
    "slideshow": {
     "slide_type": "fragment"
    }
   },
   "outputs": [
    {
     "ename": "KeyboardInterrupt",
     "evalue": "",
     "output_type": "error",
     "traceback": [
      "\u001b[1;31m---------------------------------------------------------------------------\u001b[0m",
      "\u001b[1;31mKeyboardInterrupt\u001b[0m                         Traceback (most recent call last)",
      "Cell \u001b[1;32mIn[41], line 7\u001b[0m\n\u001b[0;32m      5\u001b[0m \u001b[38;5;28;01mfor\u001b[39;00m s \u001b[38;5;129;01min\u001b[39;00m sample_sizes:\n\u001b[0;32m      6\u001b[0m     \u001b[38;5;28;01mfor\u001b[39;00m i \u001b[38;5;129;01min\u001b[39;00m \u001b[38;5;28mrange\u001b[39m(n_reps):\n\u001b[1;32m----> 7\u001b[0m         diverse_sample_set \u001b[38;5;241m=\u001b[39m \u001b[43mget_diverse_valid_variants\u001b[49m\u001b[43m(\u001b[49m\u001b[43mclauses\u001b[49m\u001b[43m,\u001b[49m\u001b[43m \u001b[49m\u001b[43ms\u001b[49m\u001b[43m)\u001b[49m\n\u001b[0;32m      8\u001b[0m         simple_sample_set \u001b[38;5;241m=\u001b[39m get_valid_variants(clauses, s)\n\u001b[0;32m      9\u001b[0m         score_div \u001b[38;5;241m=\u001b[39m score(whole_population_vp9, diverse_sample_set)\n",
      "Cell \u001b[1;32mIn[32], line 5\u001b[0m, in \u001b[0;36mtimeit.<locals>.timed\u001b[1;34m(*args, **kw)\u001b[0m\n\u001b[0;32m      3\u001b[0m \u001b[38;5;28;01mdef\u001b[39;00m \u001b[38;5;21mtimed\u001b[39m(\u001b[38;5;241m*\u001b[39margs, \u001b[38;5;241m*\u001b[39m\u001b[38;5;241m*\u001b[39mkw):\n\u001b[0;32m      4\u001b[0m     ts \u001b[38;5;241m=\u001b[39m time\u001b[38;5;241m.\u001b[39mtime()\n\u001b[1;32m----> 5\u001b[0m     result \u001b[38;5;241m=\u001b[39m \u001b[43mmethod\u001b[49m\u001b[43m(\u001b[49m\u001b[38;5;241;43m*\u001b[39;49m\u001b[43margs\u001b[49m\u001b[43m,\u001b[49m\u001b[43m \u001b[49m\u001b[38;5;241;43m*\u001b[39;49m\u001b[38;5;241;43m*\u001b[39;49m\u001b[43mkw\u001b[49m\u001b[43m)\u001b[49m\n\u001b[0;32m      6\u001b[0m     te \u001b[38;5;241m=\u001b[39m time\u001b[38;5;241m.\u001b[39mtime()\n\u001b[0;32m      7\u001b[0m     \u001b[38;5;28mprint\u001b[39m(\u001b[38;5;124m\"\u001b[39m\u001b[38;5;124mFinished in \u001b[39m\u001b[38;5;132;01m{:04.2f}\u001b[39;00m\u001b[38;5;124ms\u001b[39m\u001b[38;5;124m\"\u001b[39m\u001b[38;5;241m.\u001b[39mformat(te\u001b[38;5;241m-\u001b[39mts))\n",
      "Cell \u001b[1;32mIn[38], line 21\u001b[0m, in \u001b[0;36mget_diverse_valid_variants\u001b[1;34m(constraint_list, size)\u001b[0m\n\u001b[0;32m     19\u001b[0m     shuffle(constraint)\n\u001b[0;32m     20\u001b[0m c_copy \u001b[38;5;241m=\u001b[39m \u001b[38;5;28mlist\u001b[39m(new_c)\n\u001b[1;32m---> 21\u001b[0m solution \u001b[38;5;241m=\u001b[39m \u001b[43mpycosat\u001b[49m\u001b[38;5;241;43m.\u001b[39;49m\u001b[43msolve\u001b[49m\u001b[43m(\u001b[49m\u001b[43mc_copy\u001b[49m\u001b[43m)\u001b[49m\n\u001b[0;32m     22\u001b[0m new_c\u001b[38;5;241m.\u001b[39mappend([j \u001b[38;5;241m*\u001b[39m \u001b[38;5;241m-\u001b[39m\u001b[38;5;241m1\u001b[39m \u001b[38;5;28;01mfor\u001b[39;00m j \u001b[38;5;129;01min\u001b[39;00m solution])\n\u001b[0;32m     23\u001b[0m solution \u001b[38;5;241m=\u001b[39m transform2binary(solution)\n",
      "\u001b[1;31mKeyboardInterrupt\u001b[0m: "
     ]
    }
   ],
   "source": [
    "%%capture\n",
    "import pandas as pd\n",
    "sample_sizes = np.arange(10, 300, 30)#[10, 20, 30, 50, 75, 100, 200]\n",
    "n_reps = 10\n",
    "results = []\n",
    "for s in sample_sizes:\n",
    "    for i in range(n_reps):\n",
    "        diverse_sample_set = get_diverse_valid_variants(clauses, s)\n",
    "        simple_sample_set = get_valid_variants(clauses, s)\n",
    "        score_div = score(whole_population_vp9, diverse_sample_set)\n",
    "        score_simple = score(whole_population_vp9, simple_sample_set)\n",
    "        t_simple = (\"simple\", s, i, score_simple)\n",
    "        t_div = (\"diverse\", s, i, score_div)\n",
    "        results = [*results, t_simple, t_div]"
   ]
  },
  {
   "cell_type": "code",
   "execution_count": null,
   "metadata": {
    "slideshow": {
     "slide_type": "subslide"
    }
   },
   "outputs": [
    {
     "data": {
      "text/plain": [
       "(0.0, 0.1700388797427963)"
      ]
     },
     "execution_count": 107,
     "metadata": {},
     "output_type": "execute_result"
    },
    {
     "data": {
      "image/png": "[encoded data removed]",
      "text/plain": [
       "<Figure size 640x480 with 1 Axes>"
      ]
     },
     "metadata": {},
     "output_type": "display_data"
    }
   ],
   "source": [
    "import seaborn as sns\n",
    "import matplotlib.pyplot as plt\n",
    "df = pd.DataFrame(results, columns=[\"approach\", \"budget\", \"rnd\", \"RMS score\"])\n",
    "sns.lineplot(data=df, x=\"budget\", y=\"RMS score\", hue=\"approach\", palette='muted', errorbar='sd')\n",
    "plt.ylim(0)"
   ]
  }
 ],
 "metadata": {
  "celltoolbar": "Slideshow",
  "kernelspec": {
   "display_name": "Python 3 (ipykernel)",
   "language": "python",
   "name": "python3"
  },
  "language_info": {
   "codemirror_mode": {
    "name": "ipython",
    "version": 3
   },
   "file_extension": ".py",
   "mimetype": "text/x-python",
   "name": "python",
   "nbconvert_exporter": "python",
   "pygments_lexer": "ipython3",
   "version": "3.12.3"
  }
 },
 "nbformat": 4,
 "nbformat_minor": 4
}
