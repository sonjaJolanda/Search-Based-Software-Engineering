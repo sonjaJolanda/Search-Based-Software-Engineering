{
 "cells": [
  {
   "cell_type": "markdown",
   "metadata": {
    "slideshow": {
     "slide_type": "slide"
    }
   },
   "source": [
    "# Search-Based Software Engineering Exercise\n",
    "## Exercise 02 - CSP\n",
    "<center>\n",
    "    \n",
    "    Stefan Jahns\n",
    "    \n",
    "    Softwaresysteme - Summer Term 2024\n",
    "    \n",
    "</center>\n",
    "<center>\n",
    "    <img src='uni-leipzig.png' style=\"height:5em\" >   <img src='SOSY-Logo.png' style=\"height:5em\">\n",
    "    \n",
    "</center>"
   ]
  },
  {
   "cell_type": "markdown",
   "metadata": {
    "slideshow": {
     "slide_type": "slide"
    }
   },
   "source": [
    "## Scope of this excercise\n",
    " - apply CSP solvers to configurable software systems\n",
    " - mini-lesson on Feature Models"
   ]
  },
  {
   "cell_type": "markdown",
   "metadata": {
    "slideshow": {
     "slide_type": "fragment"
    }
   },
   "source": [
    "For many use cases, it is useful to represent configurations as binary vectors s.a. \n",
    "[1 0 1 0 1 1 1]"
   ]
  },
  {
   "cell_type": "markdown",
   "metadata": {
    "slideshow": {
     "slide_type": "subslide"
    }
   },
   "source": [
    "<center>\n",
    "    <img src='VP9.png' style=\"height:20em\" />  \n",
    "</center>"
   ]
  },
  {
   "cell_type": "markdown",
   "metadata": {
    "slideshow": {
     "slide_type": "subslide"
    }
   },
   "source": [
    "## Short introduction to pycosat\n",
    "```\n",
    "pip install pycosat\n",
    "```"
   ]
  },
  {
   "cell_type": "code",
   "execution_count": 1,
   "metadata": {
    "slideshow": {
     "slide_type": "fragment"
    }
   },
   "outputs": [],
   "source": [
    "import pycosat"
   ]
  },
  {
   "cell_type": "markdown",
   "metadata": {
    "slideshow": {
     "slide_type": "subslide"
    }
   },
   "source": [
    "### Supplying constraints"
   ]
  },
  {
   "cell_type": "markdown",
   "metadata": {
    "slideshow": {
     "slide_type": "fragment"
    }
   },
   "source": [
    "```pycosat.solve(constraints)``` takes a list of CNF clauses and yields a valid solution"
   ]
  },
  {
   "cell_type": "markdown",
   "metadata": {
    "slideshow": {
     "slide_type": "fragment"
    }
   },
   "source": [
    "Example with 3 features"
   ]
  },
  {
   "cell_type": "code",
   "execution_count": 3,
   "metadata": {
    "slideshow": {
     "slide_type": "fragment"
    }
   },
   "outputs": [
    {
     "data": {
      "text/plain": [
       "[[1], [2, -3]]"
      ]
     },
     "execution_count": 3,
     "metadata": {},
     "output_type": "execute_result"
    }
   ],
   "source": [
    "constraints = []\n",
    "constraints.append([1])\n",
    "constraints.append([2,-3])\n",
    "constraints"
   ]
  },
  {
   "cell_type": "code",
   "execution_count": 4,
   "metadata": {
    "slideshow": {
     "slide_type": "fragment"
    }
   },
   "outputs": [
    {
     "data": {
      "text/plain": [
       "[1, 2, -3]"
      ]
     },
     "execution_count": 4,
     "metadata": {},
     "output_type": "execute_result"
    }
   ],
   "source": [
    "pycosat.solve(constraints)"
   ]
  },
  {
   "cell_type": "markdown",
   "metadata": {
    "slideshow": {
     "slide_type": "subslide"
    }
   },
   "source": [
    "### Checking for Satisfyability"
   ]
  },
  {
   "cell_type": "code",
   "execution_count": 5,
   "metadata": {
    "slideshow": {
     "slide_type": "fragment"
    }
   },
   "outputs": [
    {
     "name": "stdout",
     "output_type": "stream",
     "text": [
      "Solution: [1, 2, -3]\n"
     ]
    }
   ],
   "source": [
    "solution = pycosat.solve(constraints)\n",
    "if solution == \"UNSAT\":\n",
    "    print(\"No solutions found!\")\n",
    "else:\n",
    "    print(\"Solution:\", solution)"
   ]
  },
  {
   "cell_type": "markdown",
   "metadata": {
    "slideshow": {
     "slide_type": "subslide"
    }
   },
   "source": [
    "### Adding constraints"
   ]
  },
  {
   "cell_type": "code",
   "execution_count": 6,
   "metadata": {
    "slideshow": {
     "slide_type": "fragment"
    }
   },
   "outputs": [
    {
     "data": {
      "text/plain": [
       "[[1], [2, -3]]"
      ]
     },
     "execution_count": 6,
     "metadata": {},
     "output_type": "execute_result"
    }
   ],
   "source": [
    "constraints"
   ]
  },
  {
   "cell_type": "code",
   "execution_count": 7,
   "metadata": {
    "slideshow": {
     "slide_type": "fragment"
    }
   },
   "outputs": [
    {
     "data": {
      "text/plain": [
       "[1, -2, -3]"
      ]
     },
     "execution_count": 7,
     "metadata": {},
     "output_type": "execute_result"
    }
   ],
   "source": [
    "constraints.append([-2])\n",
    "pycosat.solve(constraints)"
   ]
  },
  {
   "cell_type": "code",
   "execution_count": 8,
   "metadata": {
    "slideshow": {
     "slide_type": "fragment"
    }
   },
   "outputs": [
    {
     "data": {
      "text/plain": [
       "'UNSAT'"
      ]
     },
     "execution_count": 8,
     "metadata": {},
     "output_type": "execute_result"
    }
   ],
   "source": [
    "constraints.append([2])\n",
    "pycosat.solve(constraints)"
   ]
  },
  {
   "cell_type": "markdown",
   "metadata": {
    "slideshow": {
     "slide_type": "subslide"
    }
   },
   "source": [
    "### Constraints in the wild"
   ]
  },
  {
   "cell_type": "raw",
   "metadata": {
    "slideshow": {
     "slide_type": "fragment"
    }
   },
   "source": [
    "c 1 root\n",
    "c 2 twoPass\n",
    "c 3 quality\n",
    "c 4 bestQuality\n",
    "c 5 goodQuality\n",
    "c 6 rtQuality\n",
    "....\n",
    "1 0\n",
    "3 0\n",
    "....\n",
    "15 16 17 14 -13 0\n",
    "-15 -16 0\n",
    "-15 -17 0\n",
    "-15 -14 0\n",
    "-16 -17 0"
   ]
  },
  {
   "cell_type": "markdown",
   "metadata": {
    "slideshow": {
     "slide_type": "slide"
    }
   },
   "source": [
    "# Material"
   ]
  },
  {
   "cell_type": "code",
   "execution_count": 9,
   "metadata": {
    "slideshow": {
     "slide_type": "fragment"
    }
   },
   "outputs": [],
   "source": [
    "import pycosat\n",
    "import numpy as np\n",
    "import copy"
   ]
  },
  {
   "cell_type": "code",
   "execution_count": 10,
   "metadata": {
    "slideshow": {
     "slide_type": "subslide"
    }
   },
   "outputs": [],
   "source": [
    "def parse_dimacs(path):\n",
    "    \"\"\"\n",
    "    A function to parse a provided DIMACS-file.\n",
    "\n",
    "    Args:\n",
    "        path (str): The DIMACS-file's file path\n",
    "\n",
    "    Returns:\n",
    "        A list of lists containing all of the DIMACS-file's constrains. Each constraint is represented by a seperate sub-list.\n",
    "    \"\"\"\n",
    "    dimacs = list()\n",
    "    dimacs.append(list())\n",
    "    with open(path) as mfile:\n",
    "        for line in mfile:\n",
    "            tokens = line.split()\n",
    "            if len(tokens) != 0 and tokens[0] not in (\"p\", \"c\"):\n",
    "                for tok in tokens:\n",
    "                    lit = int(tok)\n",
    "                    if lit == 0:\n",
    "                        dimacs.append(list())\n",
    "                    else:\n",
    "                        dimacs[-1].append(lit)\n",
    "    assert len(dimacs[-1]) == 0\n",
    "    dimacs.pop()\n",
    "    return dimacs"
   ]
  },
  {
   "cell_type": "code",
   "execution_count": 11,
   "metadata": {
    "slideshow": {
     "slide_type": "subslide"
    }
   },
   "outputs": [],
   "source": [
    "def transform2binary(sol):\n",
    "    \"\"\"\n",
    "    A function which takes a valid variant, consisting of positive and negative integers and transforming it into binary values\n",
    "    Args:\n",
    "        sol (list): A list that contains one valid variant, represented by positve and negative integers\n",
    "\n",
    "    Returns:\n",
    "        A list that contains the valid variants transformed into binary, where negative integers are now represented as 0 and positive integers as 1\n",
    "    \"\"\"\n",
    "    sol = sorted(sol, key=abs)\n",
    "    for index, elem in enumerate(sol):\n",
    "        if float(elem) < 0:\n",
    "            sol[index] = 0\n",
    "        else:\n",
    "            sol[index] = 1\n",
    "    return sol"
   ]
  },
  {
   "cell_type": "code",
   "execution_count": 12,
   "metadata": {
    "slideshow": {
     "slide_type": "subslide"
    }
   },
   "outputs": [],
   "source": [
    "def get_valid_variants(constraint_list, size):\n",
    "    \"\"\"\n",
    "    A function to compute the valid variants of a model.\n",
    "\n",
    "    Args:\n",
    "        constraint_list (list): All constrains provided for the model.\n",
    "        size (int): The desired number of variants for the model.\n",
    "\n",
    "    Returns:\n",
    "        A list of variants, which satisfy the provided constrains. Each entry represents one variant.\n",
    "    \"\"\"\n",
    "    my_constraints = copy.deepcopy(constraint_list)\n",
    "    variants = []\n",
    "    for i in range(0, size):\n",
    "            solution = pycosat.solve(my_constraints)\n",
    "            if solution == \"UNSAT\":\n",
    "                print(\"No more solutions found!\")\n",
    "                break\n",
    "            binary_solution = transform2binary(solution)\n",
    "            print(\"Pycosat Literals:\", solution, \"Binary Vector Solution\", binary_solution)\n",
    "            variants.append(binary_solution)\n",
    "            #TODO: solve exercise\n",
    "            \n",
    "    return variants"
   ]
  },
  {
   "cell_type": "code",
   "execution_count": 19,
   "metadata": {
    "slideshow": {
     "slide_type": "subslide"
    }
   },
   "outputs": [],
   "source": [
    "def score(a,b):\n",
    "    \"\"\"\n",
    "    returns root-mean-squared distance between two populatons (high is dissimilar, 0.0 is identical)\n",
    "    \"\"\"\n",
    "    def get_ft_frequencies(pop):\n",
    "        pop_np = np.array(pop)\n",
    "        pop_np = pop_np / np.sum(pop_np)\n",
    "        return pop_np.sum(axis=0)\n",
    "    \n",
    "    a_freqs = get_ft_frequencies(a)\n",
    "    b_freqs = get_ft_frequencies(b)\n",
    "    statistic = np.sqrt(np.sum(np.power(a_freqs - b_freqs, 2)))\n",
    "    return statistic"
   ]
  },
  {
   "cell_type": "markdown",
   "metadata": {
    "slideshow": {
     "slide_type": "subslide"
    }
   },
   "source": [
    "## Example Usage"
   ]
  },
  {
   "cell_type": "code",
   "execution_count": 13,
   "metadata": {
    "slideshow": {
     "slide_type": "fragment"
    }
   },
   "outputs": [],
   "source": [
    "clauses = parse_dimacs(\"VP9.dimacs\") "
   ]
  },
  {
   "cell_type": "code",
   "execution_count": 14,
   "metadata": {
    "scrolled": true,
    "slideshow": {
     "slide_type": "fragment"
    }
   },
   "outputs": [
    {
     "name": "stdout",
     "output_type": "stream",
     "text": [
      "Pycosat Literals: [1, 2, 3, -4, 5, -6, -7, -8, 9, -10, -11, -12, 13, -14, -15, -16, 17, 18, 19, -20, -21, 22, 23, -24, -25] Binary Vector Solution [1, 1, 1, 0, 1, 0, 0, 0, 1, 0, 0, 0, 1, 0, 0, 0, 1, 1, 1, 0, 0, 1, 1, 0, 0]\n",
      "Pycosat Literals: [1, 2, 3, -4, 5, -6, -7, -8, 9, -10, -11, -12, 13, -14, -15, -16, 17, 18, 19, -20, -21, 22, 23, -24, -25] Binary Vector Solution [1, 1, 1, 0, 1, 0, 0, 0, 1, 0, 0, 0, 1, 0, 0, 0, 1, 1, 1, 0, 0, 1, 1, 0, 0]\n"
     ]
    },
    {
     "data": {
      "text/plain": [
       "[[1, 1, 1, 0, 1, 0, 0, 0, 1, 0, 0, 0, 1, 0, 0, 0, 1, 1, 1, 0, 0, 1, 1, 0, 0],\n",
       " [1, 1, 1, 0, 1, 0, 0, 0, 1, 0, 0, 0, 1, 0, 0, 0, 1, 1, 1, 0, 0, 1, 1, 0, 0]]"
      ]
     },
     "execution_count": 14,
     "metadata": {},
     "output_type": "execute_result"
    }
   ],
   "source": [
    "variants = get_valid_variants(clauses, 2)\n",
    "variants"
   ]
  },
  {
   "cell_type": "code",
   "execution_count": 15,
   "metadata": {
    "slideshow": {
     "slide_type": "fragment"
    }
   },
   "outputs": [],
   "source": [
    "import pickle\n",
    "with open( \"dump.p\", \"wb\" ) as file:\n",
    "    pickle.dump( variants,  file)"
   ]
  },
  {
   "cell_type": "code",
   "execution_count": 16,
   "metadata": {
    "slideshow": {
     "slide_type": "fragment"
    }
   },
   "outputs": [
    {
     "data": {
      "text/plain": [
       "[[1, 1, 1, 0, 1, 0, 0, 0, 1, 0, 0, 0, 1, 0, 0, 0, 1, 1, 1, 0, 0, 1, 1, 0, 0],\n",
       " [1, 1, 1, 0, 1, 0, 0, 0, 1, 0, 0, 0, 1, 0, 0, 0, 1, 1, 1, 0, 0, 1, 1, 0, 0]]"
      ]
     },
     "execution_count": 16,
     "metadata": {},
     "output_type": "execute_result"
    }
   ],
   "source": [
    "with open( \"dump.p\", \"rb\" ) as file:\n",
    "    old_data = pickle.load(file)\n",
    "old_data"
   ]
  },
  {
   "cell_type": "code",
   "execution_count": 21,
   "metadata": {
    "slideshow": {
     "slide_type": "subslide"
    }
   },
   "outputs": [],
   "source": [
    "pop_A = (\n",
    "    [1,0,0],\n",
    "    [1,1,0]\n",
    ")\n",
    "pop_B = (\n",
    "    [0,0,0],\n",
    "    [0,1,0]\n",
    ")\n",
    "pop_C = (\n",
    "    [0,0,0],\n",
    "    [0,1,1]\n",
    ")"
   ]
  },
  {
   "cell_type": "code",
   "execution_count": 23,
   "metadata": {
    "slideshow": {
     "slide_type": "fragment"
    }
   },
   "outputs": [
    {
     "data": {
      "text/plain": [
       "0.7071067811865476"
      ]
     },
     "execution_count": 23,
     "metadata": {},
     "output_type": "execute_result"
    }
   ],
   "source": [
    "score(pop_B, pop_C)"
   ]
  }
 ],
 "metadata": {
  "celltoolbar": "Slideshow",
  "kernelspec": {
   "display_name": "Python 3 (ipykernel)",
   "language": "python",
   "name": "python3"
  },
  "language_info": {
   "codemirror_mode": {
    "name": "ipython",
    "version": 3
   },
   "file_extension": ".py",
   "mimetype": "text/x-python",
   "name": "python",
   "nbconvert_exporter": "python",
   "pygments_lexer": "ipython3",
   "version": "3.10.6"
  }
 },
 "nbformat": 4,
 "nbformat_minor": 4
}
