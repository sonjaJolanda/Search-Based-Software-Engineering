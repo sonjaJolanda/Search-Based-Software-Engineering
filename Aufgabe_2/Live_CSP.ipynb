{
 "cells": [
  {
   "cell_type": "code",
   "execution_count": 3,
   "metadata": {
    "ExecuteTime": {
     "end_time": "2020-04-05T12:18:38.724538Z",
     "start_time": "2020-04-05T12:18:35.288604Z"
    }
   },
   "outputs": [
    {
     "data": {
      "image/png": "[encoded data removed]",
      "text/plain": [
       "<Figure size 432x288 with 1 Axes>"
      ]
     },
     "metadata": {
      "needs_background": "light"
     },
     "output_type": "display_data"
    }
   ],
   "source": [
    "from IPython import display\n",
    "import time\n",
    "import numpy as np\n",
    "import matplotlib as mpl\n",
    "import matplotlib.cm as cm\n",
    "import matplotlib.pyplot as plt\n",
    "%matplotlib inline\n",
    "import random\n",
    "import copy\n",
    "import pdb\n",
    "\n",
    "def plot_configuration(state, fig):\n",
    "    plt.axes()\n",
    "    line1 = plt.Line2D((0, 10), (0, 0), lw=2.5,zorder=1)\n",
    "    plt.gca().add_line(line1)\n",
    "    line2 = plt.Line2D((0,10), (5, 5), lw=2.5,zorder=1)\n",
    "    plt.gca().add_line(line2)\n",
    "    line3 = plt.Line2D((0,10), (10, 10), lw=2.5,zorder=1)\n",
    "    plt.gca().add_line(line3)\n",
    "\n",
    "    lineA = plt.Line2D((0, 0), (0, 10), lw=2.5,zorder=1)\n",
    "    plt.gca().add_line(lineA)\n",
    "    \n",
    "    lineB = plt.Line2D((5,5), (0, 10), lw=2.5,zorder=1)\n",
    "    plt.gca().add_line(lineB)\n",
    "    lineC = plt.Line2D((10,10), (0, 10), lw=2.5,zorder=1)\n",
    "    plt.gca().add_line(lineC)\n",
    "\n",
    "    lineA1 = plt.Line2D((0, 10), (0, 10), lw=2.5,zorder=1)\n",
    "    plt.gca().add_line(lineA1)\n",
    "    lineB2 = plt.Line2D((0,5), (5, 10), lw=2.5,zorder=1)\n",
    "    plt.gca().add_line(lineB2)\n",
    "    lineC3 = plt.Line2D((5,10), (0, 5), lw=2.5,zorder=1)\n",
    "    plt.gca().add_line(lineC3)\n",
    "\n",
    "\n",
    "    circle_1_1 = plt.Circle((0, 0), radius=1, fc=state[0],zorder=2)\n",
    "    plt.gca().add_patch(circle_1_1)\n",
    "    circle_1_2 = plt.Circle((0, 5), radius=1, fc=state[3],zorder=2)\n",
    "    plt.gca().add_patch(circle_1_2)\n",
    "    circle_1_3 = plt.Circle((0, 10), radius=1, fc=state[6],zorder=2)\n",
    "    plt.gca().add_patch(circle_1_3)\n",
    "\n",
    "    circle_2_1 = plt.Circle((5, 0), radius=1, fc=state[1],zorder=2)\n",
    "    plt.gca().add_patch(circle_2_1)\n",
    "    circle_2_2 = plt.Circle((5, 5), radius=1, fc=state[4],zorder=2)\n",
    "    plt.gca().add_patch(circle_2_2)\n",
    "    circle_2_3 = plt.Circle((5, 10), radius=1, fc=state[7],zorder=2)\n",
    "    plt.gca().add_patch(circle_2_3)\n",
    "\n",
    "    circle_3_1 = plt.Circle((10, 0), radius=1, fc=state[2],zorder=2)\n",
    "    plt.gca().add_patch(circle_3_1)\n",
    "    circle_3_2 = plt.Circle((10, 5), radius=1, fc=state[5],zorder=2)\n",
    "    plt.gca().add_patch(circle_3_2)\n",
    "    circle_3_3 = plt.Circle((10, 10), radius=1, fc=state[8],zorder=2)\n",
    "    plt.gca().add_patch(circle_3_3)\n",
    "\n",
    "    plt.axis('scaled')\n",
    "    fig.canvas.draw()\n",
    "    display.display(plt.gcf())\n",
    "    display.clear_output(wait=True)\n",
    "\n",
    "plt.ion()\n",
    "fig,ax = plt.subplots(1,1)\n",
    "state=['w','w','w','w','w','w','w','w','w']\n",
    "domain = ['r','g','b']\n",
    "\n",
    "def test():\n",
    "    for i in range(10):\n",
    "        #print(i)\n",
    "        plot_configuration(state, fig)\n",
    "        if i==9:\n",
    "           break \n",
    "        if i % 2 == 0:\n",
    "            state[i] = 'b'\n",
    "        else:\n",
    "            state[i] = \"r\"\n",
    "        time.sleep(0.2)\n",
    "test() "
   ]
  },
  {
   "cell_type": "code",
   "execution_count": 4,
   "metadata": {
    "ExecuteTime": {
     "end_time": "2020-04-05T12:21:02.385430Z",
     "start_time": "2020-04-05T12:21:02.375433Z"
    }
   },
   "outputs": [],
   "source": [
    "def checkConstraint(state):\n",
    "    if state[0] == state[1] and state[0] != \"w\":\n",
    "        return False\n",
    "    if state[0] == state[3] and state[0] != \"w\":\n",
    "        return False\n",
    "    if state[0] == state[4] and state[0] != \"w\":\n",
    "        return False\n",
    "    if state[1] == state[4] and state[1] != \"w\":\n",
    "        return False\n",
    "    if state[1] == state[5] and state[1] != \"w\":\n",
    "        return False\n",
    "    if state[1] == state[2] and state[1] != \"w\":\n",
    "        return False\n",
    "    if state[0] == state[1] and state[0] != \"w\":\n",
    "        return False\n",
    "    if state[2] == state[5] and state[2] != \"w\":\n",
    "        return False\n",
    "    if state[3] == state[4] and state[3] != \"w\":\n",
    "        return False\n",
    "    if state[3] == state[6] and state[3] != \"w\":\n",
    "        return False\n",
    "    if state[3] == state[7] and state[3] != \"w\":\n",
    "        return False\n",
    "    if state[4] == state[5] and state[4] != \"w\":\n",
    "        return False\n",
    "    if state[4] == state[7] and state[4] != \"w\":\n",
    "        return False\n",
    "    if state[4] == state[8] and state[4] != \"w\":\n",
    "        return False\n",
    "    if state[5] == state[8] and state[5] != \"w\":\n",
    "        return False\n",
    "    if state[6] == state[7] and state[6] != \"w\":\n",
    "        return False\n",
    "    if state[7] == state[8] and state[7] != \"w\":\n",
    "        return False\n",
    "    return True"
   ]
  },
  {
   "cell_type": "code",
   "execution_count": 11,
   "metadata": {
    "ExecuteTime": {
     "end_time": "2020-04-05T12:47:53.358018Z",
     "start_time": "2020-04-05T12:47:53.351104Z"
    }
   },
   "outputs": [],
   "source": [
    "def depthFirstSearch(state, domain, constraints, fig):\n",
    "    global nbExecutions\n",
    "    nbExecutions = nbExecutions + 1\n",
    "    \n",
    "    # Goal test: abort recursion when the last state has an assigned value\n",
    "    # and all constraints are satisfied\n",
    "    if state[len(state)-1] != 'w':\n",
    "        plot_configuration(state, fig)\n",
    "        if constraints(state) == True:\n",
    "            return state, True\n",
    "        else:\n",
    "            return state, False\n",
    "    \n",
    "    # go through all variables until we find an unassigned one\n",
    "    for i in range(len(state)):\n",
    "        if state[i] == 'w': # we found an unassigned variable\n",
    "            # go through the domain values and try assigning the variable with a value\n",
    "            for r in range(len(domain)):\n",
    "                state[i] = domain[r]\n",
    "                if constraints(state) == False:\n",
    "                    continue\n",
    "                plot_configuration(state, fig)\n",
    "                time.sleep(1.2)\n",
    "                \n",
    "                # recursion step -> going deeper in the search tree\n",
    "                temp_state, success = depthFirstSearch(state, domain, constraints, fig)\n",
    "                if success:\n",
    "                    return temp_state, success\n",
    "                \n",
    "            # Backtracking: we tried all values for the chosen variable, but all failed -> backtrack\n",
    "            state[i] = 'w'\n",
    "            return state, False\n",
    "    return state, False #we should never reach this statement and return beforehand"
   ]
  },
  {
   "cell_type": "code",
   "execution_count": 12,
   "metadata": {
    "ExecuteTime": {
     "end_time": "2020-04-05T12:48:21.441493Z",
     "start_time": "2020-04-05T12:48:01.751493Z"
    }
   },
   "outputs": [
    {
     "name": "stdout",
     "output_type": "stream",
     "text": [
      "Number of executions: 15\n"
     ]
    },
    {
     "data": {
      "image/png": "[encoded data removed]",
      "text/plain": [
       "<Figure size 432x288 with 1 Axes>"
      ]
     },
     "metadata": {
      "needs_background": "light"
     },
     "output_type": "display_data"
    }
   ],
   "source": [
    "plt.ion()\n",
    "fig,ax = plt.subplots(1,1)\n",
    "# Define the constraint satisfaction problem\n",
    "state=['w','w','w','w','w','w','w','w','w']\n",
    "domain = [\"r\",\"b\",\"g\"]\n",
    "constraints = checkConstraint   \n",
    "nbExecutions = 0\n",
    "solution, finalResult = depthFirstSearch(state, domain, constraints, fig)\n",
    "print(\"Number of executions: \" + str(nbExecutions))"
   ]
  },
  {
   "cell_type": "markdown",
   "metadata": {},
   "source": [
    "## Improve Visualization\n",
    "Show the remaining values for each variable"
   ]
  },
  {
   "cell_type": "code",
   "execution_count": 13,
   "metadata": {
    "ExecuteTime": {
     "end_time": "2020-04-05T12:50:14.629517Z",
     "start_time": "2020-04-05T12:50:14.616515Z"
    }
   },
   "outputs": [],
   "source": [
    "def plot_configuration_withDomainValues(state, domains, constraints, fig, nbColumns=3):\n",
    "    plt.axes()\n",
    "    if len(state)>len(domains):\n",
    "        print(state)\n",
    "        print(domains)\n",
    "        pdb.set_trace()\n",
    "    #draw circles\n",
    "    for i in range(len(state)):\n",
    "        x, y = returnCoordinatesForIndex(len(state),i,nbColumns)\n",
    "        #circumvent bug in plt: old circles stay there, so we taint them in the color of the underlying circle\n",
    "        for r in range(1,3):\n",
    "            generic_circle = plt.Circle((x-1+r, y), radius=0.3, fc=state[i],zorder=3, linewidth=0)\n",
    "            plt.gca().add_patch(generic_circle)    \n",
    "        for r in range(len(domains[i])):\n",
    "            generic_circle = plt.Circle((x-1+r, y), radius=0.25, fc=domains[i][r],zorder=3)\n",
    "            plt.gca().add_patch(generic_circle)\n",
    "        \n",
    "        generic_circle = plt.Circle((x, y), radius=1.5, fc=state[i],zorder=2)\n",
    "        plt.gca().add_patch(generic_circle)\n",
    "        \n",
    "    #draw constraints\n",
    "    temp_state = [\"w\"] * len(state)\n",
    "    for i in range(len(state)-1):\n",
    "        temp_state[i] = \"r\"\n",
    "        for k in range(i+1,len(state)):\n",
    "            temp_state[k] = \"r\"\n",
    "            if constraints(temp_state) == False:\n",
    "                x1,y1 = returnCoordinatesForIndex(len(state),i,nbColumns)\n",
    "                x2,y2 = returnCoordinatesForIndex(len(state),k,nbColumns)\n",
    "                generic_line = plt.Line2D((x1,x2),(y1,y2),lw=2.5,zorder=1)\n",
    "                plt.gca().add_line(generic_line)\n",
    "            temp_state[k] = \"w\"\n",
    "        temp_state[i] = \"w\"\n",
    "    plt.axis('scaled')\n",
    "    fig.canvas.draw()\n",
    "    display.display(plt.gcf())\n",
    "    display.clear_output(wait=True)\n",
    "\n",
    "def returnCoordinatesForIndex(nbCirles, currentVariable, nbColumns):\n",
    "    '''\n",
    "    The graph draws a node (variable) in steps of 5 in x and y direction. So, when\n",
    "    we have nodes at (0,0), (0,5), (0,10), (5, 0), etc. This function returns the coordinates\n",
    "    for the given variable / node.\n",
    "    '''\n",
    "    y = -5\n",
    "    x = -5\n",
    "    for k in range(nbCirles):\n",
    "        if k % nbColumns == 0:\n",
    "            y = y + 5 # we need to go 'higher' in the graph \n",
    "            x = 0 # and start at the fron again\n",
    "        if currentVariable == k:\n",
    "            return x, y\n",
    "        x = x + 5 #move to the right\n",
    "    return 0, 0 #should not happen\n"
   ]
  },
  {
   "cell_type": "code",
   "execution_count": 15,
   "metadata": {
    "ExecuteTime": {
     "end_time": "2020-04-05T12:50:51.932696Z",
     "start_time": "2020-04-05T12:50:46.263819Z"
    }
   },
   "outputs": [
    {
     "data": {
      "image/png": "[encoded data removed]",
      "text/plain": [
       "<Figure size 432x288 with 1 Axes>"
      ]
     },
     "metadata": {
      "needs_background": "light"
     },
     "output_type": "display_data"
    }
   ],
   "source": [
    "state=['w','w','w','w','w','w','w','w','w']\n",
    "domain = [\"r\",\"b\",\"g\"]\n",
    "domains = [copy.deepcopy(domain) for i in range(len(state))]\n",
    "def test_with_values():\n",
    "    for i in range(10):\n",
    "        #print(i)\n",
    "        plot_configuration_withDomainValues(state, domains, constraints, fig)\n",
    "        if i==9:\n",
    "           break \n",
    "        state[i] = \"r\"\n",
    "        time.sleep(0.2)\n",
    "\n",
    "test_with_values()"
   ]
  },
  {
   "cell_type": "code",
   "execution_count": 26,
   "metadata": {
    "ExecuteTime": {
     "end_time": "2020-04-05T14:06:50.148211Z",
     "start_time": "2020-04-05T14:06:50.135209Z"
    }
   },
   "outputs": [],
   "source": [
    "def solveCSP(state, domains, constraints, position, fig):\n",
    "    ''' Recursive function to solve a CSP:\n",
    "    CSP formalization: \n",
    "    variables = state vector (list here), \n",
    "    domains = list of lists representing vector of domains for all variables, \n",
    "    constraints = implizit constraints encoded as a function,\n",
    "    position = current variable that needs assignment,\n",
    "    fig = only for visualization purpose to visualize the current state of solving the CSP\n",
    "    '''\n",
    "    global nbExecutions\n",
    "    nbExecutions = nbExecutions + 1 #counting the number of executions\n",
    "    \n",
    "    # goal test:  abort recursion when the last state has an assigned value \n",
    "    #and all constraints are satisfied\n",
    "    if state[len(state)-1] != \"w\": \n",
    "        if constraints(state) == True: \n",
    "            plot_configuration_withDomainValues(state, domains, constraints, fig)\n",
    "            return state, True #found valid solution\n",
    "        else:\n",
    "            plot_configuration_withDomainValues(state, domains, constraints, fig)\n",
    "            return state, False #backtracking...\n",
    "        \n",
    "    if state[position] == \"w\" and len(domains[position]) > 0:\n",
    "        #go through all values in a domain for the current variable\n",
    "        for value in domains[position]:\n",
    "            temp_state = copy.deepcopy(state) #copy current solution\n",
    "            temp_domains = copy.deepcopy(domains) #copy current domain setting\n",
    "            temp_state[position] = value #select the chosen value\n",
    "            \n",
    "            if constraints(temp_state) == False:\n",
    "                continue #value is in conflict, try next value\n",
    "            temp_domains[position] = [value]\n",
    "            \n",
    "            # Forward checking\n",
    "            failedForward = False\n",
    "            #get Neighbors of the CSP Graph to check for possible conflicts in future\n",
    "            neighbors = getNeighbors(position, constraints)\n",
    "            for neighbor in neighbors:\n",
    "                # we check here, when there is only one value left in the domain of the\n",
    "                # neighbor and it has the same color as our current value, then there will\n",
    "                # be a conflict in future, so the value is incorrect\n",
    "                if (len(temp_domains[neighbor])) == 1 and value in temp_domains[neighbor]:\n",
    "                    failedForward = True\n",
    "                    break\n",
    "            if failedForward:\n",
    "                continue #forward checking resulted in conflict, so try next value\n",
    "                \n",
    "            # there is no conflict, but we need to remove the value that we have chosen from\n",
    "            # our neighbors since they are now invalid to take\n",
    "            for neighbor in neighbors:\n",
    "                if value in temp_domains[neighbor]:\n",
    "                    temp_domains[neighbor].remove(value)\n",
    "                    \n",
    "            #plotting\n",
    "            plot_configuration_withDomainValues(temp_state, temp_domains, constraints, fig)\n",
    "            time.sleep(1.5)\n",
    "            \n",
    "            #Depth-first search using the recursive function call (set position + 1)\n",
    "            temp_state, success = solveCSP(temp_state, temp_domains, constraints, position+1,fig)\n",
    "            if success:\n",
    "                return temp_state, True\n",
    "        return state, False\n",
    "    else:\n",
    "        return state, False\n",
    "\n",
    "def getNeighbors(position, constraints, optimize=True):\n",
    "    ''' Function that returns all neighbors of our current variable (position)\n",
    "    Idea: colorize our current variable with red. Now go through all all others variables\n",
    "    Test whether setting the variable to the same color results in a conflict. \n",
    "    If so, it is a neighbor and we append it to the list of neighbors\n",
    "    '''\n",
    "    temp_state = state=['w','w','w','w','w','w','w','w','w']\n",
    "    neighbors = list()\n",
    "    temp_state[position] = \"r\"\n",
    "    # we start at position+1 instead of 0, because we already made sure that the constraints\n",
    "    # to previous variables have been addressed. This is just an optimization!\n",
    "    start = 0\n",
    "    if optimize:\n",
    "        start = position+1\n",
    "    for k in range(start, len(state)): \n",
    "        temp_state[k] = \"r\"\n",
    "        if(constraints(temp_state)) == False:\n",
    "            neighbors.append(k)\n",
    "        if (optimize != False or k != position): #if optimize is false, we must not reset the target position\n",
    "            temp_state[k] = \"w\"\n",
    "    return neighbors"
   ]
  },
  {
   "cell_type": "code",
   "execution_count": 18,
   "metadata": {
    "ExecuteTime": {
     "end_time": "2020-04-05T13:07:36.254702Z",
     "start_time": "2020-04-05T13:07:36.248700Z"
    }
   },
   "outputs": [
    {
     "name": "stdout",
     "output_type": "stream",
     "text": [
      "first test okay\n",
      "second test okay\n"
     ]
    }
   ],
   "source": [
    "def test_getNeighbors():\n",
    "    position = 0\n",
    "    true_neighbors = [1,3,4]\n",
    "    neighbors = getNeighbors(position, constraints)\n",
    "    if (set(true_neighbors) == set(neighbors)):\n",
    "        print(\"first test okay\")\n",
    "    else:\n",
    "        print(\"returned wrong list of neighbors for first test.\")\n",
    "        print(\"True list \" + str(true_neighbors) + \" vs. returned list \" + str(neighbors))\n",
    "        \n",
    "    #Fails because of the optimization\n",
    "    position = 1\n",
    "    true_neighbors = [0,2,4,5]\n",
    "    neighbors = getNeighbors(position, constraints, optimize=False)\n",
    "    if (set(true_neighbors) == set(neighbors)):\n",
    "        print(\"second test okay\")\n",
    "    else:\n",
    "        print(\"returned wrong list of neighbors second test.\")\n",
    "        print(\"True list \" + str(true_neighbors) + \" vs. returned list \" + str(neighbors))\n",
    "test_getNeighbors()"
   ]
  },
  {
   "cell_type": "code",
   "execution_count": 27,
   "metadata": {
    "ExecuteTime": {
     "end_time": "2020-04-05T14:07:15.521305Z",
     "start_time": "2020-04-05T14:06:54.199715Z"
    }
   },
   "outputs": [
    {
     "name": "stdout",
     "output_type": "stream",
     "text": [
      "12\n"
     ]
    },
    {
     "data": {
      "image/png": "[encoded data removed]",
      "text/plain": [
       "<Figure size 432x288 with 1 Axes>"
      ]
     },
     "metadata": {
      "needs_background": "light"
     },
     "output_type": "display_data"
    }
   ],
   "source": [
    "plt.ion()\n",
    "fig,ax = plt.subplots(1,1)\n",
    "nbExecutions = 0\n",
    "\n",
    "#Define CSP\n",
    "state=['w','w','w','w','w','w','w','w','w']\n",
    "domain = [\"r\",\"b\",\"g\"]\n",
    "domains = [copy.deepcopy(domain) for i in range(len(state))]\n",
    "constraints = checkConstraint    \n",
    "\n",
    "#Solve CSP\n",
    "solution, finalResult = solveCSP(state, domains, constraints, 0,fig)\n",
    "print(nbExecutions)"
   ]
  },
  {
   "cell_type": "code",
   "execution_count": null,
   "metadata": {},
   "outputs": [],
   "source": []
  }
 ],
 "metadata": {
  "kernelspec": {
   "display_name": "Python 3",
   "language": "python",
   "name": "python3"
  },
  "language_info": {
   "codemirror_mode": {
    "name": "ipython",
    "version": 3
   },
   "file_extension": ".py",
   "mimetype": "text/x-python",
   "name": "python",
   "nbconvert_exporter": "python",
   "pygments_lexer": "ipython3",
   "version": "3.7.6"
  },
  "varInspector": {
   "cols": {
    "lenName": 16,
    "lenType": 16,
    "lenVar": 40
   },
   "kernels_config": {
    "python": {
     "delete_cmd_postfix": "",
     "delete_cmd_prefix": "del ",
     "library": "var_list.py",
     "varRefreshCmd": "print(var_dic_list())"
    },
    "r": {
     "delete_cmd_postfix": ") ",
     "delete_cmd_prefix": "rm(",
     "library": "var_list.r",
     "varRefreshCmd": "cat(var_dic_list()) "
    }
   },
   "types_to_exclude": [
    "module",
    "function",
    "builtin_function_or_method",
    "instance",
    "_Feature"
   ],
   "window_display": false
  }
 },
 "nbformat": 4,
 "nbformat_minor": 4
}
