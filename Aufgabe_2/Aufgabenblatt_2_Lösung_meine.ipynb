{
 "cells": [
  {
   "cell_type": "markdown",
   "metadata": {},
   "source": [
    "# Search-Based SWEN Exercise\n",
    "## Exercise 02 - Multi-State Meta-Heuristiken & CSP\n",
    "<center>\n",
    "    \n",
    "    Softwaresysteme - Summer Term 2024\n",
    "\n",
    "    Sonja Klein / 3794693\n",
    "    \n",
    "</center>"
   ]
  },
  {
   "cell_type": "markdown",
   "metadata": {},
   "source": [
    "**Aufgabe M1: Grundlagen**\n",
    "- a) Was bedeuten (1 + 1), (1 + λ), (1, λ), (μ + λ) und (μ, λ)? Erklären Sie ihre Unterschiede.\n",
    "Gibt es eine Korrespondenz mit bekannten Algorithmen aus der Vorlesung?\n",
    "    - 𝜆 kontrolliert die Stichprobengröße jeder Population (wie viele Eltern hab ich)\n",
    "    - µ kontrolliert die Selektivität des Algorithmuses (wie viele Kinder habe ich) (niedrig bedeutet maximale Exploitation)\n",
    "    - (1 + 1) = Hill Climbing + Gaussion Convolution\n",
    "    - (1 + λ) = Steepest Ascent Hill Climbing + Gaussion Convolution \n",
    "    - (1, λ) = Steepest Ascent Hill Climbing with Replacement + Gaussion Convolution \n",
    "    - (μ + λ) = Evolution Strategies \n",
    "    - difference \",\" and \"+\": The fittest parents survive (in “+”) and compete with their children in the next generation. \n",
    "\n",
    "\n",
    "- b) Wie unterscheiden sich Multi-State-Meta-Heuristiken von mehreren parallel\n",
    "durchgeführten Hill-Climbing-Verfahren? Unter welchen Umständen kann man einen\n",
    "Vorteil von Multi-State-Meta-Heuristiken erwarten?\n",
    "    - Die Kandidatenlösungen beeinflussen die anderen Kandidaten (bzw *wie* die klettern, je nach fitness) in den Multi-State-Meta-Heuristiken. Es gibt also einen Informationsaustausch. Neue Lösungen werden durch Mutation und Kombination der alten Lösungen generiert. Bei mehreren parallel durchgeführten beeinflussen sich die nicht gegenseitig. \n",
    "    - Das bringt einen Vorteil wenn: \n",
    "        - Depends on the encoding of a solution (e.g., if nearby genes are correlated)\n",
    "        - On the fitness function (e.g., if metric scale or ranking scale)\n",
    "        - On exploration vs. exploitation\n",
    "        - wenns nur ein max gibt, dann kann HC das auch finden"
   ]
  },
  {
   "cell_type": "markdown",
   "metadata": {},
   "source": [
    "**Aufgabe M2: Line Recombination**\n",
    "- a) Wie funktioniert Line Recombination im Detail?\n",
    "    - Wir haben 2 Eltern aus denen wir ein neues Kind generieren wollen. Cross-Over reicht uns nicht weil die Kinder dann immer nur die Werte der Eltern erreichen können (wenn auch gemixt). Wir nahmen also den Durchschnitt oder eine zufällige Nummer zwischen den beiden Werten der Eltern. \n",
    "    - Wir möchten aber auch neue Werte außerhalb der Spanne dieser beiden Werte (Hyper-Cube) erreichen können: Line Recombination. \n",
    "    - Wir haben einen positiven Wert p, der definiert wie weit wir uns vom Hyper-Cube entfernen. \n",
    "    - p nutzen wir dann um eine Zufallszahl α (bzw. β, ...) von -p to 1+p pro Kind auszuwählen. \n",
    "    - dann rechnen wir für jede Variable v einen neuen Wert t_v1 aus: t_v1 = α*(v1) + (1-α)*v2. Das machen wir pro Kind.\n",
    "    - Wenn sich alle Variablen im gülitgen Wertebereich befinden sind wir fertig.\n",
    "- b) Wie unterscheiden sich Line Recombination und Intermediate Line Recombination?\n",
    "    - Im intermediate Line Recombination möchten wir neue Werte nicht nur auf der Linie der beiden Werte der Eltern erreichen können, sondern im ganzen Hyper-Cube. \n",
    "    - Wir nehmen jetzt unterschiedliche α, β, ... für jede einzelne Variable!\n",
    "- c) Implementieren Sie Intermediate Line Recombination als Python-Funktion.\n",
    "    - <span style=\"color:red\">#ToDo</span>"
   ]
  },
  {
   "cell_type": "markdown",
   "metadata": {},
   "source": [
    "**Aufgabe M3: Selection-Methoden**\n",
    "- a) Was ist Fitness-Proportionate Selection (FPS) und wie funktioniert sie?\n",
    "    - Wir möchten die Individuen mit einer besseren Fitness wahrscheinlicher auswählen. \n",
    "    - Wir spannen also einen Wertebereich der proportional zu dem Fitnesswert eines Individuums ist, machen das für alle, konkatenieren alle Wertebereiche, berechnen eine Zufallszahl im Alle-Wertebereich und nehmen dann das dazu passende Individuum. \n",
    "    - In den slides nochmal ansehen\n",
    "- b) Was ist Stochastic Universal Sampling (SUS) und wie funktioniert es?\n",
    "    - Da schwache Lösungen auch noch oft ausgewählt werden können, wählen wir vielleicht nie die beste Lösung.\n",
    "    - Man kann sich das wie ien Roulette-Rad vorstellen bei dem die Kuchenstücke des Kreises für die hohe Fitness größer sind\n",
    "    - <span style=\"color:purple\">nochmal ansehen</span>\n",
    "- c) Implementieren Sie SUS als Python-Funktion.\n",
    "    - <span style=\"color:red\">#ToDo</span>"
   ]
  },
  {
   "cell_type": "markdown",
   "metadata": {},
   "source": [
    "**Aufgabe M4: Implementierung**\n",
    "\n",
    "Implementieren Sie einen genetischen Algorithmus, um eine nah-optimale Konfiguration für BDBC und x264 zu finden. Nutzen Sie feature.txt und interactions.txt als Einflüsse für Features und deren Interaktionen. Für diese Aufgabe ist es nicht notwendig, Kandidaten auf Validität zu prüfen.\n",
    "Berücksichtigen Sie folgende Komponenten:\n",
    "- a) Initialization procedure\n",
    "- b) Copy procedure\n",
    "- c) Tweak / mutation procedure\n",
    "- d) Selection procedure (nutzen Sie SUS aus Aufgabe 3)\n",
    "- e) Crossover / breeding procedure\n",
    "\n",
    "Hinweise: Kleinere Performance-Werte sind besser. Eine Population-Size von 50 und max.\n",
    "1000 Generationen sind realistische Werte zum Evaluieren Ihres Ansatzes.\n",
    "<span style=\"color:red\">#ToDo</span>"
   ]
  },
  {
   "cell_type": "markdown",
   "metadata": {},
   "source": [
    "**Aufgabe C1: Feature-Modelle**\n",
    "- a) Gegeben ist das folgende Feature-Diagramm eines konfigurierbaren Software-Systems A. Bestimmen und nennen Sie alle validen Konfigurationen.\n",
    "    - A: \n",
    "        - B optional\n",
    "        - C muss: D oder E \n",
    "    - Optionen: A,B,C,D  |  A,B,C,E  |  A,C,D  |  A,C,E\n",
    "- b) Wandeln Sie das Feature-Diagramm in einen äquivalenten aussagenlogischen Ausdruck um.\n",
    "    - A ^ (B => A) ^ (C <=> A) ^ ((DvE) <=> C) ^ !(D^E)"
   ]
  },
  {
   "cell_type": "markdown",
   "metadata": {},
   "source": [
    "**Aufgabe C2: Automatisierte Analyse von Feature-Modellen**\n",
    "\n",
    "Feature-Modelle können in einigen Fällen inkonsistent modelliert sein. Zwei konkrete Probleme, welche häufiger auftreten, sind Dead Features und False Optional Features. Ein Dead Feature ist ein Feature, welches in keiner gültigen Konfiguration ausgewählt werden kann. Ein False Optional Feature ist ein Feature, welches in einem Feature-Diagramm zwar als optionales Feature modelliert wurde, jedoch in jeder gültigen Konfiguration ausgewählt ist.\n",
    "Mittels eines CSP- bzw. SAT-Solvers lassen sich Feature-Modelle in vielfältiger Weise analysieren. In der Praxis wird dazu das Feature-Modell um Constraints erweitert und auf Erfüllbarkeit (Existenz mindestens einer gültigen Konfiguration) überprüft. Hierbei werden häufig Feature-Modelle in Form eines aussagenlogischen Ausdrucks in konjunktiver Normalform (KNF) verwendet.\n",
    "- a) Gegeben sei ein Feature-Modell mit den Features F1, F2, …, Fn. Das Feature-Modell liegt als aussagenlogische Formel Ѱ (in KNF) vor. Wie lässt sich mittels eines Solvers überprüfen, ob das Feature-Modell Dead Features enthält?\n",
    "- b) Gegeben sei ein Feature-Modell mit den Features F1, F2, …, Fn. Das Feature-Modell enthält optionale Features sowie mandatorische Features, aber keine Cross-Tree Constraints. Wie können durch das Hinzufügen von Cross-Tree Constraints False Optional Features entstehen? Beschreiben Sie kurz ein mögliches Szenario.\n",
    "    - wenn ein anderes Feature und ein Cross-Tree Constraint zusammen dazu führen dass ein Feature immer an sein muss (oder immer aus oder so)\n",
    "- c) Gegeben sei ein Feature-Modell mit den Features F1, F2, …, Fn. Das Feature-Modell enthält optionale Features sowie mandatorische Features. Das Feature-Modell liegt als aussagenlogische Formel Ѱ (in KNF) vor. Wie lässt sich mittels eines Solvers überprüfen, ob das Feature-Modell False Optional Features enthält?\n",
    "    - sobald man mindestens 2 konfiguration pro Feature findet gibt es keine nicht optionalen Features. Also alle Features für die es nur eine Konfigurationsmöglichkeit gibt sind nicht optionale Features\n",
    "- d) Im Moodle-Kurs finden Sie ein Feature-Modell zum Datenbanksystem “SQLite”. Dieses Feature-Modell liegt als konjunktive Normalform im DIMACS-Format vor. Ebenfalls im Moodle finden Sie ein Jupyter-Notebook, mit dessen Hilfe sich DIMACS-Dateien parsen lassen. Mit einem Solver, etwa Pycosat, können mit diesem Skript Lösungen für einen logischen Ausdruck berechnet werden.\n",
    "- e) Lesen Sie die DIMACS-Datei zu “SQLite” ein und verwenden Sie einen Solver wie Pycosat um die folgenden Fragen zu beantworten: Sind in diesem Feature-Modell Dead Features enthalten? Wenn ja, welche Features sind nicht auswählbar?\n",
    "    - es gibt ein dead-feature (nr. 13)\n",
    "    - false optinal und mandatory features gab es mehrere"
   ]
  },
  {
   "cell_type": "markdown",
   "metadata": {},
   "source": [
    "**Aufgabe M5: Validität**\n",
    "\n",
    "Führen Sie Ihre Implementierung aus Aufgabe M4 für BDBC und x264 aus.\n",
    "- a) Überprüfen Sie, ob die Ergebnisse valide Konfigurationen sind.\n",
    "- b) Diskussion: Wie können Sie sicherstellen, dass Ihr genetischer Algorithmus nur valide Konfigurationen ergibt?"
   ]
  },
  {
   "cell_type": "markdown",
   "metadata": {},
   "source": [
    "**Aufgabe C3: Constraint Propagation und Forward Checking**\n",
    "\n",
    "Gegeben ist ein lateinisches Quadrat mit 3 x 3 = 9 Feldern. Das Constraint-Problem ist folgendermaßen definiert: Jedes Feld entspricht einer Variable, sodass es in diesem Beispiel 9 Variablen gibt, die entsprechend den Koordinaten indexiert sind. Die Domäne jeder Variable besteht aus der Menge {A, B, C}. Jeder Wert muss sowohl in jeder Zeile als auch in jeder Spalte genau einmal vorkommen. In der Grafik wird eine Teillösung vorgegeben, bei der die Variablen V1,1 = A; V1,2 = B; V2,1= B; V3,1 = C bereits Werte zugewiesen bekommen haben.\n",
    "- a) Erläutern Sie den Unterschied zwischen Forward Checking und Constraint Propagation.\n",
    "- b) Führen Sie Forward Checking für den aktuellen Stand der vorgegebenen Teillösung durch und tragen Sie das Ergebnis in ein Lösungsschritt-Quadrat ein. Markieren Sie dieses Quadrat entsprechend.\n",
    "- c) Wenden Sie den Algorithmus aus der Vorlesung für Constraint Propagation auf den aktuellen Stand der vorgegebenen Teillösung an. Notieren Sie einzelne Schritte in separaten Lösungsschritt-Quadraten. Möglicherweise benötigen Sie nicht alle Quadrate. Kennzeichnen Sie jeden Arc, durch welchen inkonsistente Werte erkannt werden. Geben Sie für jeden Schritt die Wertebereiche der Variablen an, ohne dabei eine Zuweisung vorzunehmen.\n",
    "\n",
    "\n",
    "\n",
    "ANSCHAUEN WEIL KOMMT GERNE IN DER PRÜFUNG DRAN!!"
   ]
  }
 ],
 "metadata": {
  "kernelspec": {
   "display_name": "Python 3",
   "language": "python",
   "name": "python3"
  },
  "language_info": {
   "codemirror_mode": {
    "name": "ipython",
    "version": 3
   },
   "file_extension": ".py",
   "mimetype": "text/x-python",
   "name": "python",
   "nbconvert_exporter": "python",
   "pygments_lexer": "ipython3",
   "version": "3.12.3"
  },
  "varInspector": {
   "cols": {
    "lenName": 16,
    "lenType": 16,
    "lenVar": 40
   },
   "kernels_config": {
    "python": {
     "delete_cmd_postfix": "",
     "delete_cmd_prefix": "del ",
     "library": "var_list.py",
     "varRefreshCmd": "print(var_dic_list())"
    },
    "r": {
     "delete_cmd_postfix": ") ",
     "delete_cmd_prefix": "rm(",
     "library": "var_list.r",
     "varRefreshCmd": "cat(var_dic_list()) "
    }
   },
   "types_to_exclude": [
    "module",
    "function",
    "builtin_function_or_method",
    "instance",
    "_Feature"
   ],
   "window_display": false
  }
 },
 "nbformat": 4,
 "nbformat_minor": 4
}
