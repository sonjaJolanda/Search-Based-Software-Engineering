{
 "cells": [
  {
   "cell_type": "markdown",
   "metadata": {
    "@deathbeds/jupyterlab-fonts": {
     "styles": {
      "": {
       "body[data-jp-deck-mode='presenting'] &": {
        "height": "2.7848898646343185%",
        "left": "12.20166182575548%",
        "position": "fixed",
        "top": "96.31024096385542%",
        "width": "79.16197404684986%"
       }
      }
     }
    },
    "jupyterlab-deck": {
     "layer": "deck"
    },
    "slideshow": {
     "slide_type": "skip"
    },
    "tags": []
   },
   "source": [
    "<div style='width:100%;height:2em;font-size:100%;'>    <div style='height:2em; float:left; margin:auto; margin-left:1em;'>Search-Based Software Engineering</div>    <img src='uni-leipzig.png' style='height:2em;float:left; margin:auto; margin-left:1em;'>   <img src='SOSY-Logo.png' style='height:2em;float:right; margin:auto; margin-left:1em;'>   <div style='height:2em; float:right; margin:auto; margin-left:1em;'> Johannes Dorn</div></div>"
   ]
  },
  {
   "cell_type": "markdown",
   "metadata": {
    "@deathbeds/jupyterlab-fonts": {
     "styles": {
      "": {
       "body[data-jp-deck-mode='presenting'] &": {
        "height": "19.475401453225007%",
        "left": "2.540895887084863%",
        "position": "fixed",
        "top": "40.26230042239269%",
        "width": "94.91686648355792%"
       }
      }
     }
    },
    "slideshow": {
     "slide_type": "slide"
    },
    "tags": []
   },
   "source": [
    "# Search-Based Software Engineering Exercise\n",
    "## Exercise 01 - Traveling Salesman Problem Introduction\n",
    "<center>\n",
    "    \n",
    "    Johannes Dorn (johannes.dorn@informatik.uni-leipzig.de)\n",
    "    \n",
    "    Softwaresysteme - Summer Term 2024\n",
    "    \n",
    "</center>\n",
    "<center>\n",
    "    <img src='uni-leipzig.png' style=\"height:5em\" >   <img src='SOSY-Logo.png' style=\"height:5em\">\n",
    "    \n",
    "</center>"
   ]
  },
  {
   "cell_type": "markdown",
   "metadata": {
    "slideshow": {
     "slide_type": "subslide"
    }
   },
   "source": [
    "The Traveling Salesperson Problem (TSP) is given by the following question:\n",
    "\n",
    "*“Given is a list of cities and distances between each pair of cities - what is the shortest route that visits each city and returns to the original city?”*\n",
    "\n",
    "\n",
    "<center>\n",
    "    <img src='TSP_Deutschland_3.png' style=\"height:15em; margin-top:2em;\" > \n",
    "</center>\n"
   ]
  },
  {
   "cell_type": "markdown",
   "metadata": {
    "slideshow": {
     "slide_type": "notes"
    }
   },
   "source": [
    "The TSP is an **NP-Hard-Problem** which does not mean an instance of the  problem will be hard to solve.\n",
    "\n",
    "It means, there does not exist an algorithm that produces the best solution in polynomial time.\n",
    "\n",
    "We can not make predictions about how long it might take to find the best solution.\n",
    "\n",
    "However, we can find a good solution which might not be the best solution.\n",
    "\n",
    "It is ok to find a route amongst 1000 cities that is only few miles longer than the best route.\n",
    "\n",
    "Particularly, if it would take an inordinate amount amount of computing time to get from our good solution to the best solution."
   ]
  },
  {
   "cell_type": "markdown",
   "metadata": {
    "slideshow": {
     "slide_type": "skip"
    }
   },
   "source": [
    "The Traveling Salesman Problem (TSP) is given by the following question: *“Given is a list of cities and distances between each pair of cities - what is the shortest route that visits each city and returns to the original city?”*\n",
    "\n",
    "The TSP is an **NP-Hard-Problem** which does not mean an instance of the  problem will be hard to solve. It means, there does not exist an algorithm that produces the best solution in polynomial time. We can not make predictions about how long it might take to find the best solution.\n",
    "\n",
    "But, we can find a good solution which might not be the best solution. It is ok to find a route amongst 1000 cities that is only few miles longer than the best route. Particularly, if it would take an inordinate amount amount of computing time to get from our good solution to the best solution."
   ]
  },
  {
   "cell_type": "markdown",
   "metadata": {
    "slideshow": {
     "slide_type": "subslide"
    }
   },
   "source": [
    "## Representation of the Problem"
   ]
  },
  {
   "cell_type": "markdown",
   "metadata": {
    "slideshow": {
     "slide_type": "fragment"
    }
   },
   "source": [
    "<center>\n",
    "<img src=\"./Graph_TSP.png\" style=\"height:7em\" align=\"center\">\n",
    "</center>\n",
    "\n",
    "\n",
    "A TSP can be modelled as an undirected weighted graph:\n",
    "* cities = vertices\n",
    "* paths between cities = edges\n",
    "* distance of a path = weight of an edge"
   ]
  },
  {
   "cell_type": "markdown",
   "metadata": {
    "slideshow": {
     "slide_type": "fragment"
    }
   },
   "source": [
    "This graph can be represented as an **adjacency matrix**:\n",
    "\n",
    "\n",
    "|  \\     | A     | B     | C     | D     |\n",
    "| :---:  | :---: | :---: | :---: | :---: |\n",
    "| **A**  |  0    | 20    | 42    | 35    |\n",
    "| **B**  | 20    | 0     | 30    | 34    |\n",
    "| **C**  | 42    | 30    | 0     | 12    |\n",
    "| **D**  | 35    | 34    | 12    | 0     |"
   ]
  },
  {
   "cell_type": "markdown",
   "metadata": {
    "slideshow": {
     "slide_type": "fragment"
    }
   },
   "source": [
    "But how do we get the distances between cities if we only got the coordinates for each city?"
   ]
  },
  {
   "cell_type": "markdown",
   "metadata": {
    "slideshow": {
     "slide_type": "subslide"
    }
   },
   "source": [
    "### Euclidean Distance"
   ]
  },
  {
   "cell_type": "markdown",
   "metadata": {
    "slideshow": {
     "slide_type": "fragment"
    }
   },
   "source": [
    "Each city is represented by a cartesian koordinate P\n",
    "\n",
    "$ P = (p_x, p_y) $"
   ]
  },
  {
   "cell_type": "markdown",
   "metadata": {
    "slideshow": {
     "slide_type": "fragment"
    }
   },
   "source": [
    "Euclidean distance between two points P<sub>1</sub> = (x<sub>1</sub>, y<sub>1</sub>) and P<sub>2</sub> = (x<sub>2</sub>, y<sub>2</sub>) is:\n",
    "\n",
    "$d(P_{1},P_{2}) = \\sqrt{(x_{1} - x_{2})^2 + (y_{1} - y_{2})^2}$"
   ]
  },
  {
   "cell_type": "code",
   "execution_count": null,
   "metadata": {
    "slideshow": {
     "slide_type": "slide"
    }
   },
   "outputs": [],
   "source": [
    "from itertools import permutations"
   ]
  },
  {
   "cell_type": "code",
   "execution_count": null,
   "metadata": {},
   "outputs": [],
   "source": []
  },
  {
   "cell_type": "code",
   "execution_count": null,
   "metadata": {
    "slideshow": {
     "slide_type": "fragment"
    }
   },
   "outputs": [],
   "source": [
    "def distance(p1, p2):\n",
    "    \"\"\"\n",
    "    Returns the Euclidean distance of two points in the Cartesian Plane.\n",
    "\n",
    "    >>> distance([3,4],[0,0])\n",
    "    5.0\n",
    "    \n",
    "    \"\"\"\n",
    "    return ((p1[0] - p2[0])**2 + (p1[1] - p2[1])**2) ** 0.5"
   ]
  },
  {
   "cell_type": "code",
   "execution_count": null,
   "metadata": {},
   "outputs": [],
   "source": []
  },
  {
   "cell_type": "code",
   "execution_count": null,
   "metadata": {
    "slideshow": {
     "slide_type": "fragment"
    }
   },
   "outputs": [],
   "source": [
    "distance([20,5],[7,6])"
   ]
  },
  {
   "cell_type": "code",
   "execution_count": null,
   "metadata": {},
   "outputs": [],
   "source": [
    " "
   ]
  },
  {
   "cell_type": "code",
   "execution_count": null,
   "metadata": {
    "slideshow": {
     "slide_type": "subslide"
    }
   },
   "outputs": [],
   "source": [
    "def total_distance(points):\n",
    "    \"\"\"\n",
    "    Returns the length of the path passing throught\n",
    "    all the points in the given order.\n",
    "\n",
    "    >>> total_distance([[1,2],[4,6]])\n",
    "    5.0\n",
    "    >>> total_distance([[3,6],[7,6],[12,6]])\n",
    "    9.0\n",
    "    \"\"\"\n",
    "    return sum([distance(point, points[index + 1]) for index, point in enumerate(points[:-1])])"
   ]
  },
  {
   "cell_type": "markdown",
   "metadata": {
    "slideshow": {
     "slide_type": "fragment"
    }
   },
   "source": [
    "- keep in mind that \\[:-1\\] means \"all elements if the list without the last\"\n",
    "- *enumerate* is a function to enumerate all elements of a given sequence"
   ]
  },
  {
   "cell_type": "code",
   "execution_count": null,
   "metadata": {
    "slideshow": {
     "slide_type": "fragment"
    }
   },
   "outputs": [],
   "source": [
    "# enumerate example\n",
    "seasons = ['spring', 'summer', 'fall', 'winter']\n",
    "enumerate(seasons)"
   ]
  },
  {
   "cell_type": "markdown",
   "metadata": {
    "slideshow": {
     "slide_type": "fragment"
    }
   },
   "source": [
    "Generators: can be lazily evaluated once"
   ]
  },
  {
   "cell_type": "code",
   "execution_count": null,
   "metadata": {
    "slideshow": {
     "slide_type": "fragment"
    }
   },
   "outputs": [],
   "source": [
    "all_seasons_with_numbers = enumerate(seasons)\n",
    "list(all_seasons_with_numbers)"
   ]
  },
  {
   "cell_type": "code",
   "execution_count": null,
   "metadata": {
    "slideshow": {
     "slide_type": "fragment"
    }
   },
   "outputs": [],
   "source": [
    "list(all_seasons_with_numbers)"
   ]
  },
  {
   "cell_type": "code",
   "execution_count": null,
   "metadata": {},
   "outputs": [],
   "source": []
  },
  {
   "cell_type": "code",
   "execution_count": null,
   "metadata": {
    "slideshow": {
     "slide_type": "subslide"
    }
   },
   "outputs": [],
   "source": [
    "def traveling_salespers(points, start = None):\n",
    "    \"\"\"\n",
    "    Finds the shortest route to visit all the cities by bruteforce.\n",
    "    Time complexity is O(N!), so never use on long lists.\n",
    "\n",
    "    >>> traveling_salesman([[0,0],[10,0],[6,0]])\n",
    "    ([0, 0], [6, 0], [10, 0])\n",
    "    >>> traveling_salesman([[0,0],[6,0],[2,3],[3,7],[0.5,9],[3,5],[9,1]])\n",
    "    ([0, 0], [6, 0], [9, 1], [2, 3], [3, 5], [3, 7], [0.5, 9])\n",
    "    \"\"\"\n",
    "    if start is None:\n",
    "        start = points[0]\n",
    "    return min([perm for perm in permutations(points) if perm[0] == start], key = total_distance)"
   ]
  },
  {
   "cell_type": "code",
   "execution_count": null,
   "metadata": {},
   "outputs": [],
   "source": []
  },
  {
   "cell_type": "markdown",
   "metadata": {
    "slideshow": {
     "slide_type": "fragment"
    }
   },
   "source": [
    "**keep in mind that the permutation without repetition creates $ \\frac{n!}{(n-r)!} $ examples**\n",
    "\n",
    "where n is the amount of elements in the set and r is the number of elements we choose from the set\n",
    "\n",
    "That means if we have a list of 4 elements we have 24 possible combinations:\n",
    "\n",
    "$ |perm([a,b,c,d])| = \\frac{4!}{(4-4)!} = \\frac{4!}{0!} = \\frac{4!}{1} = 24 $"
   ]
  },
  {
   "cell_type": "code",
   "execution_count": null,
   "metadata": {
    "slideshow": {
     "slide_type": "subslide"
    }
   },
   "outputs": [],
   "source": [
    "# Example for permutations\n",
    "test_list = [\"a\", \"b\", \"c\", \"d\"]\n",
    "test_permutations = permutations(test_list)\n",
    "for test_perm in test_permutations:\n",
    "    print(test_perm)"
   ]
  },
  {
   "cell_type": "code",
   "execution_count": null,
   "metadata": {},
   "outputs": [],
   "source": []
  },
  {
   "cell_type": "markdown",
   "metadata": {
    "slideshow": {
     "slide_type": "fragment"
    }
   },
   "source": [
    "- *permutations* returns tuples with all possible orderings without repeat\n",
    "- function returns minimum of all possible tuples by the help of the function *total_distance* from above"
   ]
  },
  {
   "cell_type": "markdown",
   "metadata": {
    "slideshow": {
     "slide_type": "slide"
    }
   },
   "source": [
    "# How bad could it possibly be?"
   ]
  },
  {
   "cell_type": "code",
   "execution_count": null,
   "metadata": {
    "slideshow": {
     "slide_type": "subslide"
    }
   },
   "outputs": [],
   "source": [
    "many_points = [\n",
    "    [0, 0],\n",
    "    [1, 5.7],\n",
    "    [2, 3],\n",
    "    [3, 7],\n",
    "    [0.5, 9],\n",
    "    [3, 5],\n",
    "    [9, 1],\n",
    "    [10, 5],\n",
    "    [20, 5],\n",
    "    [12, 12],\n",
    "    [20, 19],\n",
    "    [25, 6],\n",
    "    [23, 7]\n",
    "] \n",
    "len(many_points)"
   ]
  },
  {
   "cell_type": "code",
   "execution_count": null,
   "metadata": {},
   "outputs": [],
   "source": [
    "  "
   ]
  },
  {
   "cell_type": "code",
   "execution_count": null,
   "metadata": {
    "scrolled": true,
    "slideshow": {
     "slide_type": "subslide"
    }
   },
   "outputs": [],
   "source": [
    "import datetime  \n",
    "points = many_points[:11] # try out more than 9 points\n",
    "start = datetime.datetime.now()\n",
    "result = traveling_salespers(points)\n",
    "distance_result = total_distance(result)\n",
    "now = datetime.datetime.now()\n",
    "print(\"calculation time\", now - start)\n",
    "print(f\"\"\"\n",
    "The minimum distance to visit all \n",
    "of the following points:\n",
    "{points,}\n",
    "\n",
    "starting at\n",
    "{points[0]} is {distance_result} and takes this route:\n",
    "{result}\"\"\")"
   ]
  },
  {
   "cell_type": "markdown",
   "metadata": {
    "slideshow": {
     "slide_type": "slide"
    }
   },
   "source": [
    "## Solving TSP with Hill Climbing"
   ]
  },
  {
   "cell_type": "markdown",
   "metadata": {
    "slideshow": {
     "slide_type": "fragment"
    }
   },
   "source": [
    "#### Recap: Hill Climbing"
   ]
  },
  {
   "cell_type": "markdown",
   "metadata": {
    "slideshow": {
     "slide_type": "fragment"
    }
   },
   "source": [
    "Idea:\n",
    "- use only your local solution and evaluate your \n",
    "neighbors to find a better one\n",
    "- repeat this step until no better neighbour exists"
   ]
  },
  {
   "cell_type": "markdown",
   "metadata": {
    "slideshow": {
     "slide_type": "subslide"
    }
   },
   "source": [
    "<center>\n",
    "    <img src='HC.jpg' style=\"width:30%;\" > \n",
    "</center>"
   ]
  },
  {
   "cell_type": "markdown",
   "metadata": {
    "slideshow": {
     "slide_type": "fragment"
    }
   },
   "source": [
    "Pros:\n",
    "- requires few resources (current state and neighbors)\n",
    "- finds local optimum (global is possible)\n",
    "- useful if the search space is huge (even unlimited)"
   ]
  },
  {
   "cell_type": "markdown",
   "metadata": {
    "slideshow": {
     "slide_type": "fragment"
    }
   },
   "source": [
    "Cons:\n",
    "- is prone to get stuck at the top of local maximum and on plateaus\n",
    "- strongly depends on “good” initialization"
   ]
  },
  {
   "cell_type": "markdown",
   "metadata": {
    "slideshow": {
     "slide_type": "subslide"
    }
   },
   "source": [
    "# Essential Steps for each Meta-Heuristic"
   ]
  },
  {
   "cell_type": "markdown",
   "metadata": {
    "slideshow": {
     "slide_type": "fragment"
    }
   },
   "source": [
    "- **Initialization procedure**: Provide one or more initial candidate\n",
    "solutions"
   ]
  },
  {
   "cell_type": "markdown",
   "metadata": {
    "slideshow": {
     "slide_type": "fragment"
    }
   },
   "source": [
    "- **Assessment procedure**: Assess the quality of a candidate\n",
    "solution"
   ]
  },
  {
   "cell_type": "markdown",
   "metadata": {
    "slideshow": {
     "slide_type": "fragment"
    }
   },
   "source": [
    "- Make a **copy** of a candidate solution"
   ]
  },
  {
   "cell_type": "markdown",
   "metadata": {
    "slideshow": {
     "slide_type": "fragment"
    }
   },
   "source": [
    "- **Modification procedure**: Tweak a candidate solution to\n",
    "produce a randomly slightly different candidate solution"
   ]
  },
  {
   "cell_type": "markdown",
   "metadata": {
    "slideshow": {
     "slide_type": "subslide"
    }
   },
   "source": [
    "### Initialization procedure"
   ]
  },
  {
   "cell_type": "code",
   "execution_count": null,
   "metadata": {
    "slideshow": {
     "slide_type": "fragment"
    }
   },
   "outputs": [],
   "source": [
    "import random\n",
    "def init_random_tour(tour_length):\n",
    "    tour = list(range(tour_length))\n",
    "    random.shuffle(tour)\n",
    "    return tour"
   ]
  },
  {
   "cell_type": "code",
   "execution_count": null,
   "metadata": {
    "slideshow": {
     "slide_type": "fragment"
    }
   },
   "outputs": [],
   "source": [
    "init_random_tour(4)"
   ]
  },
  {
   "cell_type": "code",
   "execution_count": null,
   "metadata": {},
   "outputs": [],
   "source": []
  },
  {
   "cell_type": "markdown",
   "metadata": {
    "slideshow": {
     "slide_type": "slide"
    }
   },
   "source": [
    "## Copy procedure"
   ]
  },
  {
   "cell_type": "code",
   "execution_count": null,
   "metadata": {
    "slideshow": {
     "slide_type": "fragment"
    }
   },
   "outputs": [],
   "source": [
    "from copy import deepcopy # Copy procedure"
   ]
  },
  {
   "cell_type": "markdown",
   "metadata": {
    "slideshow": {
     "slide_type": "slide"
    }
   },
   "source": [
    "## Assessment procedure"
   ]
  },
  {
   "cell_type": "markdown",
   "metadata": {
    "slideshow": {
     "slide_type": "subslide"
    }
   },
   "source": [
    "#### Adjacency Matrix"
   ]
  },
  {
   "cell_type": "markdown",
   "metadata": {
    "slideshow": {
     "slide_type": "fragment"
    }
   },
   "source": [
    "We will use standard Python lists to represent a route through our collection of cities. Each city will simply be assigned to a number from 0 to N-1 where N is the number of cities. Therefore, our list of cities will be a list of unique numbers between 0 and N-1"
   ]
  },
  {
   "cell_type": "markdown",
   "metadata": {
    "slideshow": {
     "slide_type": "fragment"
    }
   },
   "source": [
    "We also need to specify a \"distance matrix\" that we can use to keep track of distances between cities. To generate a distance matrix for a set of (x,y) coordinates we will use the following function:"
   ]
  },
  {
   "cell_type": "code",
   "execution_count": null,
   "metadata": {
    "slideshow": {
     "slide_type": "fragment"
    }
   },
   "outputs": [],
   "source": [
    "def cartesian_matrix(coordinates):\n",
    "    '''\n",
    "    Creates a distance matrix for the city coords using straight line distances\n",
    "    computed by the Euclidean distance of two points in the Cartesian Plane.\n",
    "    '''\n",
    "    matrix = {}\n",
    "    for i, p1 in enumerate(coordinates):\n",
    "        for j, p2 in enumerate(coordinates):\n",
    "            matrix[i,j] = distance(p1,p2)\n",
    "    return matrix"
   ]
  },
  {
   "cell_type": "markdown",
   "metadata": {
    "slideshow": {
     "slide_type": "subslide"
    }
   },
   "source": [
    "This function takes a list of (x,y) tuples and outputs a dictionary that contains the distance between any pair of cities:"
   ]
  },
  {
   "cell_type": "code",
   "execution_count": null,
   "metadata": {
    "slideshow": {
     "slide_type": "fragment"
    }
   },
   "outputs": [],
   "source": [
    "m = cartesian_matrix([(0,0), (1,0), (1,1)])\n",
    "for k, v in m.items():\n",
    "    print(k, v)"
   ]
  },
  {
   "cell_type": "code",
   "execution_count": null,
   "metadata": {
    "slideshow": {
     "slide_type": "fragment"
    }
   },
   "outputs": [],
   "source": [
    "m[0,2]"
   ]
  },
  {
   "cell_type": "markdown",
   "metadata": {
    "slideshow": {
     "slide_type": "fragment"
    }
   },
   "source": [
    "\\[2,0\\] gives the distance between the city with number 2 and the city with  number 0.\n",
    "In our case the result of \\[2,0\\] is the same for \\[0,2\\], but for other TSPs this may not be the case (for example if a street between two cities is only one way - we have to take another route)"
   ]
  },
  {
   "cell_type": "markdown",
   "metadata": {
    "slideshow": {
     "slide_type": "subslide"
    }
   },
   "source": [
    "#### Read City Coordinates from File"
   ]
  },
  {
   "cell_type": "code",
   "execution_count": null,
   "metadata": {
    "slideshow": {
     "slide_type": "fragment"
    }
   },
   "outputs": [],
   "source": [
    "def read_coords(file_handle):\n",
    "    coords = []\n",
    "    for line in file_handle:\n",
    "        x,y = line.strip().split(',')\n",
    "        coords.append((float(x), float(y)))\n",
    "    return coords\n",
    "\n",
    "with open('city100.txt', 'r') as coord_file:\n",
    "    coords = read_coords(coord_file)\n",
    "matrix = cartesian_matrix(coords)"
   ]
  },
  {
   "cell_type": "markdown",
   "metadata": {
    "slideshow": {
     "slide_type": "fragment"
    }
   },
   "source": [
    "On real world problems it may be more complicated to generate a distance matrix - you might need to take a map and calculate the real distances between cities."
   ]
  },
  {
   "cell_type": "markdown",
   "metadata": {
    "slideshow": {
     "slide_type": "subslide"
    }
   },
   "source": [
    "#### Compute the Total Distance"
   ]
  },
  {
   "cell_type": "code",
   "execution_count": null,
   "metadata": {
    "slideshow": {
     "slide_type": "fragment"
    }
   },
   "outputs": [],
   "source": [
    "def tour_length(matrix, tour):\n",
    "    \"\"\"Sum up the total length of the tour based on the distance matrix\"\"\"\n",
    "    result = 0\n",
    "    num_cities = len(list(tour))\n",
    "    for i in range(num_cities):\n",
    "        j = (i+1) % num_cities\n",
    "        city_i = tour[i]\n",
    "        city_j = tour[j]\n",
    "        result += matrix[city_i, city_j]\n",
    "    return result"
   ]
  },
  {
   "cell_type": "code",
   "execution_count": null,
   "metadata": {
    "slideshow": {
     "slide_type": "fragment"
    }
   },
   "outputs": [],
   "source": [
    "import numpy as np\n",
    "rnd_route = init_random_tour(100)\n",
    "tour_length(matrix, rnd_route)"
   ]
  },
  {
   "cell_type": "markdown",
   "metadata": {
    "slideshow": {
     "slide_type": "subslide"
    }
   },
   "source": [
    "#### Modification procedure"
   ]
  },
  {
   "cell_type": "markdown",
   "metadata": {
    "slideshow": {
     "slide_type": "fragment"
    }
   },
   "source": [
    "We will implement the two tweak operators as generator functions that will return all possible versions of a route that can be made in one step of the generator (in a random order)."
   ]
  },
  {
   "cell_type": "markdown",
   "metadata": {
    "slideshow": {
     "slide_type": "fragment"
    }
   },
   "source": [
    "Generators are iterators which can be only iterated once.\n",
    "They generate values on the fly and do not store them in memory.\n",
    "By using a generator function, we can get each possiblility and perhaps decide to not generate any more variations.\n",
    "This saves the overhead of generating all combinations at once."
   ]
  },
  {
   "cell_type": "code",
   "execution_count": null,
   "metadata": {
    "slideshow": {
     "slide_type": "fragment"
    }
   },
   "outputs": [],
   "source": [
    "def all_pairs(size, shuffle = random.shuffle):\n",
    "    r1 = list(range(size))\n",
    "    r2 = list(range(size))\n",
    "    if shuffle:\n",
    "        shuffle(r1)\n",
    "        shuffle(r2)\n",
    "    for i in r1:\n",
    "        for j in r2:\n",
    "            yield(i,j) # yield is an iterator function\n",
    "            # for each call of the generator it returns the next value in yield"
   ]
  },
  {
   "cell_type": "code",
   "execution_count": null,
   "metadata": {
    "slideshow": {
     "slide_type": "subslide"
    }
   },
   "outputs": [],
   "source": [
    "import random\n",
    "\n",
    "def all_pairs(size, shuffle = random.shuffle):\n",
    "    r1 = list(range(size))\n",
    "    r2 = list(range(size))\n",
    "    if shuffle:\n",
    "        shuffle(r1)\n",
    "        shuffle(r2)\n",
    "    for i in r1:\n",
    "        for j in r2:\n",
    "            yield(i,j) # yield is an iterator function\n",
    "            # for each call of the generator it returns the next value in yield"
   ]
  },
  {
   "cell_type": "code",
   "execution_count": null,
   "metadata": {
    "scrolled": true,
    "slideshow": {
     "slide_type": "fragment"
    }
   },
   "outputs": [],
   "source": [
    "range(5)"
   ]
  },
  {
   "cell_type": "code",
   "execution_count": null,
   "metadata": {
    "slideshow": {
     "slide_type": "fragment"
    }
   },
   "outputs": [],
   "source": [
    "all_pairs(3)"
   ]
  },
  {
   "cell_type": "code",
   "execution_count": null,
   "metadata": {
    "slideshow": {
     "slide_type": "fragment"
    }
   },
   "outputs": [],
   "source": [
    "list(all_pairs(3))"
   ]
  },
  {
   "cell_type": "code",
   "execution_count": null,
   "metadata": {
    "scrolled": true,
    "slideshow": {
     "slide_type": "subslide"
    }
   },
   "outputs": [],
   "source": [
    "# Tweak 1\n",
    "def swapped_cities(tour):\n",
    "    \"\"\"\n",
    "    Generator to create all possible variations where two \n",
    "    cities have been swapped\n",
    "    \"\"\"\n",
    "    ap = all_pairs(len(tour))\n",
    "    for i,j in ap:\n",
    "        if i < j:\n",
    "            copy = deepcopy(tour)\n",
    "            copy[i], copy[j] = tour[j], tour[i]\n",
    "            yield copy"
   ]
  },
  {
   "cell_type": "code",
   "execution_count": null,
   "metadata": {
    "slideshow": {
     "slide_type": "fragment"
    }
   },
   "outputs": [],
   "source": [
    "print(\"start tour swap:\",[1,2,3,4])\n",
    "for tour in swapped_cities([1,2,3,4]):\n",
    "    print(tour)"
   ]
  },
  {
   "cell_type": "code",
   "execution_count": null,
   "metadata": {
    "slideshow": {
     "slide_type": "subslide"
    }
   },
   "outputs": [],
   "source": [
    "# Tweak 2\n",
    "def reversed_sections(tour):\n",
    "    \"\"\"\n",
    "    Generator to return all possible variations where the\n",
    "    section between two cities are swapped.\n",
    "    It preserves entire sections of a route,\n",
    "    yet still affects the ordering of multiple cities in one go.\n",
    "    \"\"\"\n",
    "    ap = all_pairs(len(tour))\n",
    "    for i,j in ap:\n",
    "        if i != j:\n",
    "            #print(\"indices from:\",i, \"to\", j)\n",
    "            copy = deepcopy(tour)\n",
    "            if i < j:\n",
    "                copy[i:j+1] = reversed(tour[i:j+1])\n",
    "            else:\n",
    "                copy[i+1:] = reversed(tour[:j])\n",
    "                copy[:j] = reversed(tour[i+1:])\n",
    "            if copy != tour: # not returning same tour\n",
    "                yield copy"
   ]
  },
  {
   "cell_type": "code",
   "execution_count": null,
   "metadata": {
    "scrolled": true,
    "slideshow": {
     "slide_type": "fragment"
    }
   },
   "outputs": [],
   "source": [
    "print(\"start tour reverse section:\",[1,2,3,4])\n",
    "for tour in reversed_sections([1,2,3,4]):\n",
    "    print(tour)"
   ]
  },
  {
   "cell_type": "markdown",
   "metadata": {
    "slideshow": {
     "slide_type": "slide"
    }
   },
   "source": [
    "### Getting Started with Hill Climbing"
   ]
  },
  {
   "cell_type": "markdown",
   "metadata": {
    "slideshow": {
     "slide_type": "fragment"
    }
   },
   "source": [
    "To start with Hill Climbing, we need two functions:\n",
    "- init function that returns a random solution\n",
    "- objective function that tells us how \"good\" a solution is\n",
    "\n",
    "For the TSP, an init function will just return a tour of correct length that has cities aranged in random order.\n",
    "\n",
    "The objective function will return the length of a tour."
   ]
  },
  {
   "cell_type": "markdown",
   "metadata": {
    "slideshow": {
     "slide_type": "notes"
    }
   },
   "source": [
    "\n",
    "We need to ensure that init function takes no arguments and returns a tour of the correct length and the objective function takes one argument (the solution tour) and returns its length.\n",
    "\n",
    "Assume we have the city coordinates in a variable *coords* and our distance matrix in *matrix*, we can define the objective function and init function by using *init_random_tour*:"
   ]
  },
  {
   "cell_type": "code",
   "execution_count": null,
   "metadata": {
    "slideshow": {
     "slide_type": "fragment"
    }
   },
   "outputs": [],
   "source": [
    "init_function = lambda: init_random_tour(len(coords))\n",
    "objective_function = lambda tour: tour_length(matrix, tour)"
   ]
  },
  {
   "cell_type": "markdown",
   "metadata": {
    "slideshow": {
     "slide_type": "subslide"
    }
   },
   "source": [
    "#### Short Explanation of Lambda Functions\n",
    "is the creation of an anonymous function\n",
    "- lambda definition does not include a return statement\n",
    "- it always contains an expression which is returned\n",
    "- you can put a lambda definition anywhere a function is expected\n",
    "- you don't have to assign it to a variable"
   ]
  },
  {
   "cell_type": "code",
   "execution_count": null,
   "metadata": {
    "slideshow": {
     "slide_type": "fragment"
    }
   },
   "outputs": [],
   "source": [
    "# normal function definition\n",
    "def f(x): return x**2\n",
    "\n",
    "# lambda function definition\n",
    "g = lambda x: x**2\n",
    "print(f(5))\n",
    "print(g(5))"
   ]
  },
  {
   "cell_type": "markdown",
   "metadata": {
    "slideshow": {
     "slide_type": "slide"
    }
   },
   "source": [
    "## Basic Hill Climbing"
   ]
  },
  {
   "cell_type": "code",
   "execution_count": null,
   "metadata": {
    "slideshow": {
     "slide_type": "fragment"
    }
   },
   "outputs": [],
   "source": [
    "def hc(init_function, move_operator, objective_function, max_evaluations, history=None):\n",
    "    '''\n",
    "    Hillclimb until either max_evaluations is \n",
    "    reached or we are at a local optimum.\n",
    "    '''\n",
    "    best = init_function()\n",
    "    best_score = objective_function(best)\n",
    "    \n",
    "    num_evaluations = 1\n",
    "    \n",
    "    while num_evaluations < max_evaluations:\n",
    "        # move around the current position\n",
    "        move_made = False\n",
    "        for candidate in move_operator(best):\n",
    "            if num_evaluations >= max_evaluations:\n",
    "                break\n",
    "            \n",
    "            candidate_score = objective_function(candidate)\n",
    "            num_evaluations += 1\n",
    "            if candidate_score < best_score:\n",
    "                best = candidate\n",
    "                best_score = candidate_score\n",
    "                move_made = True\n",
    "                break # depth first search\n",
    "            if history:\n",
    "                history.log(best, candidate)\n",
    "        if not move_made:\n",
    "            break # couldn't find better move - must be a local max\n",
    "    return (num_evaluations, best_score, best)"
   ]
  },
  {
   "cell_type": "markdown",
   "metadata": {
    "slideshow": {
     "slide_type": "subslide"
    },
    "tags": []
   },
   "source": [
    "### Basic plotting\n",
    "do not change unless you want to"
   ]
  },
  {
   "cell_type": "code",
   "execution_count": null,
   "metadata": {
    "slideshow": {
     "slide_type": "fragment"
    }
   },
   "outputs": [],
   "source": [
    "from IPython.display import HTML, display, clear_output, update_display\n",
    "from PIL import Image, ImageDraw, ImageFont\n",
    "import random\n",
    "import time"
   ]
  },
  {
   "cell_type": "code",
   "execution_count": null,
   "metadata": {
    "slideshow": {
     "slide_type": "subslide"
    },
    "tags": []
   },
   "outputs": [],
   "source": [
    "class History:\n",
    "    def __init__(self, plot_slowdown=0.0001):\n",
    "        self.tours = []\n",
    "        self.last_plot = time.time()\n",
    "        self.plot_slowdown = plot_slowdown\n",
    "        \n",
    "    def first_log(self):\n",
    "        return len(self.tours) == 0\n",
    "        \n",
    "    def log(self, best, candidate):\n",
    "        if not self.tours or time.time() - self.last_plot > 1:\n",
    "            filename = \"test\"+str(max_evaluations)+\".PNG\"\n",
    "            tours={\"black\":candidate, \"red\": best}\n",
    "            self.write_tours_to_img(coords, tours, filename, open(filename, \"ab\"))\n",
    "            self.tours.append(best)\n",
    "            self.last_plot = time.time()\n",
    "        elif self.plot_slowdown:\n",
    "            time.sleep(self.plot_slowdown)\n",
    "\n",
    "    def write_tours_to_img(self, coords, tours, title, img_file):\n",
    "        coords = deepcopy(coords)\n",
    "        padding = 20\n",
    "        # shift all coords a bit inwards\n",
    "        coords = [(x+padding,y+padding) for (x,y) in coords]\n",
    "        maxx, maxy = 0,0\n",
    "        for x,y in coords:\n",
    "            maxx = max(x,maxx)\n",
    "            maxy = max(y,maxy)\n",
    "        maxx += padding\n",
    "        maxy += padding\n",
    "        img = Image.new(\"RGB\",(int(maxx), int(maxy)), color=(255,255,255))\n",
    "\n",
    "        font=ImageFont.load_default()\n",
    "        d=ImageDraw.Draw(img);\n",
    "        for color, tour in tours.items():\n",
    "            num_cities = len(tour)\n",
    "            for i in range(num_cities):\n",
    "                j = (i+1) % num_cities\n",
    "                city_i = tour[i]\n",
    "                city_j = tour[j]\n",
    "                x1,y1 = coords[city_i]\n",
    "                x2,y2 = coords[city_j]\n",
    "                d.line((int(x1), int(y1), int(x2), int(y2)), fill=color)\n",
    "                #d.text((int(x1)+7, int(y1)-5), str(i), font=font, fill=(32,32,32))\n",
    "\n",
    "        for x,y in coords:\n",
    "            x,y = int(x), int(y)\n",
    "            d.ellipse((x-5, y-5, x+5, y+5), outline=(0,0,0), fill=(196,196,196))\n",
    "\n",
    "        del d\n",
    "        display_id = title\n",
    "        if self.first_log():\n",
    "            display(img, display_id=display_id)\n",
    "        else:\n",
    "            update_display(img, display_id=display_id, clear=False)\n",
    "        if self.plot_slowdown:\n",
    "            time.sleep(self.plot_slowdown)        "
   ]
  },
  {
   "cell_type": "code",
   "execution_count": null,
   "metadata": {
    "slideshow": {
     "slide_type": "subslide"
    }
   },
   "outputs": [],
   "source": [
    "def do_hc_evaluations(evaluations , move_operator = swapped_cities, plot_slowdown=0):\n",
    "    max_evaluations = evaluations\n",
    "    then = datetime.datetime.now()\n",
    "    history = History(plot_slowdown=plot_slowdown)\n",
    "    num_evaluations, best_score, best = hc(init_function, move_operator, objective_function, max_evaluations, history=history)\n",
    "    now = datetime.datetime.now()\n",
    "    print(\"computation time \", now - then)\n",
    "    print(\"best score:\", best_score)\n",
    "    print(\"best route:\", best)"
   ]
  },
  {
   "cell_type": "markdown",
   "metadata": {
    "slideshow": {
     "slide_type": "slide"
    }
   },
   "source": [
    "## Time to test it all out!"
   ]
  },
  {
   "cell_type": "code",
   "execution_count": null,
   "metadata": {
    "slideshow": {
     "slide_type": "subslide"
    }
   },
   "outputs": [],
   "source": [
    "move_operator = swapped_cities\n",
    "#move_operator = reversed_sections\n",
    "max_evaluations = 500\n",
    "#do_hc_evaluations(max_evaluations,move_operator) \n",
    "do_hc_evaluations(max_evaluations,move_operator, plot_slowdown=10e-3)"
   ]
  },
  {
   "cell_type": "code",
   "execution_count": null,
   "metadata": {
    "slideshow": {
     "slide_type": "subslide"
    }
   },
   "outputs": [],
   "source": [
    "move_operator = swapped_cities\n",
    "#move_operator = reversed_sections\n",
    "max_evaluations = 5000\n",
    "#do_hc_evaluations(max_evaluations,move_operator)\n",
    "do_hc_evaluations(max_evaluations,move_operator, plot_slowdown=50e-5)"
   ]
  },
  {
   "cell_type": "code",
   "execution_count": null,
   "metadata": {
    "slideshow": {
     "slide_type": "subslide"
    }
   },
   "outputs": [],
   "source": [
    "#move_operator = swapped_cities\n",
    "move_operator = reversed_sections\n",
    "max_evaluations = 5000\n",
    "do_hc_evaluations(max_evaluations,move_operator, plot_slowdown=50e-5)"
   ]
  },
  {
   "cell_type": "markdown",
   "metadata": {
    "slideshow": {
     "slide_type": "slide"
    }
   },
   "source": [
    "## Bonus: Helper Methods & Declarations"
   ]
  },
  {
   "cell_type": "markdown",
   "metadata": {
    "slideshow": {
     "slide_type": "fragment"
    }
   },
   "source": [
    "The following cells help deciding if an algorithm A is better than another algorithm B."
   ]
  },
  {
   "cell_type": "code",
   "execution_count": null,
   "metadata": {
    "slideshow": {
     "slide_type": "subslide"
    }
   },
   "outputs": [],
   "source": [
    "import time\n",
    "def get_reps(alg, n_reps, *args, **kwargs):\n",
    "    times = []\n",
    "    scores = []\n",
    "    for i in range(n_reps):\n",
    "        np.random.seed(i)\n",
    "        then = time.time()\n",
    "        num_evaluations, best_score, best = alg(*args, **kwargs)\n",
    "        now = time.time()\n",
    "        time_cost = now - then\n",
    "        times.append(time_cost)\n",
    "        scores.append(best_score)\n",
    "    return times, scores"
   ]
  },
  {
   "cell_type": "code",
   "execution_count": null,
   "metadata": {
    "slideshow": {
     "slide_type": "fragment"
    }
   },
   "outputs": [],
   "source": [
    "def a12(lst1,lst2,rev=True):\n",
    "    \"how often is x in lst1 better than y in lst2?\"\n",
    "    more = same = 0.0\n",
    "    for x in lst1:\n",
    "        for y in lst2:\n",
    "            if   x==y : same += 1\n",
    "            elif rev     and x > y : more += 1\n",
    "            elif not rev and x < y : more += 1\n",
    "    return (more + 0.5*same)  / (len(lst1)*len(lst2))"
   ]
  },
  {
   "cell_type": "code",
   "execution_count": null,
   "metadata": {
    "slideshow": {
     "slide_type": "fragment"
    }
   },
   "outputs": [],
   "source": [
    "# decrease these values for quicker results\n",
    "max_evaluations = 2000\n",
    "n_reps = 20"
   ]
  },
  {
   "cell_type": "code",
   "execution_count": null,
   "metadata": {
    "slideshow": {
     "slide_type": "subslide"
    }
   },
   "outputs": [],
   "source": [
    "hc_swapping_times, hc_swapping_scores = get_reps(hc, n_reps, init_function, swapped_cities, objective_function, max_evaluations)"
   ]
  },
  {
   "cell_type": "code",
   "execution_count": null,
   "metadata": {
    "slideshow": {
     "slide_type": "fragment"
    }
   },
   "outputs": [],
   "source": [
    "hc_reversing_times, hc_reversing_scores = get_reps(hc, n_reps, init_function, reversed_sections, objective_function, max_evaluations)"
   ]
  },
  {
   "cell_type": "code",
   "execution_count": null,
   "metadata": {
    "slideshow": {
     "slide_type": "fragment"
    }
   },
   "outputs": [],
   "source": [
    "import scipy.stats as sps\n",
    "from matplotlib import pyplot as plt\n",
    "def short_stats(a,b):\n",
    "    plt.hist(a, color=\"k\", label=\"first\")\n",
    "    plt.hist(b, color=\"r\", label=\"second\")\n",
    "    plt.legend()\n",
    "    _, p = sps.mannwhitneyu(a, b)\n",
    "    if p > 0.05:\n",
    "        print(\"No significant difference (p= {} > 0.05)\".format(p))\n",
    "    else:\n",
    "        print(\"Found significant difference with p={} (lower ist better)\".format(p))\n",
    "        chance = a12(a, b, rev=False)\n",
    "        print(\"First is better with chance {}\".format(chance))"
   ]
  },
  {
   "cell_type": "code",
   "execution_count": null,
   "metadata": {
    "slideshow": {
     "slide_type": "subslide"
    }
   },
   "outputs": [],
   "source": [
    "short_stats(hc_swapping_scores, hc_reversing_scores)"
   ]
  },
  {
   "cell_type": "markdown",
   "metadata": {
    "slideshow": {
     "slide_type": "slide"
    }
   },
   "source": [
    "## Next: your turn"
   ]
  }
 ],
 "metadata": {
  "celltoolbar": "Slideshow",
  "kernelspec": {
   "display_name": "myenv",
   "language": "python",
   "name": "myenv"
  },
  "language_info": {
   "codemirror_mode": {
    "name": "ipython",
    "version": 3
   },
   "file_extension": ".py",
   "mimetype": "text/x-python",
   "name": "python",
   "nbconvert_exporter": "python",
   "pygments_lexer": "ipython3",
   "version": "3.12.3"
  }
 },
 "nbformat": 4,
 "nbformat_minor": 4
}
